{
 "cells": [
  {
   "cell_type": "markdown",
   "metadata": {},
   "source": [
    "Method #1 : Using list comprehension + join()\n",
    "The list comprehension performs the task of iterating the entire list of tuples and join function performs the task of aggregating the elements of tuple into a one list."
   ]
  },
  {
   "cell_type": "code",
   "execution_count": 1,
   "metadata": {},
   "outputs": [
    {
     "name": "stdout",
     "output_type": "stream",
     "text": [
      "The original list is : [('G', 'E', 'E', 'K', 'S'), ('F', 'O', 'R'), ('G', 'E', 'E', 'K', 'S')]\n",
      "The list after conversion to list of string : ['GEEKS', 'FOR', 'GEEKS']\n"
     ]
    }
   ],
   "source": [
    "test_list = [('G', 'E', 'E', 'K', 'S'), ('F', 'O', 'R'), \n",
    "                              ('G', 'E', 'E', 'K', 'S')] \n",
    "  \n",
    "# printing the original list \n",
    "print (\"The original list is : \" + str(test_list)) \n",
    "  \n",
    "# using list comprehension + join() \n",
    "# conversion of list of tuple to list of list  \n",
    "res = [''.join(i) for i in test_list] \n",
    "  \n",
    "# printing result \n",
    "print (\"The list after conversion to list of string : \" + str(res)) \n"
   ]
  },
  {
   "cell_type": "markdown",
   "metadata": {},
   "source": [
    "Method #2 : Using map() + join()\n",
    "The task performed by the list comprehension can be performed by the map function which can perform extension of logic of one tuple to all tuple in list."
   ]
  },
  {
   "cell_type": "code",
   "execution_count": 2,
   "metadata": {},
   "outputs": [
    {
     "name": "stdout",
     "output_type": "stream",
     "text": [
      "The original list is : [('G', 'E', 'E', 'K', 'S'), ('F', 'O', 'R'), ('G', 'E', 'E', 'K', 'S')]\n",
      "The list after conversion to list of string : ['GEEKS', 'FOR', 'GEEKS']\n"
     ]
    }
   ],
   "source": [
    "# initializing list  \n",
    "test_list = [('G', 'E', 'E', 'K', 'S'), ('F', 'O', 'R'), \n",
    "                              ('G', 'E', 'E', 'K', 'S')] \n",
    "  \n",
    "# printing the original list \n",
    "print (\"The original list is : \" + str(test_list)) \n",
    "  \n",
    "# using map() + join() \n",
    "# conversion of list of tuple to list of list  \n",
    "res = list(map(''.join, test_list)) \n",
    "  \n",
    "# printing result \n",
    "print (\"The list after conversion to list of string : \" + str(res)) \n"
   ]
  }
 ],
 "metadata": {
  "kernelspec": {
   "display_name": "Python 3",
   "language": "python",
   "name": "python3"
  },
  "language_info": {
   "codemirror_mode": {
    "name": "ipython",
    "version": 3
   },
   "file_extension": ".py",
   "mimetype": "text/x-python",
   "name": "python",
   "nbconvert_exporter": "python",
   "pygments_lexer": "ipython3",
   "version": "3.7.6"
  }
 },
 "nbformat": 4,
 "nbformat_minor": 4
}
