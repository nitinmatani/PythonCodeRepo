{
 "cells": [
  {
   "cell_type": "markdown",
   "metadata": {},
   "source": [
    "Input : [['A'], ['A', 'B'], ['A', 'B', 'C']]\n",
    "Output : (['A', 'B', 'C'], 3)\n",
    "\n",
    "Input : [[1, 2, 3, 9, 4], [5], [3, 8], [2]]\n",
    "Output : ([1, 2, 3, 9, 4], 5)"
   ]
  },
  {
   "cell_type": "markdown",
   "metadata": {},
   "source": [
    "Approach #1 : Using for loop (Naive)\n",
    "This is a brute force method in which we iterate through each list item(list) and find the list with maximum length. Similarly, we use the for loop to find length of each list and output the maximum length."
   ]
  },
  {
   "cell_type": "code",
   "execution_count": 1,
   "metadata": {},
   "outputs": [
    {
     "name": "stdout",
     "output_type": "stream",
     "text": [
      "(['A', 'B', 'C'], 3)\n"
     ]
    }
   ],
   "source": [
    "def FindMaxLength(lst): \n",
    "    maxList = max((x) for x in lst) \n",
    "    maxLength = max(len(x) for x in lst ) \n",
    "  \n",
    "    return maxList, maxLength \n",
    "      \n",
    "# Driver Code \n",
    "lst = [['A'], ['A', 'B'], ['A', 'B', 'C']] \n",
    "print(FindMaxLength(lst)) "
   ]
  },
  {
   "cell_type": "markdown",
   "metadata": {},
   "source": [
    "Approach #2 : Using map\n",
    "In this method we use Python map function to iterate over the inner lists to create a list of lengths, then get the maximum with max function."
   ]
  },
  {
   "cell_type": "code",
   "execution_count": 2,
   "metadata": {},
   "outputs": [
    {
     "name": "stdout",
     "output_type": "stream",
     "text": [
      "(['A', 'B', 'C'], 3)\n"
     ]
    }
   ],
   "source": [
    "def FindMaxLength(lst): \n",
    "    maxList = max(lst, key = len) \n",
    "    maxLength = max(map(len, lst)) \n",
    "      \n",
    "    return maxList, maxLength \n",
    "  \n",
    "# Driver Code \n",
    "lst = [['A'], ['A', 'B'], ['A', 'B', 'C'], ] \n",
    "print(FindMaxLength(lst)) "
   ]
  },
  {
   "cell_type": "markdown",
   "metadata": {},
   "source": [
    "Approach #3 : Using lambda operator\n",
    "One more method in Python to find the longest length list is the lambda operator. It is used for creating small, one-time and anonymous function objects in Python. Here we pass a variable i as argument in the len(i) expression and find the maximum length."
   ]
  },
  {
   "cell_type": "code",
   "execution_count": 3,
   "metadata": {},
   "outputs": [
    {
     "name": "stdout",
     "output_type": "stream",
     "text": [
      "(['A', 'B', 'C'], 3)\n"
     ]
    }
   ],
   "source": [
    "def FindMaxLength(lst): \n",
    "    maxList = max(lst, key = lambda i: len(i)) \n",
    "    maxLength = len(maxList) \n",
    "      \n",
    "    return maxList, maxLength \n",
    "# Driver Code \n",
    "lst = [['A'], ['A', 'B'], ['A', 'B', 'C']] \n",
    "print(FindMaxLength(lst)) "
   ]
  }
 ],
 "metadata": {
  "kernelspec": {
   "display_name": "Python 3",
   "language": "python",
   "name": "python3"
  },
  "language_info": {
   "codemirror_mode": {
    "name": "ipython",
    "version": 3
   },
   "file_extension": ".py",
   "mimetype": "text/x-python",
   "name": "python",
   "nbconvert_exporter": "python",
   "pygments_lexer": "ipython3",
   "version": "3.7.6"
  }
 },
 "nbformat": 4,
 "nbformat_minor": 4
}
