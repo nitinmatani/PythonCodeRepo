{
 "cells": [
  {
   "cell_type": "markdown",
   "metadata": {},
   "source": [
    "a x b = LCM(a, b) * GCD (a, b)\n",
    "\n",
    "LCM(a, b) = (a x b) / GCD(a, b) "
   ]
  },
  {
   "cell_type": "code",
   "execution_count": 1,
   "metadata": {},
   "outputs": [
    {
     "name": "stdout",
     "output_type": "stream",
     "text": [
      "LCM of 15 and 20 is 60.0\n"
     ]
    }
   ],
   "source": [
    "def gcd(a,b): \n",
    "    if a == 0: \n",
    "        return b \n",
    "    return gcd(b % a, a) \n",
    "  \n",
    "# Function to return LCM of two numbers \n",
    "def lcm(a,b): \n",
    "    return (a*b) / gcd(a,b) \n",
    "  \n",
    "# Driver program to test above function \n",
    "a = 15 \n",
    "b = 20\n",
    "print('LCM of', a, 'and', b, 'is', lcm(a, b)) \n",
    "  "
   ]
  }
 ],
 "metadata": {
  "kernelspec": {
   "display_name": "Python 3",
   "language": "python",
   "name": "python3"
  },
  "language_info": {
   "codemirror_mode": {
    "name": "ipython",
    "version": 3
   },
   "file_extension": ".py",
   "mimetype": "text/x-python",
   "name": "python",
   "nbconvert_exporter": "python",
   "pygments_lexer": "ipython3",
   "version": "3.7.6"
  }
 },
 "nbformat": 4,
 "nbformat_minor": 4
}
