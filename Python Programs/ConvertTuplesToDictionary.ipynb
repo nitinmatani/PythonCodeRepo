{
 "cells": [
  {
   "cell_type": "markdown",
   "metadata": {},
   "source": [
    "Method #1 : Using Dictionary Comprehension\n",
    "This task can be performed using the dictionary comprehension in which we can iterate through the key and value tuple simultaneously using enumerate() and construct the desired dictionary."
   ]
  },
  {
   "cell_type": "code",
   "execution_count": 1,
   "metadata": {},
   "outputs": [
    {
     "name": "stdout",
     "output_type": "stream",
     "text": [
      "The original key tuple is : ('GFG', 'is', 'best')\n",
      "The original value tuple is : (1, 2, 3)\n",
      "Dictionary constructed from tuples : {'GFG': 1, 'is': 2, 'best': 3}\n"
     ]
    }
   ],
   "source": [
    "test_tup1 = ('GFG', 'is', 'best') \n",
    "test_tup2 = (1, 2, 3) \n",
    "  \n",
    "# printing original tuples \n",
    "print(\"The original key tuple is : \" + str(test_tup1)) \n",
    "print(\"The original value tuple is : \" + str(test_tup2)) \n",
    "  \n",
    "# Using Dictionary Comprehension \n",
    "# Convert Tuples to Dictionary \n",
    "res = {test_tup1[i] : test_tup2[i] for i, _ in enumerate(test_tup2)} \n",
    "  \n",
    "# printing result  \n",
    "print(\"Dictionary constructed from tuples : \" + str(res))"
   ]
  },
  {
   "cell_type": "code",
   "execution_count": 2,
   "metadata": {},
   "outputs": [
    {
     "name": "stdout",
     "output_type": "stream",
     "text": [
      "The original key tuple is : ('GFG', 'is', 'best')\n",
      "The original value tuple is : (1, 2, 3)\n",
      "Dictionary constructed from tuples : {'GFG': 1, 'is': 2, 'best': 3}\n"
     ]
    }
   ],
   "source": [
    "#Method #2 : Using zip() + dict()\n",
    "test_tup1 = ('GFG', 'is', 'best') \n",
    "test_tup2 = (1, 2, 3) \n",
    "  \n",
    "# printing original tuples \n",
    "print(\"The original key tuple is : \" + str(test_tup1)) \n",
    "print(\"The original value tuple is : \" + str(test_tup2)) \n",
    "  \n",
    "# Using zip() + dict() \n",
    "# Convert Tuples to Dictionary \n",
    "res = dict(zip(test_tup1, test_tup2)) \n",
    "  \n",
    "# printing result  \n",
    "print(\"Dictionary constructed from tuples : \" + str(res))"
   ]
  },
  {
   "cell_type": "code",
   "execution_count": null,
   "metadata": {},
   "outputs": [],
   "source": []
  }
 ],
 "metadata": {
  "kernelspec": {
   "display_name": "Python 3",
   "language": "python",
   "name": "python3"
  },
  "language_info": {
   "codemirror_mode": {
    "name": "ipython",
    "version": 3
   },
   "file_extension": ".py",
   "mimetype": "text/x-python",
   "name": "python",
   "nbconvert_exporter": "python",
   "pygments_lexer": "ipython3",
   "version": "3.7.6"
  }
 },
 "nbformat": 4,
 "nbformat_minor": 4
}
