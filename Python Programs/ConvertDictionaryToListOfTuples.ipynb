{
 "cells": [
  {
   "cell_type": "markdown",
   "metadata": {},
   "source": [
    "Input: { 'Geeks': 10, 'for': 12, 'Geek': 31 }\n",
    "Output : [ ('Geeks', 10), ('for', 12), ('Geek', 31) ]\n",
    "\n",
    "Input: { 'dict': 11, 'to': 22, 'list_of_tup': 33}\n",
    "Output : [ ('dict', 11), ('to', 22), ('list_of_tup', 33) ]"
   ]
  },
  {
   "cell_type": "code",
   "execution_count": 2,
   "metadata": {},
   "outputs": [
    {
     "name": "stdout",
     "output_type": "stream",
     "text": [
      "[('Geeks', 10), ('for', 12), ('Geek', 31)]\n"
     ]
    }
   ],
   "source": [
    "#Method #1 : Using list comprehension\n",
    "# Initialization of dictionary \n",
    "dict = { 'Geeks': 10, 'for': 12, 'Geek': 31 } \n",
    "  \n",
    "# Converting into list of tuple \n",
    "list = [(k, v) for k, v in dict.items()] \n",
    "  \n",
    "# Printing list of tuple \n",
    "print(list) "
   ]
  },
  {
   "cell_type": "code",
   "execution_count": null,
   "metadata": {},
   "outputs": [],
   "source": [
    "#Using items()\n",
    "# Initialization of dictionary \n",
    "dict = { 'Geeks': 10, 'for': 12, 'Geek': 31 } \n",
    "  \n",
    "# Converting into list of tuple \n",
    "list = list(dict.items()) \n",
    "  \n",
    "# Printing list of tuple \n",
    "print(list) "
   ]
  },
  {
   "cell_type": "code",
   "execution_count": null,
   "metadata": {},
   "outputs": [],
   "source": [
    "#Using zip\n",
    "dict = { 'Geeks': 10, 'for': 12, 'Geek': 31 } \n",
    "  \n",
    "# Using zip \n",
    "listt = zip(dict.keys(), dict.values()) \n",
    "  \n",
    "# Converting from zip object to list object \n",
    "listt = list(listt) \n",
    "  \n",
    "# Printing list \n",
    "print(listt) "
   ]
  },
  {
   "cell_type": "code",
   "execution_count": 9,
   "metadata": {},
   "outputs": [
    {
     "name": "stdout",
     "output_type": "stream",
     "text": [
      "[('Geeks', 10), ('for', 12), ('Geek', 31)]\n"
     ]
    }
   ],
   "source": [
    "#Method #4 : Using iteration\n",
    "# Initialization of dictionary \n",
    "dict = { 'Geeks': 10, 'for': 12, 'Geek': 31 } \n",
    "  \n",
    "# Initialization of empty list \n",
    "list = [] \n",
    "  \n",
    "# Iteration \n",
    "for i in dict: \n",
    "   k = (i, dict[i]) \n",
    "   list.append(k) \n",
    "  \n",
    "# Printing list \n",
    "print(list) "
   ]
  },
  {
   "cell_type": "code",
   "execution_count": null,
   "metadata": {},
   "outputs": [],
   "source": [
    "dict = { 'Geeks': 10, 'for': 12, 'Geek': 31 } \n",
    "  \n",
    "# Importing \n",
    "import collections \n",
    "  \n",
    "# Converting \n",
    "list_of_tuple = collections.namedtuple('List', 'name value') \n",
    "  \n",
    "lists = list(list_of_tuple(*item) for item in dict.items()) \n",
    "  \n",
    "# Printing list \n",
    "print(lists) "
   ]
  }
 ],
 "metadata": {
  "kernelspec": {
   "display_name": "Python 3",
   "language": "python",
   "name": "python3"
  },
  "language_info": {
   "codemirror_mode": {
    "name": "ipython",
    "version": 3
   },
   "file_extension": ".py",
   "mimetype": "text/x-python",
   "name": "python",
   "nbconvert_exporter": "python",
   "pygments_lexer": "ipython3",
   "version": "3.7.6"
  }
 },
 "nbformat": 4,
 "nbformat_minor": 4
}
