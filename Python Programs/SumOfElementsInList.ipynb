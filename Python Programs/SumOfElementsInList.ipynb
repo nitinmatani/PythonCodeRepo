{
 "cells": [
  {
   "cell_type": "code",
   "execution_count": 1,
   "metadata": {},
   "outputs": [
    {
     "name": "stdout",
     "output_type": "stream",
     "text": [
      "Sum of all elements in given list:  74\n"
     ]
    }
   ],
   "source": [
    "total = 0\n",
    "  \n",
    "# creating a list \n",
    "list1 = [11, 5, 17, 18, 23]  \n",
    "  \n",
    "# Iterate each element in list \n",
    "# and add them in variale total \n",
    "for ele in range(0, len(list1)): \n",
    "    total = total + list1[ele] \n",
    "  \n",
    "# printing total value \n",
    "print(\"Sum of all elements in given list: \", total) "
   ]
  },
  {
   "cell_type": "code",
   "execution_count": 2,
   "metadata": {},
   "outputs": [
    {
     "name": "stdout",
     "output_type": "stream",
     "text": [
      "Sum of all elements in given list:  74\n"
     ]
    }
   ],
   "source": [
    "total = 0\n",
    "ele = 0\n",
    "  \n",
    "# creating a list \n",
    "list1 = [11, 5, 17, 18, 23]  \n",
    "  \n",
    "# Iterate each element in list \n",
    "# and add them in variale total \n",
    "while(ele < len(list1)): \n",
    "    total = total + list1[ele] \n",
    "    ele += 1\n",
    "      \n",
    "# printing total value \n",
    "print(\"Sum of all elements in given list: \", total)"
   ]
  },
  {
   "cell_type": "code",
   "execution_count": 3,
   "metadata": {},
   "outputs": [
    {
     "name": "stdout",
     "output_type": "stream",
     "text": [
      "Sum of all elements in given list:  74\n"
     ]
    }
   ],
   "source": [
    "# elements in list using recursion \n",
    "  \n",
    "# creating a list \n",
    "list1 = [11, 5, 17, 18, 23] \n",
    "  \n",
    "# creating sum_list function \n",
    "def sumOfList(list, size): \n",
    "   if (size == 0): \n",
    "     return 0\n",
    "   else: \n",
    "     return list[size - 1] + sumOfList(list, size - 1) \n",
    "   \n",
    "# Driver code      \n",
    "total = sumOfList(list1, len(list1)) \n",
    "  \n",
    "print(\"Sum of all elements in given list: \", total) "
   ]
  },
  {
   "cell_type": "code",
   "execution_count": 4,
   "metadata": {},
   "outputs": [
    {
     "name": "stdout",
     "output_type": "stream",
     "text": [
      "Sum of all elements in given list:  74\n"
     ]
    }
   ],
   "source": [
    "# creating a list \n",
    "list1 = [11, 5, 17, 18, 23] \n",
    "  \n",
    "# using sum() function \n",
    "total = sum(list1) \n",
    "  \n",
    "# printing total value \n",
    "print(\"Sum of all elements in given list: \", total) "
   ]
  }
 ],
 "metadata": {
  "kernelspec": {
   "display_name": "Python 3",
   "language": "python",
   "name": "python3"
  },
  "language_info": {
   "codemirror_mode": {
    "name": "ipython",
    "version": 3
   },
   "file_extension": ".py",
   "mimetype": "text/x-python",
   "name": "python",
   "nbconvert_exporter": "python",
   "pygments_lexer": "ipython3",
   "version": "3.7.6"
  }
 },
 "nbformat": 4,
 "nbformat_minor": 4
}
