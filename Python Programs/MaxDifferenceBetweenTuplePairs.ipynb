{
 "cells": [
  {
   "cell_type": "markdown",
   "metadata": {},
   "source": [
    "Method #1 : Using max() + list comprehension\n",
    "The combination of this functions can be used to perform this task. In this, we compute the absolute difference of all pairs and then return the max of it using"
   ]
  },
  {
   "cell_type": "code",
   "execution_count": 1,
   "metadata": {},
   "outputs": [
    {
     "name": "stdout",
     "output_type": "stream",
     "text": [
      "The original list : [(3, 5), (1, 7), (10, 3), (1, 2)]\n",
      "Maximum difference among pairs : 7\n"
     ]
    }
   ],
   "source": [
    "# initialize list \n",
    "test_list = [(3, 5), (1, 7), (10, 3), (1, 2)] \n",
    "  \n",
    "# printing original list  \n",
    "print(\"The original list : \" + str(test_list)) \n",
    "  \n",
    "# Maximum difference tuple pair  \n",
    "# Using list comprehension + max() \n",
    "temp = [abs(b - a) for a, b in test_list] \n",
    "res = max(temp) \n",
    "  \n",
    "# printing result \n",
    "print(\"Maximum difference among pairs : \" + str(res)) "
   ]
  },
  {
   "cell_type": "markdown",
   "metadata": {},
   "source": [
    "Method #2 : Using max() + lambda\n",
    "This is similar to above method. In this the task performed by list comprehension is solved using lambda function, providing the difference computation logic. Returns the max. difference pair."
   ]
  },
  {
   "cell_type": "code",
   "execution_count": 2,
   "metadata": {},
   "outputs": [
    {
     "name": "stdout",
     "output_type": "stream",
     "text": [
      "The original list : [(3, 5), (1, 7), (10, 3), (1, 2)]\n",
      "Maximum difference among pairs : (10, 3)\n"
     ]
    }
   ],
   "source": [
    "# initialize list \n",
    "test_list = [(3, 5), (1, 7), (10, 3), (1, 2)] \n",
    "  \n",
    "# printing original list  \n",
    "print(\"The original list : \" + str(test_list)) \n",
    "  \n",
    "# Maximum difference tuple pair  \n",
    "# Using lambda + max() \n",
    "res = max(test_list, key = lambda sub: abs(sub[1] - sub[0])) \n",
    "  \n",
    "# printing result \n",
    "print(\"Maximum difference among pairs : \" + str(res)) "
   ]
  },
  {
   "cell_type": "code",
   "execution_count": null,
   "metadata": {},
   "outputs": [],
   "source": []
  }
 ],
 "metadata": {
  "kernelspec": {
   "display_name": "Python 3",
   "language": "python",
   "name": "python3"
  },
  "language_info": {
   "codemirror_mode": {
    "name": "ipython",
    "version": 3
   },
   "file_extension": ".py",
   "mimetype": "text/x-python",
   "name": "python",
   "nbconvert_exporter": "python",
   "pygments_lexer": "ipython3",
   "version": "3.7.6"
  }
 },
 "nbformat": 4,
 "nbformat_minor": 4
}
