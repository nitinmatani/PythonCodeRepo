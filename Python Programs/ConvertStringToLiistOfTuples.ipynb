{
 "cells": [
  {
   "cell_type": "code",
   "execution_count": 1,
   "metadata": {},
   "outputs": [
    {
     "name": "stdout",
     "output_type": "stream",
     "text": [
      "The original string : GFG is best Computer Science Portal\n",
      "List after String to tuple conversion : [('GFG', 'is'), ('best', 'Computer'), ('Science', 'Portal')]\n"
     ]
    }
   ],
   "source": [
    "#Method #1 : Using zip() + split() + list slicing\n",
    "# initialize string  \n",
    "test_string = \"GFG is best Computer Science Portal\"\n",
    "  \n",
    "# printing original string  \n",
    "print(\"The original string : \" + str(test_string)) \n",
    "  \n",
    "# Convert String to list of tuples \n",
    "# Using zip() + list slicing + split() \n",
    "temp = test_string.split() \n",
    "res = list(zip(temp[::2], temp[1::2])) \n",
    "  \n",
    "# printing result \n",
    "print(\"List after String to tuple conversion : \" + str(res)) "
   ]
  },
  {
   "cell_type": "code",
   "execution_count": 2,
   "metadata": {},
   "outputs": [
    {
     "name": "stdout",
     "output_type": "stream",
     "text": [
      "The original string : GFG is best Computer Science Portal\n",
      "List after String to tuple conversion : [('GFG', 'is'), ('best', 'Computer'), ('Science', 'Portal')]\n"
     ]
    }
   ],
   "source": [
    "#Method #2 : Using iter() + split() + next() + generator expression\n",
    "# initialize string  \n",
    "test_string = \"GFG is best Computer Science Portal\"\n",
    "  \n",
    "# printing original string  \n",
    "print(\"The original string : \" + str(test_string)) \n",
    "  \n",
    "# Convert String to list of tuples \n",
    "# Using iter() + split() + next() + generator expression \n",
    "temp = iter(test_string.split()) \n",
    "res = [(ele, next(temp)) for ele in temp] \n",
    "  \n",
    "# printing result \n",
    "print(\"List after String to tuple conversion : \" + str(res)) "
   ]
  },
  {
   "cell_type": "code",
   "execution_count": 3,
   "metadata": {},
   "outputs": [
    {
     "name": "stdout",
     "output_type": "stream",
     "text": [
      "GFG\n",
      "best\n",
      "Science\n"
     ]
    }
   ],
   "source": [
    "test_string = \"GFG is best Computer Science Portal\"\n",
    "temp = iter(test_string.split()) \n",
    "for ele in temp:\n",
    "    print(ele)\n",
    "    next(temp)\n",
    "    "
   ]
  },
  {
   "cell_type": "code",
   "execution_count": null,
   "metadata": {},
   "outputs": [],
   "source": []
  }
 ],
 "metadata": {
  "kernelspec": {
   "display_name": "Python 3",
   "language": "python",
   "name": "python3"
  },
  "language_info": {
   "codemirror_mode": {
    "name": "ipython",
    "version": 3
   },
   "file_extension": ".py",
   "mimetype": "text/x-python",
   "name": "python",
   "nbconvert_exporter": "python",
   "pygments_lexer": "ipython3",
   "version": "3.7.6"
  }
 },
 "nbformat": 4,
 "nbformat_minor": 4
}
