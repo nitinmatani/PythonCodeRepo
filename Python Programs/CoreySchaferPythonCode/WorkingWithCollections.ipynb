{
 "cells": [
  {
   "cell_type": "code",
   "execution_count": 15,
   "metadata": {},
   "outputs": [
    {
     "output_type": "stream",
     "name": "stdout",
     "text": "['History', 'Maths', 1, 'Computer Science']\n4\nMaths\nComputer Science\n['History', 'Maths']\n['History', 'Maths']\n[1, 'Computer Science']\n"
    }
   ],
   "source": [
    "#List  Mutable\n",
    "\n",
    "courses=['History','Maths','Science','Computer Science']\n",
    "print(courses)\n",
    "print(len(courses))\n",
    "print(courses[1])\n",
    "print(courses[-1])\n",
    "print(courses[0:2])\n",
    "print(courses[:2])\n",
    "print(courses[2:])"
   ]
  },
  {
   "cell_type": "code",
   "execution_count": 7,
   "metadata": {},
   "outputs": [
    {
     "name": "stdout",
     "output_type": "stream",
     "text": [
      "['History', 'Maths', 'Science', 'Computer Science', 'Art']\n"
     ]
    }
   ],
   "source": [
    "courses.append('Art')\n",
    "print(courses)"
   ]
  },
  {
   "cell_type": "code",
   "execution_count": 13,
   "metadata": {},
   "outputs": [
    {
     "name": "stdout",
     "output_type": "stream",
     "text": [
      "['Art', 'Art', 'Art', 'Art', 'History', 'Maths', 'Science', 'Computer Science', 'Art']\n"
     ]
    }
   ],
   "source": [
    "courses.insert(0,'Art')\n",
    "print(courses)"
   ]
  },
  {
   "cell_type": "code",
   "execution_count": 19,
   "metadata": {},
   "outputs": [
    {
     "name": "stdout",
     "output_type": "stream",
     "text": [
      "[['Geo', 'Commerce'], ['Geo', 'Commerce'], ['Geo', 'Commerce'], 'Art', 'Art', 'Art', 'History', 'Maths', 'Science', 'Computer Science', 'Art']\n",
      "['Geo', 'Commerce']\n"
     ]
    }
   ],
   "source": [
    "courses2=['Geo','Commerce']\n",
    "courses.insert(0,courses2)\n",
    "print(courses)\n",
    "print(courses[0])"
   ]
  },
  {
   "cell_type": "code",
   "execution_count": 21,
   "metadata": {},
   "outputs": [
    {
     "name": "stdout",
     "output_type": "stream",
     "text": [
      "['History', 'Maths', 'Science', 'Computer Science', 'Geo', 'Commerce']\n"
     ]
    }
   ],
   "source": [
    "courses3=['History','Maths','Science','Computer Science']\n",
    "courses2=['Geo','Commerce']\n",
    "courses3.extend(courses2)\n",
    "print(courses3)"
   ]
  },
  {
   "cell_type": "code",
   "execution_count": 22,
   "metadata": {},
   "outputs": [
    {
     "name": "stdout",
     "output_type": "stream",
     "text": [
      "['History', 'Maths', 'Science', 'Computer Science', ['Geo', 'Commerce']]\n"
     ]
    }
   ],
   "source": [
    "courses3=['History','Maths','Science','Computer Science']\n",
    "courses2=['Geo','Commerce']\n",
    "courses3.append(courses2)\n",
    "print(courses3)"
   ]
  },
  {
   "cell_type": "code",
   "execution_count": 23,
   "metadata": {},
   "outputs": [
    {
     "name": "stdout",
     "output_type": "stream",
     "text": [
      "['History', 'Science', 'Computer Science']\n"
     ]
    }
   ],
   "source": [
    "courses3=['History','Maths','Science','Computer Science']\n",
    "courses3.remove('Maths')\n",
    "print(courses3)"
   ]
  },
  {
   "cell_type": "code",
   "execution_count": 2,
   "metadata": {},
   "outputs": [
    {
     "output_type": "stream",
     "name": "stdout",
     "text": "Computer Science\n['History', 'Maths', 'Science']\n"
    }
   ],
   "source": [
    "courses3=['History','Maths','Science','Computer Science']\n",
    "popped=courses3.pop()\n",
    "print(popped)\n",
    "print(courses3)\n"
   ]
  },
  {
   "cell_type": "code",
   "execution_count": 25,
   "metadata": {},
   "outputs": [
    {
     "name": "stdout",
     "output_type": "stream",
     "text": [
      "['Computer Science', 'Science', 'Maths', 'History']\n"
     ]
    }
   ],
   "source": [
    "courses3=['History','Maths','Science','Computer Science']\n",
    "courses3.reverse()\n",
    "print(courses3)"
   ]
  },
  {
   "cell_type": "code",
   "execution_count": 27,
   "metadata": {},
   "outputs": [
    {
     "name": "stdout",
     "output_type": "stream",
     "text": [
      "['Computer Science', 'History', 'Maths', 'Science']\n",
      "['Science', 'Maths', 'History', 'Computer Science']\n"
     ]
    }
   ],
   "source": [
    "courses3=['History','Maths','Science','Computer Science']\n",
    "courses3.sort()\n",
    "print(courses3)\n",
    "courses3.sort(reverse=True)\n",
    "print(courses3)"
   ]
  },
  {
   "cell_type": "code",
   "execution_count": 29,
   "metadata": {},
   "outputs": [
    {
     "name": "stdout",
     "output_type": "stream",
     "text": [
      "['History', 'Maths', 'Science', 'Computer Science']\n",
      "['Computer Science', 'History', 'Maths', 'Science']\n"
     ]
    }
   ],
   "source": [
    "courses3=['History','Maths','Science','Computer Science']\n",
    "sorted_courses=sorted(courses3)\n",
    "print(courses3)\n",
    "print(sorted_courses)"
   ]
  },
  {
   "cell_type": "code",
   "execution_count": 32,
   "metadata": {},
   "outputs": [
    {
     "name": "stdout",
     "output_type": "stream",
     "text": [
      "1\n",
      "5\n",
      "15\n"
     ]
    }
   ],
   "source": [
    "num=[1,2,3,4,5]\n",
    "print(min(num))\n",
    "print(max(num))\n",
    "print(sum(num))"
   ]
  },
  {
   "cell_type": "code",
   "execution_count": 34,
   "metadata": {},
   "outputs": [
    {
     "name": "stdout",
     "output_type": "stream",
     "text": [
      "1\n",
      "True\n"
     ]
    }
   ],
   "source": [
    "courses3=['History','Maths','Science','Computer Science']\n",
    "print(courses3.index('Maths'))\n",
    "print('Maths' in courses3)"
   ]
  },
  {
   "cell_type": "code",
   "execution_count": 35,
   "metadata": {},
   "outputs": [
    {
     "name": "stdout",
     "output_type": "stream",
     "text": [
      "0 History\n",
      "1 Maths\n",
      "2 Science\n",
      "3 Computer Science\n"
     ]
    }
   ],
   "source": [
    "courses3=['History','Maths','Science','Computer Science']\n",
    "for index,course in enumerate(courses3):\n",
    "    print(index,course)\n",
    "    "
   ]
  },
  {
   "cell_type": "code",
   "execution_count": 36,
   "metadata": {},
   "outputs": [
    {
     "name": "stdout",
     "output_type": "stream",
     "text": [
      "1 History\n",
      "2 Maths\n",
      "3 Science\n",
      "4 Computer Science\n"
     ]
    }
   ],
   "source": [
    "courses3=['History','Maths','Science','Computer Science']\n",
    "for index,course in enumerate(courses3,start=1):\n",
    "    print(index,course)"
   ]
  },
  {
   "cell_type": "code",
   "execution_count": 39,
   "metadata": {},
   "outputs": [
    {
     "name": "stdout",
     "output_type": "stream",
     "text": [
      "History - Maths - Science - Computer Science\n"
     ]
    }
   ],
   "source": [
    "courses3=['History','Maths','Science','Computer Science']\n",
    "course_str=' - '.join(courses3)\n",
    "print(course_str)"
   ]
  },
  {
   "cell_type": "code",
   "execution_count": 40,
   "metadata": {},
   "outputs": [
    {
     "name": "stdout",
     "output_type": "stream",
     "text": [
      "['History', 'Maths', 'Science', 'Computer Science']\n"
     ]
    }
   ],
   "source": [
    "new_list=course_str.split(' - ')\n",
    "print(new_list)"
   ]
  },
  {
   "cell_type": "code",
   "execution_count": 11,
   "metadata": {},
   "outputs": [
    {
     "output_type": "stream",
     "name": "stdout",
     "text": "('History', 'Maths', 'Science', 'Computer Science')\n('History', 'Maths', 'Science', 'Computer Science')\n"
    }
   ],
   "source": [
    "#Tuples   They are immutable\n",
    "tuple_1=('History','Maths','Science','Computer Science')\n",
    "tuple_2=tuple_1\n",
    "print(tuple_1)\n",
    "print(tuple_2)\n",
    "#The below will throw error as tuple is immutable\n",
    "# tuple_1[0]='Art'\n",
    "# print(tuple_1)\n",
    "# print(tuple_2)"
   ]
  },
  {
   "cell_type": "code",
   "execution_count": null,
   "metadata": {},
   "outputs": [],
   "source": []
  },
  {
   "cell_type": "code",
   "execution_count": 13,
   "metadata": {},
   "outputs": [
    {
     "output_type": "stream",
     "name": "stdout",
     "text": "{'Science', 'History', 'Maths', 'Computer Science'}\n"
    }
   ],
   "source": [
    "#Sets  unordered and doesnt allow duplicate\n",
    "\n",
    "cs_courses={'History','Maths','Science','Computer Science'}\n",
    "\n",
    "print(cs_courses)"
   ]
  },
  {
   "cell_type": "code",
   "execution_count": 45,
   "metadata": {},
   "outputs": [
    {
     "name": "stdout",
     "output_type": "stream",
     "text": [
      "{'Maths', 'Science', 'Computer Science', 'History'}\n",
      "True\n"
     ]
    }
   ],
   "source": [
    "cs_courses={'History','Maths','Science','Computer Science','History'}\n",
    "print(cs_courses)\n",
    "print('Maths' in cs_courses)   #Sets are optimized for this search operation compared to List and Tuples"
   ]
  },
  {
   "cell_type": "code",
   "execution_count": 14,
   "metadata": {},
   "outputs": [
    {
     "output_type": "stream",
     "name": "stdout",
     "text": "{'History', 'Maths'}\n{'Science', 'Computer Science'}\n{'History', 'Computer Science', 'Maths', 'Design', 'Art', 'Science'}\n"
    }
   ],
   "source": [
    "cs_courses={'History','Maths','Science','Computer Science'}\n",
    "ar_courses={'History','Maths','Art','Design'}\n",
    "print(cs_courses.intersection(ar_courses))\n",
    "print(cs_courses.difference(ar_courses))\n",
    "print(cs_courses.union(ar_courses))\n",
    "\n"
   ]
  },
  {
   "cell_type": "code",
   "execution_count": null,
   "metadata": {},
   "outputs": [],
   "source": []
  },
  {
   "cell_type": "code",
   "execution_count": 51,
   "metadata": {},
   "outputs": [],
   "source": [
    "#Empty List\n",
    "empty_list=[]\n",
    "empty_list=list()\n",
    "\n",
    "#Empty Tuples\n",
    "empty_tuple=()\n",
    "empty_tuple=tuple()\n",
    "\n",
    "#Empty Sets\n",
    "empty_set={}  #This isnt right .Its a dict\n",
    "empty_set=set()\n"
   ]
  },
  {
   "cell_type": "code",
   "execution_count": 52,
   "metadata": {},
   "outputs": [
    {
     "name": "stdout",
     "output_type": "stream",
     "text": [
      "{'name': 'Nitin', 'age': 31, 'courses': ['Maths', 'Science']}\n"
     ]
    }
   ],
   "source": [
    "#Dictionary\n",
    "student={'name':'Nitin','age':31,'courses':['Maths','Science']}\n",
    "print(student)\n"
   ]
  },
  {
   "cell_type": "code",
   "execution_count": 57,
   "metadata": {},
   "outputs": [
    {
     "name": "stdout",
     "output_type": "stream",
     "text": [
      "Nitin\n",
      "31\n",
      "None\n",
      "Not Found\n"
     ]
    }
   ],
   "source": [
    "print(student['name'])\n",
    "print(student.get('age'))\n",
    "print(student.get('phone'))\n",
    "print(student.get('phone','Not Found'))"
   ]
  },
  {
   "cell_type": "code",
   "execution_count": 58,
   "metadata": {},
   "outputs": [
    {
     "name": "stdout",
     "output_type": "stream",
     "text": [
      "555-555\n"
     ]
    }
   ],
   "source": [
    "student['phone']='555-555'\n",
    "print(student.get('phone','Not Found'))"
   ]
  },
  {
   "cell_type": "code",
   "execution_count": 59,
   "metadata": {},
   "outputs": [
    {
     "name": "stdout",
     "output_type": "stream",
     "text": [
      "{'name': 'Nikita', 'age': 31, 'courses': ['Maths', 'Science'], 'phone': '555-555'}\n"
     ]
    }
   ],
   "source": [
    "student['name']='Nikita'\n",
    "print(student)"
   ]
  },
  {
   "cell_type": "code",
   "execution_count": 60,
   "metadata": {},
   "outputs": [
    {
     "name": "stdout",
     "output_type": "stream",
     "text": [
      "{'name': 'Vicky', 'age': 27, 'courses': ['Maths', 'Science'], 'phone': '555-555'}\n"
     ]
    }
   ],
   "source": [
    "student.update({'name':'Vicky','age':27})\n",
    "print(student)"
   ]
  },
  {
   "cell_type": "code",
   "execution_count": 61,
   "metadata": {},
   "outputs": [],
   "source": [
    "del student['phone']"
   ]
  },
  {
   "cell_type": "code",
   "execution_count": 62,
   "metadata": {},
   "outputs": [
    {
     "name": "stdout",
     "output_type": "stream",
     "text": [
      "{'name': 'Vicky', 'age': 27, 'courses': ['Maths', 'Science']}\n"
     ]
    }
   ],
   "source": [
    "print(student)"
   ]
  },
  {
   "cell_type": "code",
   "execution_count": 63,
   "metadata": {},
   "outputs": [
    {
     "name": "stdout",
     "output_type": "stream",
     "text": [
      "{'name': 'Vicky', 'courses': ['Maths', 'Science']}\n",
      "27\n"
     ]
    }
   ],
   "source": [
    "age=student.pop('age')\n",
    "print(student)\n",
    "print(age)"
   ]
  },
  {
   "cell_type": "code",
   "execution_count": 19,
   "metadata": {},
   "outputs": [
    {
     "output_type": "stream",
     "name": "stdout",
     "text": "3\ndict_keys(['name', 'age', 'courses'])\ndict_values(['Nitin', 31, ['Maths', 'Science']])\ndict_items([('name', 'Nitin'), ('age', 31), ('courses', ['Maths', 'Science'])])\n"
    }
   ],
   "source": [
    "student={'name':'Nitin','age':31,'courses':['Maths','Science']}\n",
    "print(len(student))\n",
    "print(student.keys())\n",
    "print(student.values())\n",
    "print(student.items())"
   ]
  },
  {
   "cell_type": "code",
   "execution_count": 20,
   "metadata": {},
   "outputs": [
    {
     "output_type": "stream",
     "name": "stdout",
     "text": "name\nage\ncourses\n"
    }
   ],
   "source": [
    "for key in student:\n",
    "    print(key)"
   ]
  },
  {
   "cell_type": "code",
   "execution_count": 21,
   "metadata": {},
   "outputs": [
    {
     "output_type": "stream",
     "name": "stdout",
     "text": "name Nitin\nage 31\ncourses ['Maths', 'Science']\n"
    }
   ],
   "source": [
    "for key,value in student.items():\n",
    "    print(key,value)"
   ]
  },
  {
   "cell_type": "code",
   "execution_count": null,
   "metadata": {},
   "outputs": [],
   "source": []
  }
 ],
 "metadata": {
  "kernelspec": {
   "display_name": "Python 3",
   "language": "python",
   "name": "python3"
  },
  "language_info": {
   "codemirror_mode": {
    "name": "ipython",
    "version": 3
   },
   "file_extension": ".py",
   "mimetype": "text/x-python",
   "name": "python",
   "nbconvert_exporter": "python",
   "pygments_lexer": "ipython3",
   "version": "3.7.6-final"
  }
 },
 "nbformat": 4,
 "nbformat_minor": 4
}