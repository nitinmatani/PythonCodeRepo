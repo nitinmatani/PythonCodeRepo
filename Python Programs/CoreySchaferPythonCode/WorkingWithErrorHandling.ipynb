{
 "cells": [
  {
   "cell_type": "code",
   "execution_count": null,
   "metadata": {},
   "outputs": [],
   "source": [
    "try:\n",
    "    f = open('curruptfile.txt')\n",
    "    # if f.name == 'currupt_file.txt':\n",
    "    #     raise Exception\n",
    "except IOError as e:\n",
    "    print('First!')\n",
    "except Exception as e:\n",
    "    print('Second')\n",
    "else:\n",
    "    print(f.read())\n",
    "    f.close()\n",
    "finally:\n",
    "    print(\"Executing Finally...\")\n",
    "\n",
    "print('End of program')"
   ]
  }
 ],
 "metadata": {
  "language_info": {
   "codemirror_mode": {
    "name": "ipython",
    "version": 3
   },
   "file_extension": ".py",
   "mimetype": "text/x-python",
   "name": "python",
   "nbconvert_exporter": "python",
   "pygments_lexer": "ipython3",
   "version": 3
  },
  "orig_nbformat": 2
 },
 "nbformat": 4,
 "nbformat_minor": 2
}