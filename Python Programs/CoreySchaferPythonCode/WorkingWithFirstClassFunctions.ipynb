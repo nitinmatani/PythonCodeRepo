{
 "cells": [
  {
   "cell_type": "code",
   "execution_count": 1,
   "metadata": {},
   "outputs": [
    {
     "output_type": "stream",
     "name": "stdout",
     "text": "<h1>Test Headline!</h1>\n<h1>Another Headline!</h1>\n<p>Test Paragraph!</p>\n"
    }
   ],
   "source": [
    "#First class functions:\n",
    "#A programming language is said to have first class functions if it treats functions as first-class citizens\n",
    "\n",
    "#First Class Citizen\n",
    "#A first-class citizen (sometimes called as first-class objects) in a programming language is an entity which supports all the operations generally available to other entities.These operations typically include being passed as an  argument,returned from a function, and assigned to a variable\n",
    "\n",
    "def html_tag(tag):\n",
    "\n",
    "    def wrap_text(msg):\n",
    "        print('<{0}>{1}</{0}>'.format(tag, msg))\n",
    "\n",
    "    return wrap_text\n",
    "\n",
    "print_h1 = html_tag('h1')\n",
    "print_h1('Test Headline!')\n",
    "print_h1('Another Headline!')\n",
    "\n",
    "print_p = html_tag('p')\n",
    "print_p('Test Paragraph!')"
   ]
  },
  {
   "cell_type": "code",
   "execution_count": null,
   "metadata": {},
   "outputs": [],
   "source": []
  }
 ],
 "metadata": {
  "language_info": {
   "codemirror_mode": {
    "name": "ipython",
    "version": 3
   },
   "file_extension": ".py",
   "mimetype": "text/x-python",
   "name": "python",
   "nbconvert_exporter": "python",
   "pygments_lexer": "ipython3",
   "version": "3.7.6-final"
  },
  "orig_nbformat": 2,
  "kernelspec": {
   "name": "python3",
   "display_name": "Python 3"
  }
 },
 "nbformat": 4,
 "nbformat_minor": 2
}