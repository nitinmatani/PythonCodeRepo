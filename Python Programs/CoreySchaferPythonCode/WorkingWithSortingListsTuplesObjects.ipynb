{
 "cells": [
  {
   "cell_type": "code",
   "execution_count": 5,
   "metadata": {},
   "outputs": [
    {
     "output_type": "stream",
     "name": "stdout",
     "text": "Sorted variable:\t [1, 2, 3, 4, 5, 6, 7, 8, 9]\nOriginal variable:\t [9, 1, 8, 2, 7, 3, 6, 4, 5]\nSorted Original variable:\t [1, 2, 3, 4, 5, 6, 7, 8, 9]\nSorted variable Descending:\t [9, 8, 7, 6, 5, 4, 3, 2, 1]\n"
    }
   ],
   "source": [
    "li =[9,1,8,2,7,3,6,4,5]\n",
    "s_li=sorted(li)\n",
    "print(\"Sorted variable:\\t\",s_li)\n",
    "print(\"Original variable:\\t\",li)\n",
    "li.sort()\n",
    "print(\"Sorted Original variable:\\t\",li)\n",
    "\n",
    "s_li_desc=sorted(li,reverse=True)\n",
    "print(\"Sorted variable Descending:\\t\",s_li_desc)"
   ]
  },
  {
   "cell_type": "code",
   "execution_count": 6,
   "metadata": {},
   "outputs": [
    {
     "output_type": "error",
     "ename": "AttributeError",
     "evalue": "'tuple' object has no attribute 'sort'",
     "traceback": [
      "\u001b[1;31m---------------------------------------------------------------------------\u001b[0m",
      "\u001b[1;31mAttributeError\u001b[0m                            Traceback (most recent call last)",
      "\u001b[1;32m<ipython-input-6-c297578a4900>\u001b[0m in \u001b[0;36m<module>\u001b[1;34m\u001b[0m\n\u001b[0;32m      1\u001b[0m \u001b[0mtup\u001b[0m \u001b[1;33m=\u001b[0m\u001b[1;33m(\u001b[0m\u001b[1;36m9\u001b[0m\u001b[1;33m,\u001b[0m\u001b[1;36m1\u001b[0m\u001b[1;33m,\u001b[0m\u001b[1;36m8\u001b[0m\u001b[1;33m,\u001b[0m\u001b[1;36m2\u001b[0m\u001b[1;33m,\u001b[0m\u001b[1;36m7\u001b[0m\u001b[1;33m,\u001b[0m\u001b[1;36m3\u001b[0m\u001b[1;33m,\u001b[0m\u001b[1;36m6\u001b[0m\u001b[1;33m,\u001b[0m\u001b[1;36m4\u001b[0m\u001b[1;33m,\u001b[0m\u001b[1;36m5\u001b[0m\u001b[1;33m)\u001b[0m\u001b[1;33m\u001b[0m\u001b[1;33m\u001b[0m\u001b[0m\n\u001b[1;32m----> 2\u001b[1;33m \u001b[0mtup\u001b[0m\u001b[1;33m.\u001b[0m\u001b[0msort\u001b[0m\u001b[1;33m(\u001b[0m\u001b[1;33m)\u001b[0m\u001b[1;33m\u001b[0m\u001b[1;33m\u001b[0m\u001b[0m\n\u001b[0m",
      "\u001b[1;31mAttributeError\u001b[0m: 'tuple' object has no attribute 'sort'"
     ]
    }
   ],
   "source": [
    "tup =(9,1,8,2,7,3,6,4,5)\n",
    "tup.sort()"
   ]
  },
  {
   "cell_type": "code",
   "execution_count": 7,
   "metadata": {},
   "outputs": [
    {
     "output_type": "stream",
     "name": "stdout",
     "text": "Sorted tuple:\t [1, 2, 3, 4, 5, 6, 7, 8, 9]\n"
    }
   ],
   "source": [
    "s_tup=sorted(tup)\n",
    "print(\"Sorted tuple:\\t\",s_tup) #It Gives a list"
   ]
  },
  {
   "cell_type": "code",
   "execution_count": 9,
   "metadata": {},
   "outputs": [
    {
     "output_type": "stream",
     "name": "stdout",
     "text": "Sorted dict:\t ['age', 'job', 'name', 'os']\n"
    }
   ],
   "source": [
    "di={'name':'Corey','job':'programming','age':None,'os':'Mac'}\n",
    "s_dict=sorted(di)\n",
    "print(\"Sorted dict:\\t\",s_dict)"
   ]
  },
  {
   "cell_type": "code",
   "execution_count": 11,
   "metadata": {},
   "outputs": [
    {
     "output_type": "stream",
     "name": "stdout",
     "text": "[-6, -5, -4, 1, 2, 3]\n"
    }
   ],
   "source": [
    "#sort basied on different conditions\n",
    "li= [-6,-5,-4,1,2,3]\n",
    "s_li=sorted(li)\n",
    "print(s_li)"
   ]
  },
  {
   "cell_type": "code",
   "execution_count": 12,
   "metadata": {},
   "outputs": [
    {
     "output_type": "stream",
     "name": "stdout",
     "text": "[1, 2, 3, -4, -5, -6]\n"
    }
   ],
   "source": [
    "s_li=sorted(li,key=abs)\n",
    "print(s_li)"
   ]
  },
  {
   "cell_type": "code",
   "execution_count": 1,
   "metadata": {},
   "outputs": [
    {
     "output_type": "stream",
     "name": "stdout",
     "text": "[(Carl,37,$70000), (John,43,$90000), (Sarah,29,$80000)]\n[(Carl,37,$70000), (John,43,$90000), (Sarah,29,$80000)]\n[(Carl,37,$70000), (John,43,$90000), (Sarah,29,$80000)]\n"
    }
   ],
   "source": [
    "from operator import attrgetter\n",
    "class Employee():\n",
    "    def __init__(self,name,age,salary):\n",
    "        self.name = name\n",
    "        self.age = age\n",
    "        self.salary = salary\n",
    "\n",
    "    def __repr__(self):\n",
    "        return '({},{},${})'.format(self.name,self.age,self.salary)\n",
    "\n",
    "e1=Employee('Carl',37,70000)\n",
    "e2=Employee('Sarah',29,80000)\n",
    "e3=Employee('John',43,90000)\n",
    "\n",
    "employees=[e1,e2,e3]\n",
    "\n",
    "def e_sort(emp):\n",
    "    return emp.name\n",
    "\n",
    "s_employees=sorted(employees,key=e_sort)\n",
    "print(s_employees)\n",
    "\n",
    "s_employees=sorted(employees,key=lambda e:e.name)\n",
    "print(s_employees)\n",
    "\n",
    "s_employees=sorted(employees,key=attrgetter('name'))\n",
    "print(s_employees)\n"
   ]
  },
  {
   "cell_type": "code",
   "execution_count": null,
   "metadata": {},
   "outputs": [],
   "source": []
  }
 ],
 "metadata": {
  "language_info": {
   "codemirror_mode": {
    "name": "ipython",
    "version": 3
   },
   "file_extension": ".py",
   "mimetype": "text/x-python",
   "name": "python",
   "nbconvert_exporter": "python",
   "pygments_lexer": "ipython3",
   "version": "3.7.6-final"
  },
  "orig_nbformat": 2,
  "kernelspec": {
   "name": "python3",
   "display_name": "Python 3"
  }
 },
 "nbformat": 4,
 "nbformat_minor": 2
}