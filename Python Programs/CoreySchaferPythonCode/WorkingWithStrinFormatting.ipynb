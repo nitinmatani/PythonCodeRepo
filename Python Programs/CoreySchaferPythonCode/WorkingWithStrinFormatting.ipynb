{
 "cells": [
  {
   "cell_type": "code",
   "execution_count": 3,
   "metadata": {},
   "outputs": [
    {
     "output_type": "stream",
     "name": "stdout",
     "text": "My name is Jenn and I am 23 years old.\nMy name is Jenn and I am 23 years old.\nMy name is Jenn and I am 23 years old.\n<h1>This is a headline</h1>\n"
    }
   ],
   "source": [
    "person = {'name': 'Jenn', 'age': 23}\n",
    "\n",
    "sentence = 'My name is ' + person['name'] + ' and I am ' + str(person['age']) + ' years old.'\n",
    "print(sentence)\n",
    "sentence = 'My name is {} and I am {} years old.'.format(person['name'], person['age'])\n",
    "print(sentence)\n",
    "sentence = 'My name is {0} and I am {1} years old.'.format(person['name'], person['age'])\n",
    "print(sentence)\n",
    "\n",
    "\n",
    "tag = 'h1'\n",
    "text = 'This is a headline'\n",
    "sentence = '<{0}>{1}</{0}>'.format(tag, text)\n",
    "print(sentence)\n",
    "\n",
    "\n"
   ]
  },
  {
   "cell_type": "code",
   "execution_count": 4,
   "metadata": {},
   "outputs": [
    {
     "output_type": "stream",
     "name": "stdout",
     "text": "My name is Jack and I am 33 years old.\n"
    }
   ],
   "source": [
    "class Person():\n",
    "\n",
    "    def __init__(self, name, age):\n",
    "        self.name = name\n",
    "        self.age = age\n",
    "p1 = Person('Jack', '33')\n",
    "sentence = 'My name is {0.name} and I am {0.age} years old.'.format(p1)\n",
    "print(sentence)\n",
    "\n"
   ]
  },
  {
   "cell_type": "code",
   "execution_count": 5,
   "metadata": {},
   "outputs": [
    {
     "output_type": "stream",
     "name": "stdout",
     "text": "My name is Jenn and I am 30 years old.\nMy name is Jenn and I am 23 years old.\n"
    }
   ],
   "source": [
    "sentence = 'My name is {name} and I am {age} years old.'.format(name='Jenn', age='30')\n",
    "print(sentence)\n",
    "person = {'name': 'Jenn', 'age': 23}\n",
    "sentence = 'My name is {name} and I am {age} years old.'.format(**person)\n",
    "print(sentence)\n",
    "\n"
   ]
  },
  {
   "cell_type": "code",
   "execution_count": 11,
   "metadata": {},
   "outputs": [
    {
     "output_type": "stream",
     "name": "stdout",
     "text": "The value is 1\nThe value is 2\nThe value is 3\nThe value is 4\nThe value is 5\nThe value is 6\nThe value is 7\nThe value is 8\nThe value is 9\nThe value is 10\nThe value is 01\nThe value is 02\nThe value is 03\nThe value is 04\nThe value is 05\nThe value is 06\nThe value is 07\nThe value is 08\nThe value is 09\nThe value is 10\n"
    }
   ],
   "source": [
    "for i in range(1, 11):\n",
    "    sentence = 'The value is {}'.format(i)\n",
    "    print(sentence)\n",
    "\n",
    "for i in range(1, 11):\n",
    "    sentence = 'The value is {:02}'.format(i)\n",
    "    print(sentence)"
   ]
  },
  {
   "cell_type": "code",
   "execution_count": 15,
   "metadata": {},
   "outputs": [
    {
     "output_type": "stream",
     "name": "stdout",
     "text": "Pi is equal to 3.14159265\nPi is equal to 3.14\n1 MB is equal to 1000000 bytes\n1 MB is equal to 1,000,000 bytes\n1 MB is equal to 1,000,000.00 bytes\n"
    }
   ],
   "source": [
    "pi = 3.14159265\n",
    "sentence = 'Pi is equal to {}'.format(pi)\n",
    "print(sentence)\n",
    "sentence = 'Pi is equal to {:.2f}'.format(pi)\n",
    "print(sentence)\n",
    "\n",
    "sentence = '1 MB is equal to {} bytes'.format(1000**2)\n",
    "print(sentence)\n",
    "\n",
    "sentence = '1 MB is equal to {:,} bytes'.format(1000**2)\n",
    "print(sentence)\n",
    "sentence = '1 MB is equal to {:,.2f} bytes'.format(1000**2)\n",
    "print(sentence)"
   ]
  },
  {
   "cell_type": "code",
   "execution_count": 22,
   "metadata": {},
   "outputs": [
    {
     "output_type": "stream",
     "name": "stdout",
     "text": "2016-09-24 12:30:45\nSeptember 24, 2016\nSeptember 24, 2016 fell on a Saturday and was the 268 day of the year\n"
    }
   ],
   "source": [
    "import datetime\n",
    "my_date = datetime.datetime(2016, 9, 24, 12, 30, 45)\n",
    "print(my_date)\n",
    "# March 01, 2016\n",
    "\n",
    "sentence = '{:%B %d, %Y}'.format(my_date)\n",
    "print(sentence)\n",
    "\n",
    "# March 01, 2016 fell on a Tuesday and was the 061 day of the year.\n",
    "\n",
    "sentence = '{0:%B %d, %Y} fell on a {0:%A} and was the {0:%j} day of the year'.format(my_date)\n",
    "print(sentence)"
   ]
  },
  {
   "cell_type": "code",
   "execution_count": null,
   "metadata": {},
   "outputs": [],
   "source": []
  },
  {
   "cell_type": "code",
   "execution_count": null,
   "metadata": {},
   "outputs": [],
   "source": []
  }
 ],
 "metadata": {
  "language_info": {
   "codemirror_mode": {
    "name": "ipython",
    "version": 3
   },
   "file_extension": ".py",
   "mimetype": "text/x-python",
   "name": "python",
   "nbconvert_exporter": "python",
   "pygments_lexer": "ipython3",
   "version": "3.7.6-final"
  },
  "orig_nbformat": 2,
  "kernelspec": {
   "name": "python3",
   "display_name": "Python 3"
  }
 },
 "nbformat": 4,
 "nbformat_minor": 2
}