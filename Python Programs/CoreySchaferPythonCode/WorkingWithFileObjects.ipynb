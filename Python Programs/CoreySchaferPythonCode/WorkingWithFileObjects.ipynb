{
 "cells": [
  {
   "cell_type": "code",
   "execution_count": 1,
   "metadata": {},
   "outputs": [
    {
     "output_type": "stream",
     "name": "stdout",
     "text": "test.txt\nr+\n"
    }
   ],
   "source": [
    "#File Objects\n",
    "\n",
    "##The Basics:\n",
    "f = open(\"test.txt\", \"r\")\n",
    "f = open(\"test.txt\", \"w\")\n",
    "f = open(\"test.txt\", \"a\")\n",
    "f = open(\"test.txt\", \"r+\")\n",
    "print(f.name)\n",
    "print(f.mode)\n",
    "f.close()\n",
    "\n"
   ]
  },
  {
   "cell_type": "code",
   "execution_count": 13,
   "metadata": {},
   "outputs": [
    {
     "output_type": "stream",
     "name": "stdout",
     "text": "r\nTrue\n"
    }
   ],
   "source": [
    "##Reading Files: Opening files with context managers \"with\" we dont need to close it explicitly it closes automatically\n",
    "with open(\"test.txt\", \"r\") as f:\n",
    "\tpass\n",
    "#Outside the context we can see the mode but we cannot operate on file as the file is automatically closed\n",
    "print(f.mode)\n",
    "print(f.closed)\n",
    "#print(f.read())\n",
    "\n",
    "\n"
   ]
  },
  {
   "cell_type": "code",
   "execution_count": 18,
   "metadata": {},
   "outputs": [
    {
     "output_type": "stream",
     "name": "stdout",
     "text": "1) This is a test file\n2) With multiple lines of data...\n3) Third line\n4) Fourth line\n5) Fifth line\n6) Sixth line\n7) Seventh line\n8) Eighth line\n9) Ninth line\n10) Tenth line\n"
    }
   ],
   "source": [
    "with open('test.txt', 'r') as f:\n",
    "    f_contents = f.read() #Small files\n",
    "    print(f_contents)  "
   ]
  },
  {
   "cell_type": "code",
   "execution_count": 20,
   "metadata": {},
   "outputs": [
    {
     "output_type": "stream",
     "name": "stdout",
     "text": "['1) This is a test file\\n', '2) With multiple lines of data...\\n', '3) Third line\\n', '4) Fourth line\\n', '5) Fifth line\\n', '6) Sixth line\\n', '7) Seventh line\\n', '8) Eighth line\\n', '9) Ninth line\\n', '10) Tenth line']\n"
    }
   ],
   "source": [
    "with open('test.txt', 'r') as f:\n",
    "    f_contents = f.readlines() #Big files\n",
    "    print(f_contents)  "
   ]
  },
  {
   "cell_type": "code",
   "execution_count": 21,
   "metadata": {},
   "outputs": [
    {
     "output_type": "stream",
     "name": "stdout",
     "text": "1) This is a test file\n\n2) With multiple lines of data...\n\n"
    }
   ],
   "source": [
    "with open(\"test.txt\", \"r\") as f:\n",
    "    #With the extra lines:\n",
    "\tf_contents = f.readline()\n",
    "\tprint(f_contents)\n",
    "\tf_contents = f.readline()\n",
    "\tprint(f_contents)"
   ]
  },
  {
   "cell_type": "code",
   "execution_count": 22,
   "metadata": {},
   "outputs": [
    {
     "output_type": "stream",
     "name": "stdout",
     "text": "1) This is a test file\n2) With multiple lines of data...\n"
    }
   ],
   "source": [
    "with open(\"test.txt\", \"r\") as f:\n",
    "   \n",
    "\t###Without the extra lines:\n",
    "\tf_contents = f.readline()\n",
    "\tprint(f_contents, end = '')\n",
    "\tf_contents = f.readline()\n",
    "\tprint(f_contents, end = '')"
   ]
  },
  {
   "cell_type": "code",
   "execution_count": 23,
   "metadata": {},
   "outputs": [
    {
     "output_type": "stream",
     "name": "stdout",
     "text": "1) This is a test file\n2) With multiple lines of data...\n3) Third line\n4) Fourth line\n5) Fifth line\n6) Sixth line\n7) Seventh line\n8) Eighth line\n9) Ninth line\n10) Tenth line"
    }
   ],
   "source": [
    "with open(\"test.txt\", \"r\") as f:\n",
    "   \n",
    "\t###Iterating through the file:\n",
    "\tfor line in f:\n",
    "\t\tprint(line, end = '')"
   ]
  },
  {
   "cell_type": "code",
   "execution_count": 25,
   "metadata": {},
   "outputs": [
    {
     "output_type": "stream",
     "name": "stdout",
     "text": "1) This is a test file\n2) With multiple lines of data...\n3) Third line\n4) Fourth line\n5) Fifth line\n6) Sixth line\n7) Seventh line\n8) Eighth line\n9) Ninth line\n10) Tenth line"
    }
   ],
   "source": [
    "with open(\"test.txt\", \"r\") as f:\n",
    "   \n",
    "\t###Going Back....:\n",
    "\tf_contents = f.read()\n",
    "\tprint(f_contents, end = '')\n"
   ]
  },
  {
   "cell_type": "code",
   "execution_count": 26,
   "metadata": {},
   "outputs": [
    {
     "output_type": "stream",
     "name": "stdout",
     "text": "1) This is a test file\n2) With multiple lines of data...\n3) Third line\n4) Fourth line\n5) Fifth line\n"
    }
   ],
   "source": [
    "with open(\"test.txt\", \"r\") as f:\n",
    "   \n",
    "    ###Printing by characters:\n",
    "\tf_contents = f.read(100)\n",
    "\tprint(f_contents, end = '')\n"
   ]
  },
  {
   "cell_type": "code",
   "execution_count": 27,
   "metadata": {},
   "outputs": [
    {
     "output_type": "stream",
     "name": "stdout",
     "text": "1) This is a test file\n2) With multiple lines of data...\n3) Third line\n4) Fourth line\n5) Fifth line\n6) Sixth line\n7) Seventh line\n8) Eighth line\n9) Ninth line\n10) Tenth line"
    }
   ],
   "source": [
    "with open(\"test.txt\", \"r\") as f:\n",
    "   ###Printing by characters:\n",
    "\tf_contents = f.read(100)\n",
    "\tprint(f_contents, end = '')\n",
    "\tf_contents = f.read(100)\n",
    "\tprint(f_contents, end = '')\n",
    "\tf_contents = f.read(100)\n",
    "\tprint(f_contents, end = '')"
   ]
  },
  {
   "cell_type": "code",
   "execution_count": 28,
   "metadata": {},
   "outputs": [
    {
     "output_type": "stream",
     "name": "stdout",
     "text": "1) This is a test file\n2) With multiple lines of data...\n3) Third line\n4) Fourth line\n5) Fifth line\n\n6) Sixth line\n7) Seventh line\n8) Eighth line\n9) Ninth line\n10) Tenth line\n"
    }
   ],
   "source": [
    "with open(\"test.txt\", \"r\") as f:\n",
    "   \n",
    "\t###Iterating through small chunks:\n",
    "\tsize_to_read = 100\n",
    "\tf_contents = f.read(size_to_read)\n",
    "\twhile len(f_contents) > 0:\n",
    "\t\tprint(f_contents)\n",
    "\t\tf_contents = f.read(size_to_read)"
   ]
  },
  {
   "cell_type": "code",
   "execution_count": 30,
   "metadata": {},
   "outputs": [
    {
     "output_type": "stream",
     "name": "stdout",
     "text": "1) This is1) This is10\n1) This is* a test fi*le\n2) With* multiple *lines of d*ata...\n3) *Third line*\n4) Fourth* line\n5) F*ifth line\n*6) Sixth l*ine\n7) Sev*enth line\n*8) Eighth *line\n9) Ni*nth line\n1*0) Tenth l*ine*"
    }
   ],
   "source": [
    "with open(\"test.txt\", \"r\") as f:\n",
    "    ##Iterating through small chunks, with 10 characters:\n",
    "\tsize_to_read = 10\n",
    "\tf_contents = f.read(size_to_read)\n",
    "\tprint(f_contents, end = '')\n",
    "\tf.seek(0)\n",
    "\tf_contents = f.read(size_to_read)\n",
    "\tprint(f_contents, end = '')\n",
    "\tprint(f.tell())\n",
    "\twhile len(f_contents) > 0:\n",
    "\t\tprint(f_contents, end = '*')\n",
    "\t\tf_contents = f.read(size_to_read)"
   ]
  },
  {
   "cell_type": "code",
   "execution_count": 35,
   "metadata": {},
   "outputs": [
    {
     "output_type": "error",
     "ename": "UnsupportedOperation",
     "evalue": "not writable",
     "traceback": [
      "\u001b[1;31m---------------------------------------------------------------------------\u001b[0m",
      "\u001b[1;31mUnsupportedOperation\u001b[0m                      Traceback (most recent call last)",
      "\u001b[1;32m<ipython-input-35-24ebc324ff94>\u001b[0m in \u001b[0;36m<module>\u001b[1;34m\u001b[0m\n\u001b[0;32m      2\u001b[0m \u001b[1;31m###The Error:\u001b[0m\u001b[1;33m\u001b[0m\u001b[1;33m\u001b[0m\u001b[1;33m\u001b[0m\u001b[0m\n\u001b[0;32m      3\u001b[0m \u001b[1;32mwith\u001b[0m \u001b[0mopen\u001b[0m\u001b[1;33m(\u001b[0m\u001b[1;34m\"test.txt\"\u001b[0m\u001b[1;33m,\u001b[0m \u001b[1;34m\"r\"\u001b[0m\u001b[1;33m)\u001b[0m \u001b[1;32mas\u001b[0m \u001b[0mf\u001b[0m\u001b[1;33m:\u001b[0m\u001b[1;33m\u001b[0m\u001b[1;33m\u001b[0m\u001b[0m\n\u001b[1;32m----> 4\u001b[1;33m     \u001b[0mf\u001b[0m\u001b[1;33m.\u001b[0m\u001b[0mwrite\u001b[0m\u001b[1;33m(\u001b[0m\u001b[1;34m\"Test\"\u001b[0m\u001b[1;33m)\u001b[0m\u001b[1;33m\u001b[0m\u001b[1;33m\u001b[0m\u001b[0m\n\u001b[0m",
      "\u001b[1;31mUnsupportedOperation\u001b[0m: not writable"
     ]
    }
   ],
   "source": [
    "##Writing Files:\n",
    "###The Error:\n",
    "with open(\"test.txt\", \"r\") as f:\n",
    "    f.write(\"Test\")\n"
   ]
  },
  {
   "cell_type": "code",
   "execution_count": 40,
   "metadata": {},
   "outputs": [],
   "source": [
    "###Writing Starts:\n",
    "with open(\"test2.txt\", \"w\") as f:\n",
    "    #pass\n",
    "    f.write(\"Test\")\n",
    "    f.seek(0)\n",
    "    f.write(\"Test\")\n",
    "    f.seek(0)\n",
    "    f.write(\"R\")"
   ]
  },
  {
   "cell_type": "code",
   "execution_count": 42,
   "metadata": {},
   "outputs": [],
   "source": [
    "##Copying Files:\n",
    "with open(\"test.txt\", \"r\") as rf:\n",
    "    with open(\"test_copy.txt\", \"w\") as wf:\n",
    "        for line in rf:\n",
    "            wf.write(line)\n"
   ]
  },
  {
   "cell_type": "code",
   "execution_count": 43,
   "metadata": {},
   "outputs": [
    {
     "output_type": "error",
     "ename": "UnicodeDecodeError",
     "evalue": "'charmap' codec can't decode byte 0x8f in position 57: character maps to <undefined>",
     "traceback": [
      "\u001b[1;31m---------------------------------------------------------------------------\u001b[0m",
      "\u001b[1;31mUnicodeDecodeError\u001b[0m                        Traceback (most recent call last)",
      "\u001b[1;32m<ipython-input-43-9d9608dbc89b>\u001b[0m in \u001b[0;36m<module>\u001b[1;34m\u001b[0m\n\u001b[0;32m      3\u001b[0m \u001b[1;32mwith\u001b[0m \u001b[0mopen\u001b[0m\u001b[1;33m(\u001b[0m\u001b[1;34m\"arrays1.PNG\"\u001b[0m\u001b[1;33m,\u001b[0m \u001b[1;34m\"r\"\u001b[0m\u001b[1;33m)\u001b[0m \u001b[1;32mas\u001b[0m \u001b[0mrf\u001b[0m\u001b[1;33m:\u001b[0m\u001b[1;33m\u001b[0m\u001b[1;33m\u001b[0m\u001b[0m\n\u001b[0;32m      4\u001b[0m     \u001b[1;32mwith\u001b[0m \u001b[0mopen\u001b[0m\u001b[1;33m(\u001b[0m\u001b[1;34m\"arrays1_copy.PNG\"\u001b[0m\u001b[1;33m,\u001b[0m \u001b[1;34m\"w\"\u001b[0m\u001b[1;33m)\u001b[0m \u001b[1;32mas\u001b[0m \u001b[0mwf\u001b[0m\u001b[1;33m:\u001b[0m\u001b[1;33m\u001b[0m\u001b[1;33m\u001b[0m\u001b[0m\n\u001b[1;32m----> 5\u001b[1;33m         \u001b[1;32mfor\u001b[0m \u001b[0mline\u001b[0m \u001b[1;32min\u001b[0m \u001b[0mrf\u001b[0m\u001b[1;33m:\u001b[0m\u001b[1;33m\u001b[0m\u001b[1;33m\u001b[0m\u001b[0m\n\u001b[0m\u001b[0;32m      6\u001b[0m             \u001b[0mwf\u001b[0m\u001b[1;33m.\u001b[0m\u001b[0mwrite\u001b[0m\u001b[1;33m(\u001b[0m\u001b[0mline\u001b[0m\u001b[1;33m)\u001b[0m\u001b[1;33m\u001b[0m\u001b[1;33m\u001b[0m\u001b[0m\n",
      "\u001b[1;32m~\\anaconda3\\lib\\encodings\\cp1252.py\u001b[0m in \u001b[0;36mdecode\u001b[1;34m(self, input, final)\u001b[0m\n\u001b[0;32m     21\u001b[0m \u001b[1;32mclass\u001b[0m \u001b[0mIncrementalDecoder\u001b[0m\u001b[1;33m(\u001b[0m\u001b[0mcodecs\u001b[0m\u001b[1;33m.\u001b[0m\u001b[0mIncrementalDecoder\u001b[0m\u001b[1;33m)\u001b[0m\u001b[1;33m:\u001b[0m\u001b[1;33m\u001b[0m\u001b[1;33m\u001b[0m\u001b[0m\n\u001b[0;32m     22\u001b[0m     \u001b[1;32mdef\u001b[0m \u001b[0mdecode\u001b[0m\u001b[1;33m(\u001b[0m\u001b[0mself\u001b[0m\u001b[1;33m,\u001b[0m \u001b[0minput\u001b[0m\u001b[1;33m,\u001b[0m \u001b[0mfinal\u001b[0m\u001b[1;33m=\u001b[0m\u001b[1;32mFalse\u001b[0m\u001b[1;33m)\u001b[0m\u001b[1;33m:\u001b[0m\u001b[1;33m\u001b[0m\u001b[1;33m\u001b[0m\u001b[0m\n\u001b[1;32m---> 23\u001b[1;33m         \u001b[1;32mreturn\u001b[0m \u001b[0mcodecs\u001b[0m\u001b[1;33m.\u001b[0m\u001b[0mcharmap_decode\u001b[0m\u001b[1;33m(\u001b[0m\u001b[0minput\u001b[0m\u001b[1;33m,\u001b[0m\u001b[0mself\u001b[0m\u001b[1;33m.\u001b[0m\u001b[0merrors\u001b[0m\u001b[1;33m,\u001b[0m\u001b[0mdecoding_table\u001b[0m\u001b[1;33m)\u001b[0m\u001b[1;33m[\u001b[0m\u001b[1;36m0\u001b[0m\u001b[1;33m]\u001b[0m\u001b[1;33m\u001b[0m\u001b[1;33m\u001b[0m\u001b[0m\n\u001b[0m\u001b[0;32m     24\u001b[0m \u001b[1;33m\u001b[0m\u001b[0m\n\u001b[0;32m     25\u001b[0m \u001b[1;32mclass\u001b[0m \u001b[0mStreamWriter\u001b[0m\u001b[1;33m(\u001b[0m\u001b[0mCodec\u001b[0m\u001b[1;33m,\u001b[0m\u001b[0mcodecs\u001b[0m\u001b[1;33m.\u001b[0m\u001b[0mStreamWriter\u001b[0m\u001b[1;33m)\u001b[0m\u001b[1;33m:\u001b[0m\u001b[1;33m\u001b[0m\u001b[1;33m\u001b[0m\u001b[0m\n",
      "\u001b[1;31mUnicodeDecodeError\u001b[0m: 'charmap' codec can't decode byte 0x8f in position 57: character maps to <undefined>"
     ]
    }
   ],
   "source": [
    "#Copying the/your image:\n",
    "###The Error\n",
    "with open(\"arrays1.PNG\", \"r\") as rf:\n",
    "    with open(\"arrays1_copy.PNG\", \"w\") as wf:\n",
    "        for line in rf:\n",
    "            wf.write(line)\n"
   ]
  },
  {
   "cell_type": "code",
   "execution_count": 44,
   "metadata": {},
   "outputs": [],
   "source": [
    "###Copying the image starts, without chunks:\n",
    "with open(\"arrays1.PNG\", \"rb\") as rf:\n",
    "    with open(\"arrays1_copy.PNG\", \"wb\") as wf:\n",
    "        for line in rf:\n",
    "            wf.write(line)\n",
    "\n"
   ]
  },
  {
   "cell_type": "code",
   "execution_count": 46,
   "metadata": {},
   "outputs": [],
   "source": [
    "###Copying the image with chunks:\n",
    "with open(\"arrays1.PNG\", \"rb\") as rf:\n",
    "    with open(\"arrays1_copy.PNG\", \"wb\") as wf:\n",
    "        chunk_size = 4096\n",
    "        rf_chunk = rf.read(chunk_size)\n",
    "        while len(rf_chunk) > 0:\n",
    "            wf.write(rf_chunk)\n",
    "            rf_chunk = rf.read(chunk_size)"
   ]
  },
  {
   "cell_type": "code",
   "execution_count": null,
   "metadata": {},
   "outputs": [],
   "source": []
  }
 ],
 "metadata": {
  "language_info": {
   "codemirror_mode": {
    "name": "ipython",
    "version": 3
   },
   "file_extension": ".py",
   "mimetype": "text/x-python",
   "name": "python",
   "nbconvert_exporter": "python",
   "pygments_lexer": "ipython3",
   "version": "3.7.6-final"
  },
  "orig_nbformat": 2,
  "kernelspec": {
   "name": "python3",
   "display_name": "Python 3"
  }
 },
 "nbformat": 4,
 "nbformat_minor": 2
}