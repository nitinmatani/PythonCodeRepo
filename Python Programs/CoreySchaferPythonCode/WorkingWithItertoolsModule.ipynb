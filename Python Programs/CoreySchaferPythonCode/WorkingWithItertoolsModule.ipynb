{
 "cells": [
  {
   "cell_type": "code",
   "execution_count": 1,
   "metadata": {},
   "outputs": [
    {
     "name": "stdout",
     "output_type": "stream",
     "text": [
      "0\n",
      "1\n",
      "2\n",
      "3\n"
     ]
    }
   ],
   "source": [
    "import itertools\n",
    "counter=itertools.count()\n",
    "print(next(counter))\n",
    "print(next(counter))\n",
    "print(next(counter))\n",
    "print(next(counter))"
   ]
  },
  {
   "cell_type": "code",
   "execution_count": 2,
   "metadata": {},
   "outputs": [
    {
     "name": "stdout",
     "output_type": "stream",
     "text": [
      "[(0, 100), (1, 200), (2, 300), (3, 400)]\n"
     ]
    }
   ],
   "source": [
    "data=[100,200,300,400]\n",
    "daily_data=list(zip(itertools.count(),data)) #zip func combines the two iterables and pairs the values together\n",
    "print(daily_data)\n"
   ]
  },
  {
   "cell_type": "code",
   "execution_count": 3,
   "metadata": {},
   "outputs": [
    {
     "name": "stdout",
     "output_type": "stream",
     "text": [
      "5\n",
      "10\n",
      "15\n",
      "20\n"
     ]
    }
   ],
   "source": [
    "counter=itertools.count(start=5,step=5)\n",
    "print(next(counter))\n",
    "print(next(counter))\n",
    "print(next(counter))\n",
    "print(next(counter))"
   ]
  },
  {
   "cell_type": "code",
   "execution_count": 4,
   "metadata": {},
   "outputs": [
    {
     "name": "stdout",
     "output_type": "stream",
     "text": [
      "5\n",
      "2.5\n",
      "0.0\n",
      "-2.5\n"
     ]
    }
   ],
   "source": [
    "counter=itertools.count(start=5,step=-2.5)\n",
    "print(next(counter))\n",
    "print(next(counter))\n",
    "print(next(counter))\n",
    "print(next(counter))"
   ]
  },
  {
   "cell_type": "code",
   "execution_count": 7,
   "metadata": {},
   "outputs": [
    {
     "name": "stdout",
     "output_type": "stream",
     "text": [
      "[(0, 100), (1, 200), (2, 300), (3, 400)]\n",
      "[(0, 100), (1, 200), (2, 300), (3, 400), (4, None), (5, None), (6, None), (7, None), (8, None), (9, None)]\n"
     ]
    }
   ],
   "source": [
    "#zip end when your shortest iterable is exhausted but zip_longest ends when your longest iterable is exhausted\n",
    "data=[100,200,300,400]\n",
    "daily_data=list(zip(range(10),data))\n",
    "print(daily_data)\n",
    "daily_data=list(itertools.zip_longest(range(10),data))\n",
    "print(daily_data)\n"
   ]
  },
  {
   "cell_type": "code",
   "execution_count": 2,
   "metadata": {},
   "outputs": [
    {
     "output_type": "stream",
     "name": "stdout",
     "text": "1\n2\n3\n1\n2\n3\n"
    }
   ],
   "source": [
    "#cycle function als returns an iterator that goes on forever.It takes an iterable as argument and cycle through that values over and over\n",
    "import itertools\n",
    "counter=itertools.cycle([1,2,3])\n",
    "print(next(counter))\n",
    "print(next(counter))\n",
    "print(next(counter))\n",
    "print(next(counter))\n",
    "print(next(counter))\n",
    "print(next(counter))\n"
   ]
  },
  {
   "cell_type": "code",
   "execution_count": 3,
   "metadata": {},
   "outputs": [
    {
     "output_type": "stream",
     "name": "stdout",
     "text": "On\nOff\nOn\nOff\nOn\nOff\n"
    }
   ],
   "source": [
    "import itertools\n",
    "counter=itertools.cycle(('On','Off'))\n",
    "print(next(counter))\n",
    "print(next(counter))\n",
    "print(next(counter))\n",
    "print(next(counter))\n",
    "print(next(counter))\n",
    "print(next(counter))"
   ]
  },
  {
   "cell_type": "code",
   "execution_count": 6,
   "metadata": {},
   "outputs": [
    {
     "output_type": "stream",
     "name": "stdout",
     "text": "2\n2\n2\n2\n2\n2\n"
    }
   ],
   "source": [
    "counter=itertools.repeat(2)\n",
    "print(next(counter))\n",
    "print(next(counter))\n",
    "print(next(counter))\n",
    "print(next(counter))\n",
    "print(next(counter))\n",
    "print(next(counter))"
   ]
  },
  {
   "cell_type": "code",
   "execution_count": 7,
   "metadata": {},
   "outputs": [
    {
     "output_type": "stream",
     "name": "stdout",
     "text": "2\n2\n2\n"
    },
    {
     "output_type": "error",
     "ename": "StopIteration",
     "evalue": "",
     "traceback": [
      "\u001b[1;31m---------------------------------------------------------------------------\u001b[0m",
      "\u001b[1;31mStopIteration\u001b[0m                             Traceback (most recent call last)",
      "\u001b[1;32m<ipython-input-7-1a330c989689>\u001b[0m in \u001b[0;36m<module>\u001b[1;34m\u001b[0m\n\u001b[0;32m      3\u001b[0m \u001b[0mprint\u001b[0m\u001b[1;33m(\u001b[0m\u001b[0mnext\u001b[0m\u001b[1;33m(\u001b[0m\u001b[0mcounter\u001b[0m\u001b[1;33m)\u001b[0m\u001b[1;33m)\u001b[0m\u001b[1;33m\u001b[0m\u001b[1;33m\u001b[0m\u001b[0m\n\u001b[0;32m      4\u001b[0m \u001b[0mprint\u001b[0m\u001b[1;33m(\u001b[0m\u001b[0mnext\u001b[0m\u001b[1;33m(\u001b[0m\u001b[0mcounter\u001b[0m\u001b[1;33m)\u001b[0m\u001b[1;33m)\u001b[0m\u001b[1;33m\u001b[0m\u001b[1;33m\u001b[0m\u001b[0m\n\u001b[1;32m----> 5\u001b[1;33m \u001b[0mprint\u001b[0m\u001b[1;33m(\u001b[0m\u001b[0mnext\u001b[0m\u001b[1;33m(\u001b[0m\u001b[0mcounter\u001b[0m\u001b[1;33m)\u001b[0m\u001b[1;33m)\u001b[0m\u001b[1;33m\u001b[0m\u001b[1;33m\u001b[0m\u001b[0m\n\u001b[0m\u001b[0;32m      6\u001b[0m \u001b[0mprint\u001b[0m\u001b[1;33m(\u001b[0m\u001b[0mnext\u001b[0m\u001b[1;33m(\u001b[0m\u001b[0mcounter\u001b[0m\u001b[1;33m)\u001b[0m\u001b[1;33m)\u001b[0m\u001b[1;33m\u001b[0m\u001b[1;33m\u001b[0m\u001b[0m\n\u001b[0;32m      7\u001b[0m \u001b[0mprint\u001b[0m\u001b[1;33m(\u001b[0m\u001b[0mnext\u001b[0m\u001b[1;33m(\u001b[0m\u001b[0mcounter\u001b[0m\u001b[1;33m)\u001b[0m\u001b[1;33m)\u001b[0m\u001b[1;33m\u001b[0m\u001b[1;33m\u001b[0m\u001b[0m\n",
      "\u001b[1;31mStopIteration\u001b[0m: "
     ]
    }
   ],
   "source": [
    "counter=itertools.repeat(2,times=3)\n",
    "print(next(counter))\n",
    "print(next(counter))\n",
    "print(next(counter))\n",
    "print(next(counter))\n",
    "print(next(counter))\n",
    "print(next(counter))"
   ]
  },
  {
   "cell_type": "code",
   "execution_count": 8,
   "metadata": {},
   "outputs": [
    {
     "output_type": "stream",
     "name": "stdout",
     "text": "[0, 1, 4, 9, 16, 25, 36, 49, 64, 81]\n"
    }
   ],
   "source": [
    "squares=map(pow,range(10),itertools.repeat(2))\n",
    "print(list(squares))"
   ]
  },
  {
   "cell_type": "code",
   "execution_count": 9,
   "metadata": {},
   "outputs": [
    {
     "output_type": "stream",
     "name": "stdout",
     "text": "[0, 1, 4]\n"
    }
   ],
   "source": [
    "#Instead of passing the arguments from iterables like in map above it takes arguments that are already paired together as tuples\n",
    "squares=itertools.starmap(pow,[(0,2),(1,2),(2,2)])\n",
    "print(list(squares))"
   ]
  },
  {
   "cell_type": "code",
   "execution_count": null,
   "metadata": {},
   "outputs": [],
   "source": [
    "# Combination and Permutations\n",
    "# Both take an iterable and return all of the combination or permutations from that iterable\n",
    "# Combination are all the different ways you can group a certain no of items where the order doesnt matter\n",
    "# Permutations are all the different ways you can group a certain no of items where the order does matter\n",
    "\n"
   ]
  },
  {
   "cell_type": "code",
   "execution_count": 10,
   "metadata": {},
   "outputs": [
    {
     "output_type": "stream",
     "name": "stdout",
     "text": "('a', 'b')\n('a', 'c')\n('a', 'd')\n('b', 'c')\n('b', 'd')\n('c', 'd')\n"
    }
   ],
   "source": [
    "letters = ['a', 'b', 'c', 'd']\n",
    "numbers = [0, 1, 2, 3]\n",
    "names = ['Corey', 'Nicole']\n",
    "\n",
    "result=itertools.combinations(letters,2)\n",
    "#here output you will see that you get combination of (a,b) but no (b,a) because there are considered as same combination since order doesnt matter but in permutations you will get b,a also as a combination\n",
    "for item in result:\n",
    "    print(item)"
   ]
  },
  {
   "cell_type": "code",
   "execution_count": 11,
   "metadata": {},
   "outputs": [
    {
     "output_type": "stream",
     "name": "stdout",
     "text": "('a', 'b')\n('a', 'c')\n('a', 'd')\n('b', 'a')\n('b', 'c')\n('b', 'd')\n('c', 'a')\n('c', 'b')\n('c', 'd')\n('d', 'a')\n('d', 'b')\n('d', 'c')\n"
    }
   ],
   "source": [
    "result=itertools.permutations(letters,2)\n",
    "for item in result:\n",
    "    print(item)"
   ]
  },
  {
   "cell_type": "code",
   "execution_count": 12,
   "metadata": {},
   "outputs": [
    {
     "output_type": "stream",
     "name": "stdout",
     "text": "(0, 0, 0, 0)\n(0, 0, 0, 1)\n(0, 0, 0, 2)\n(0, 0, 0, 3)\n(0, 0, 1, 0)\n(0, 0, 1, 1)\n(0, 0, 1, 2)\n(0, 0, 1, 3)\n(0, 0, 2, 0)\n(0, 0, 2, 1)\n(0, 0, 2, 2)\n(0, 0, 2, 3)\n(0, 0, 3, 0)\n(0, 0, 3, 1)\n(0, 0, 3, 2)\n(0, 0, 3, 3)\n(0, 1, 0, 0)\n(0, 1, 0, 1)\n(0, 1, 0, 2)\n(0, 1, 0, 3)\n(0, 1, 1, 0)\n(0, 1, 1, 1)\n(0, 1, 1, 2)\n(0, 1, 1, 3)\n(0, 1, 2, 0)\n(0, 1, 2, 1)\n(0, 1, 2, 2)\n(0, 1, 2, 3)\n(0, 1, 3, 0)\n(0, 1, 3, 1)\n(0, 1, 3, 2)\n(0, 1, 3, 3)\n(0, 2, 0, 0)\n(0, 2, 0, 1)\n(0, 2, 0, 2)\n(0, 2, 0, 3)\n(0, 2, 1, 0)\n(0, 2, 1, 1)\n(0, 2, 1, 2)\n(0, 2, 1, 3)\n(0, 2, 2, 0)\n(0, 2, 2, 1)\n(0, 2, 2, 2)\n(0, 2, 2, 3)\n(0, 2, 3, 0)\n(0, 2, 3, 1)\n(0, 2, 3, 2)\n(0, 2, 3, 3)\n(0, 3, 0, 0)\n(0, 3, 0, 1)\n(0, 3, 0, 2)\n(0, 3, 0, 3)\n(0, 3, 1, 0)\n(0, 3, 1, 1)\n(0, 3, 1, 2)\n(0, 3, 1, 3)\n(0, 3, 2, 0)\n(0, 3, 2, 1)\n(0, 3, 2, 2)\n(0, 3, 2, 3)\n(0, 3, 3, 0)\n(0, 3, 3, 1)\n(0, 3, 3, 2)\n(0, 3, 3, 3)\n(1, 0, 0, 0)\n(1, 0, 0, 1)\n(1, 0, 0, 2)\n(1, 0, 0, 3)\n(1, 0, 1, 0)\n(1, 0, 1, 1)\n(1, 0, 1, 2)\n(1, 0, 1, 3)\n(1, 0, 2, 0)\n(1, 0, 2, 1)\n(1, 0, 2, 2)\n(1, 0, 2, 3)\n(1, 0, 3, 0)\n(1, 0, 3, 1)\n(1, 0, 3, 2)\n(1, 0, 3, 3)\n(1, 1, 0, 0)\n(1, 1, 0, 1)\n(1, 1, 0, 2)\n(1, 1, 0, 3)\n(1, 1, 1, 0)\n(1, 1, 1, 1)\n(1, 1, 1, 2)\n(1, 1, 1, 3)\n(1, 1, 2, 0)\n(1, 1, 2, 1)\n(1, 1, 2, 2)\n(1, 1, 2, 3)\n(1, 1, 3, 0)\n(1, 1, 3, 1)\n(1, 1, 3, 2)\n(1, 1, 3, 3)\n(1, 2, 0, 0)\n(1, 2, 0, 1)\n(1, 2, 0, 2)\n(1, 2, 0, 3)\n(1, 2, 1, 0)\n(1, 2, 1, 1)\n(1, 2, 1, 2)\n(1, 2, 1, 3)\n(1, 2, 2, 0)\n(1, 2, 2, 1)\n(1, 2, 2, 2)\n(1, 2, 2, 3)\n(1, 2, 3, 0)\n(1, 2, 3, 1)\n(1, 2, 3, 2)\n(1, 2, 3, 3)\n(1, 3, 0, 0)\n(1, 3, 0, 1)\n(1, 3, 0, 2)\n(1, 3, 0, 3)\n(1, 3, 1, 0)\n(1, 3, 1, 1)\n(1, 3, 1, 2)\n(1, 3, 1, 3)\n(1, 3, 2, 0)\n(1, 3, 2, 1)\n(1, 3, 2, 2)\n(1, 3, 2, 3)\n(1, 3, 3, 0)\n(1, 3, 3, 1)\n(1, 3, 3, 2)\n(1, 3, 3, 3)\n(2, 0, 0, 0)\n(2, 0, 0, 1)\n(2, 0, 0, 2)\n(2, 0, 0, 3)\n(2, 0, 1, 0)\n(2, 0, 1, 1)\n(2, 0, 1, 2)\n(2, 0, 1, 3)\n(2, 0, 2, 0)\n(2, 0, 2, 1)\n(2, 0, 2, 2)\n(2, 0, 2, 3)\n(2, 0, 3, 0)\n(2, 0, 3, 1)\n(2, 0, 3, 2)\n(2, 0, 3, 3)\n(2, 1, 0, 0)\n(2, 1, 0, 1)\n(2, 1, 0, 2)\n(2, 1, 0, 3)\n(2, 1, 1, 0)\n(2, 1, 1, 1)\n(2, 1, 1, 2)\n(2, 1, 1, 3)\n(2, 1, 2, 0)\n(2, 1, 2, 1)\n(2, 1, 2, 2)\n(2, 1, 2, 3)\n(2, 1, 3, 0)\n(2, 1, 3, 1)\n(2, 1, 3, 2)\n(2, 1, 3, 3)\n(2, 2, 0, 0)\n(2, 2, 0, 1)\n(2, 2, 0, 2)\n(2, 2, 0, 3)\n(2, 2, 1, 0)\n(2, 2, 1, 1)\n(2, 2, 1, 2)\n(2, 2, 1, 3)\n(2, 2, 2, 0)\n(2, 2, 2, 1)\n(2, 2, 2, 2)\n(2, 2, 2, 3)\n(2, 2, 3, 0)\n(2, 2, 3, 1)\n(2, 2, 3, 2)\n(2, 2, 3, 3)\n(2, 3, 0, 0)\n(2, 3, 0, 1)\n(2, 3, 0, 2)\n(2, 3, 0, 3)\n(2, 3, 1, 0)\n(2, 3, 1, 1)\n(2, 3, 1, 2)\n(2, 3, 1, 3)\n(2, 3, 2, 0)\n(2, 3, 2, 1)\n(2, 3, 2, 2)\n(2, 3, 2, 3)\n(2, 3, 3, 0)\n(2, 3, 3, 1)\n(2, 3, 3, 2)\n(2, 3, 3, 3)\n(3, 0, 0, 0)\n(3, 0, 0, 1)\n(3, 0, 0, 2)\n(3, 0, 0, 3)\n(3, 0, 1, 0)\n(3, 0, 1, 1)\n(3, 0, 1, 2)\n(3, 0, 1, 3)\n(3, 0, 2, 0)\n(3, 0, 2, 1)\n(3, 0, 2, 2)\n(3, 0, 2, 3)\n(3, 0, 3, 0)\n(3, 0, 3, 1)\n(3, 0, 3, 2)\n(3, 0, 3, 3)\n(3, 1, 0, 0)\n(3, 1, 0, 1)\n(3, 1, 0, 2)\n(3, 1, 0, 3)\n(3, 1, 1, 0)\n(3, 1, 1, 1)\n(3, 1, 1, 2)\n(3, 1, 1, 3)\n(3, 1, 2, 0)\n(3, 1, 2, 1)\n(3, 1, 2, 2)\n(3, 1, 2, 3)\n(3, 1, 3, 0)\n(3, 1, 3, 1)\n(3, 1, 3, 2)\n(3, 1, 3, 3)\n(3, 2, 0, 0)\n(3, 2, 0, 1)\n(3, 2, 0, 2)\n(3, 2, 0, 3)\n(3, 2, 1, 0)\n(3, 2, 1, 1)\n(3, 2, 1, 2)\n(3, 2, 1, 3)\n(3, 2, 2, 0)\n(3, 2, 2, 1)\n(3, 2, 2, 2)\n(3, 2, 2, 3)\n(3, 2, 3, 0)\n(3, 2, 3, 1)\n(3, 2, 3, 2)\n(3, 2, 3, 3)\n(3, 3, 0, 0)\n(3, 3, 0, 1)\n(3, 3, 0, 2)\n(3, 3, 0, 3)\n(3, 3, 1, 0)\n(3, 3, 1, 1)\n(3, 3, 1, 2)\n(3, 3, 1, 3)\n(3, 3, 2, 0)\n(3, 3, 2, 1)\n(3, 3, 2, 2)\n(3, 3, 2, 3)\n(3, 3, 3, 0)\n(3, 3, 3, 1)\n(3, 3, 3, 2)\n(3, 3, 3, 3)\n"
    }
   ],
   "source": [
    "#in combination and permutation the values are not repeated like there wont be combination of a,a but if want this too we have to use product funct\n",
    "\n",
    "result=itertools.product(numbers,repeat=4)\n",
    "for item in result:\n",
    "    print(item)\n"
   ]
  },
  {
   "cell_type": "code",
   "execution_count": 13,
   "metadata": {},
   "outputs": [
    {
     "output_type": "stream",
     "name": "stdout",
     "text": "(0, 0, 0, 0)\n(0, 0, 0, 1)\n(0, 0, 0, 2)\n(0, 0, 0, 3)\n(0, 0, 1, 1)\n(0, 0, 1, 2)\n(0, 0, 1, 3)\n(0, 0, 2, 2)\n(0, 0, 2, 3)\n(0, 0, 3, 3)\n(0, 1, 1, 1)\n(0, 1, 1, 2)\n(0, 1, 1, 3)\n(0, 1, 2, 2)\n(0, 1, 2, 3)\n(0, 1, 3, 3)\n(0, 2, 2, 2)\n(0, 2, 2, 3)\n(0, 2, 3, 3)\n(0, 3, 3, 3)\n(1, 1, 1, 1)\n(1, 1, 1, 2)\n(1, 1, 1, 3)\n(1, 1, 2, 2)\n(1, 1, 2, 3)\n(1, 1, 3, 3)\n(1, 2, 2, 2)\n(1, 2, 2, 3)\n(1, 2, 3, 3)\n(1, 3, 3, 3)\n(2, 2, 2, 2)\n(2, 2, 2, 3)\n(2, 2, 3, 3)\n(2, 3, 3, 3)\n(3, 3, 3, 3)\n"
    }
   ],
   "source": [
    "#Combinations with repeated values\n",
    "result=itertools.combinations_with_replacement(numbers,4)\n",
    "for item in result:\n",
    "    print(item)"
   ]
  },
  {
   "cell_type": "code",
   "execution_count": 15,
   "metadata": {},
   "outputs": [
    {
     "output_type": "stream",
     "name": "stdout",
     "text": "a\nb\nc\nd\n0\n1\n2\n3\nCorey\nNicole\n"
    }
   ],
   "source": [
    "#chain Allows us to chain togetehr iterables such that it will go through all the items in on iterable and after that once that is exhausted it will go to the items in other iterable\n",
    "letters = ['a', 'b', 'c', 'd']\n",
    "numbers = [0, 1, 2, 3]\n",
    "names = ['Corey', 'Nicole']\n",
    "\n",
    "#here lists are small so we combine here and use it to iterate but for large list it is not efficient\n",
    "#combined=letters+numbers+names\n",
    "combined=itertools.chain(letters,numbers,names)\n",
    "for item in combined:\n",
    "    print(item)"
   ]
  },
  {
   "cell_type": "code",
   "execution_count": 16,
   "metadata": {},
   "outputs": [
    {
     "output_type": "stream",
     "name": "stdout",
     "text": "0\n1\n2\n3\n4\n"
    }
   ],
   "source": [
    "#islice to get slice of an iterator\n",
    "result=itertools.islice(range(10),5)\n",
    "for item in result:\n",
    "    print(item)"
   ]
  },
  {
   "cell_type": "code",
   "execution_count": 17,
   "metadata": {},
   "outputs": [
    {
     "output_type": "stream",
     "name": "stdout",
     "text": "1\n2\n3\n4\n"
    }
   ],
   "source": [
    "result=itertools.islice(range(10),1,5)\n",
    "for item in result:\n",
    "    print(item)"
   ]
  },
  {
   "cell_type": "code",
   "execution_count": 18,
   "metadata": {},
   "outputs": [
    {
     "output_type": "stream",
     "name": "stdout",
     "text": "1\n3\n"
    }
   ],
   "source": [
    "result=itertools.islice(range(10),1,5,2)\n",
    "for item in result:\n",
    "    print(item)"
   ]
  },
  {
   "cell_type": "code",
   "execution_count": 20,
   "metadata": {},
   "outputs": [
    {
     "output_type": "stream",
     "name": "stdout",
     "text": "Date: 2018-11-08\nAuthor: Corey\nDescription: This is a sample log file\n"
    }
   ],
   "source": [
    "with open('test.log','r') as f:\n",
    "    header=itertools.islice(f,3)\n",
    "\n",
    "    for line in header:\n",
    "        print(line,end='')\n",
    "\n"
   ]
  },
  {
   "cell_type": "code",
   "execution_count": 22,
   "metadata": {},
   "outputs": [
    {
     "output_type": "stream",
     "name": "stdout",
     "text": "a\nb\nd\n"
    }
   ],
   "source": [
    "#compress\n",
    "letters = ['a', 'b', 'c', 'd']\n",
    "selectors=[True,True,False,True]\n",
    "#Selects only those values from iterable one i.e letters whose values are true in iterable 2 i.e selectors similar to filter function but in filters we use a function but here values are supplied in another iterable\n",
    "result=itertools.compress(letters,selectors)\n",
    "for item in result:\n",
    "    print(item)"
   ]
  },
  {
   "cell_type": "code",
   "execution_count": 23,
   "metadata": {},
   "outputs": [
    {
     "output_type": "stream",
     "name": "stdout",
     "text": "0\n1\n"
    }
   ],
   "source": [
    "def lt_2(n):\n",
    "    if n < 2:\n",
    "        return True\n",
    "    return False\n",
    "result=filter(lt_2,numbers)\n",
    "for item in result:\n",
    "    print(item)"
   ]
  },
  {
   "cell_type": "code",
   "execution_count": 25,
   "metadata": {},
   "outputs": [
    {
     "output_type": "stream",
     "name": "stdout",
     "text": "2\n3\n2\n"
    }
   ],
   "source": [
    "numbers = [0, 1, 2, 3,2, 1, 0]\n",
    "result=itertools.filterfalse(lt_2,numbers)\n",
    "for item in result:\n",
    "    print(item)"
   ]
  },
  {
   "cell_type": "code",
   "execution_count": 26,
   "metadata": {},
   "outputs": [
    {
     "output_type": "stream",
     "name": "stdout",
     "text": "2\n3\n2\n1\n0\n"
    }
   ],
   "source": [
    "#dropwhile Behaves same as filterFalse till it sees the values matches i.e drops it till the conditon and then displays the other values without checking the condition\n",
    "numbers = [0, 1, 2, 3,2, 1, 0]\n",
    "result=itertools.dropwhile(lt_2,numbers)\n",
    "for item in result:\n",
    "    print(item)\n"
   ]
  },
  {
   "cell_type": "code",
   "execution_count": 27,
   "metadata": {},
   "outputs": [
    {
     "output_type": "stream",
     "name": "stdout",
     "text": "0\n1\n"
    }
   ],
   "source": [
    "#Opposite of dropWhile\n",
    "numbers = [0, 1, 2, 3,2, 1, 0]\n",
    "result=itertools.takewhile(lt_2,numbers)\n",
    "for item in result:\n",
    "    print(item)"
   ]
  },
  {
   "cell_type": "code",
   "execution_count": 28,
   "metadata": {},
   "outputs": [
    {
     "output_type": "stream",
     "name": "stdout",
     "text": "0\n1\n3\n6\n8\n9\n9\n"
    }
   ],
   "source": [
    "numbers = [0, 1, 2, 3,2, 1, 0]\n",
    "result=itertools.accumulate(numbers)\n",
    "for item in result:\n",
    "    print(item)"
   ]
  },
  {
   "cell_type": "code",
   "execution_count": 29,
   "metadata": {},
   "outputs": [
    {
     "output_type": "stream",
     "name": "stdout",
     "text": "1\n2\n6\n12\n12\n0\n"
    }
   ],
   "source": [
    "import operator\n",
    "numbers = [1, 2, 3,2, 1, 0]\n",
    "result=itertools.accumulate(numbers,operator.mul)\n",
    "for item in result:\n",
    "    print(item)"
   ]
  },
  {
   "cell_type": "code",
   "execution_count": 31,
   "metadata": {},
   "outputs": [
    {
     "output_type": "stream",
     "name": "stdout",
     "text": "NY\n{'name': 'John Doe', 'city': 'Gotham', 'state': 'NY'}\n{'name': 'Jane Doe', 'city': 'Kings Landing', 'state': 'NY'}\n\nCO\n{'name': 'Corey Schafer', 'city': 'Boulder', 'state': 'CO'}\n{'name': 'Al Einstein', 'city': 'Denver', 'state': 'CO'}\n\nWV\n{'name': 'John Henry', 'city': 'Hinton', 'state': 'WV'}\n{'name': 'Randy Moss', 'city': 'Rand', 'state': 'WV'}\n\nNC\n{'name': 'Nicole K', 'city': 'Asheville', 'state': 'NC'}\n{'name': 'Jim Doe', 'city': 'Charlotte', 'state': 'NC'}\n{'name': 'Jane Taylor', 'city': 'Faketown', 'state': 'NC'}\n\n"
    }
   ],
   "source": [
    "#groupBy\n",
    "\n",
    "def get_state(person):\n",
    "    return person['state']\n",
    "\n",
    "\n",
    "people = [\n",
    "    {\n",
    "        'name': 'John Doe',\n",
    "        'city': 'Gotham',\n",
    "        'state': 'NY'\n",
    "    },\n",
    "    {\n",
    "        'name': 'Jane Doe',\n",
    "        'city': 'Kings Landing',\n",
    "        'state': 'NY'\n",
    "    },\n",
    "    {\n",
    "        'name': 'Corey Schafer',\n",
    "        'city': 'Boulder',\n",
    "        'state': 'CO'\n",
    "    },\n",
    "    {\n",
    "        'name': 'Al Einstein',\n",
    "        'city': 'Denver',\n",
    "        'state': 'CO'\n",
    "    },\n",
    "    {\n",
    "        'name': 'John Henry',\n",
    "        'city': 'Hinton',\n",
    "        'state': 'WV'\n",
    "    },\n",
    "    {\n",
    "        'name': 'Randy Moss',\n",
    "        'city': 'Rand',\n",
    "        'state': 'WV'\n",
    "    },\n",
    "    {\n",
    "        'name': 'Nicole K',\n",
    "        'city': 'Asheville',\n",
    "        'state': 'NC'\n",
    "    },\n",
    "    {\n",
    "        'name': 'Jim Doe',\n",
    "        'city': 'Charlotte',\n",
    "        'state': 'NC'\n",
    "    },\n",
    "    {\n",
    "        'name': 'Jane Taylor',\n",
    "        'city': 'Faketown',\n",
    "        'state': 'NC'\n",
    "    }\n",
    "]\n",
    "\n",
    "person_group=itertools.groupby(people,get_state)\n",
    "for key,group in person_group:\n",
    "    print(key)\n",
    "    for person in group:\n",
    "        print(person)\n",
    "    print()"
   ]
  },
  {
   "cell_type": "code",
   "execution_count": 34,
   "metadata": {},
   "outputs": [
    {
     "output_type": "stream",
     "name": "stdout",
     "text": "NY 2\nCO 2\nWV 2\nNC 3\n"
    }
   ],
   "source": [
    "#Group by requires the values to be sorted before this our data is already sorted like NY are together etc.So before using groupBy sort the dictionary\n",
    "person_group=itertools.groupby(people,get_state)\n",
    "for key,group in person_group:\n",
    "    print(key,len(list(group)))"
   ]
  },
  {
   "cell_type": "code",
   "execution_count": null,
   "metadata": {},
   "outputs": [],
   "source": [
    "#Replicate the iterator\n",
    "person_group=itertools.groupby(people,get_state)\n",
    "copy1,copy2=itertools.tee(person_group)\n",
    "# for key,group in person_group:\n",
    "#     print(key,len(list(group)))"
   ]
  }
 ],
 "metadata": {
  "kernelspec": {
   "display_name": "Python 3",
   "language": "python",
   "name": "python3"
  },
  "language_info": {
   "codemirror_mode": {
    "name": "ipython",
    "version": 3
   },
   "file_extension": ".py",
   "mimetype": "text/x-python",
   "name": "python",
   "nbconvert_exporter": "python",
   "pygments_lexer": "ipython3",
   "version": "3.7.6-final"
  }
 },
 "nbformat": 4,
 "nbformat_minor": 4
}