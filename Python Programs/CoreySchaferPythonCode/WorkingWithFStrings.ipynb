{
 "cells": [
  {
   "cell_type": "code",
   "execution_count": 4,
   "metadata": {},
   "outputs": [
    {
     "output_type": "stream",
     "name": "stdout",
     "text": "My name is Nitin Matani\nMy name is Nitin Matani\nMy name is NITIN MATANI\n"
    }
   ],
   "source": [
    "first_name='Nitin'\n",
    "last_name='Matani'\n",
    "\n",
    "sentence ='My name is {} {}'.format(first_name,last_name)\n",
    "print(sentence)\n",
    "\n",
    "# F string method of string formatting only available after Python 3.6\n",
    "sentence =f'My name is {first_name} {last_name}'\n",
    "print(sentence)\n",
    "\n",
    "sentence =f'My name is {first_name.upper()} {last_name.upper()}'\n",
    "print(sentence)"
   ]
  },
  {
   "cell_type": "code",
   "execution_count": 7,
   "metadata": {},
   "outputs": [
    {
     "output_type": "stream",
     "name": "stdout",
     "text": "My name is Jenn and i am 23 years old\nMy name is Jenn and i am 23 years old\n"
    }
   ],
   "source": [
    "person={'name':'Jenn','age':23}\n",
    "sentence='My name is {} and i am {} years old'.format(person['name'],person['age'])\n",
    "print(sentence)\n",
    "\n",
    "sentence=f\"My name is {person['name']} and i am {person['age']} years old\"\n",
    "print(sentence)"
   ]
  },
  {
   "cell_type": "code",
   "execution_count": 9,
   "metadata": {},
   "outputs": [
    {
     "output_type": "stream",
     "name": "stdout",
     "text": "4 times 11 is equal to 44\n"
    }
   ],
   "source": [
    "calculation=f'4 times 11 is equal to {4*11}'\n",
    "print(calculation)"
   ]
  },
  {
   "cell_type": "code",
   "execution_count": 12,
   "metadata": {},
   "outputs": [
    {
     "output_type": "stream",
     "name": "stdout",
     "text": "The value of 01\nThe value of 02\nThe value of 03\nThe value of 04\nThe value of 05\nThe value of 06\nThe value of 07\nThe value of 08\nThe value of 09\nThe value of 10\n"
    }
   ],
   "source": [
    "for n in range(1,11):\n",
    "    sentence=f'The value of {n:02}'\n",
    "    print(sentence)\n"
   ]
  },
  {
   "cell_type": "code",
   "execution_count": 13,
   "metadata": {},
   "outputs": [
    {
     "output_type": "stream",
     "name": "stdout",
     "text": "Pi is equal to 3.14159265\nPi is equal to 3.1416\n"
    }
   ],
   "source": [
    "pi=3.14159265\n",
    "sentence=f'Pi is equal to {pi}'\n",
    "print(sentence)\n",
    "\n",
    "sentence=f'Pi is equal to {pi:.4f}'\n",
    "print(sentence)\n"
   ]
  },
  {
   "cell_type": "code",
   "execution_count": 16,
   "metadata": {},
   "outputs": [
    {
     "output_type": "stream",
     "name": "stdout",
     "text": "Jenn has a birthday on January 01, 1990\n"
    }
   ],
   "source": [
    "from datetime import datetime\n",
    "birthday=datetime(1990,1,1)\n",
    "sentence=f'Jenn has a birthday on {birthday:%B %d, %Y}'\n",
    "print(sentence)\n"
   ]
  },
  {
   "cell_type": "code",
   "execution_count": null,
   "metadata": {},
   "outputs": [],
   "source": []
  }
 ],
 "metadata": {
  "language_info": {
   "codemirror_mode": {
    "name": "ipython",
    "version": 3
   },
   "file_extension": ".py",
   "mimetype": "text/x-python",
   "name": "python",
   "nbconvert_exporter": "python",
   "pygments_lexer": "ipython3",
   "version": "3.7.6-final"
  },
  "orig_nbformat": 2,
  "kernelspec": {
   "name": "python3",
   "display_name": "Python 3"
  }
 },
 "nbformat": 4,
 "nbformat_minor": 2
}