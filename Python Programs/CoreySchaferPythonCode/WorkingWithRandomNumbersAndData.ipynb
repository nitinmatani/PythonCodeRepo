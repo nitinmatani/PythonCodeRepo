{
 "cells": [
  {
   "cell_type": "code",
   "execution_count": 22,
   "metadata": {},
   "outputs": [
    {
     "output_type": "stream",
     "name": "stdout",
     "text": "0.47591934283484016\n4.153592312324607\n4\nHowdy\n['Red', 'Red', 'Black', 'Red', 'Red', 'Black', 'Black', 'Red', 'Red', 'Red']\n"
    }
   ],
   "source": [
    "import random\n",
    "value=random.random()\n",
    "print(value)\n",
    "\n",
    "value=random.uniform(1,10)\n",
    "print(value)\n",
    "\n",
    "value=random.randint(1,6)\n",
    "print(value)\n",
    "\n",
    "greetings=['Hello','Hi','Hey','Howdy','Hola']\n",
    "value=random.choice(greetings)\n",
    "print(value)\n",
    "\n",
    "colors=['Red','Black','Green']\n",
    "results=random.choices(colors,weights=[18,18,2],k=10)\n",
    "print(results)\n"
   ]
  },
  {
   "cell_type": "code",
   "execution_count": 26,
   "metadata": {},
   "outputs": [
    {
     "output_type": "stream",
     "name": "stdout",
     "text": "[1, 2, 3, 4, 5, 6, 7, 8, 9, 10, 11, 12, 13, 14, 15, 16, 17, 18, 19, 20, 21, 22, 23, 24, 25, 26, 27, 28, 29, 30, 31, 32, 33, 34, 35, 36, 37, 38, 39, 40, 41, 42, 43, 44, 45, 46, 47, 48, 49, 50, 51, 52]\n[46, 42, 39, 29, 31, 17, 40, 36, 45, 2, 11, 48, 26, 20, 30, 3, 24, 6, 5, 52, 41, 7, 16, 25, 4, 1, 19, 21, 34, 33, 8, 12, 27, 37, 14, 51, 23, 47, 22, 10, 49, 35, 15, 28, 9, 43, 18, 50, 38, 44, 32, 13]\n[11, 22, 52, 20, 41]\n"
    }
   ],
   "source": [
    "deck = list(range(1, 53))\n",
    "print(deck)\n",
    "random.shuffle(deck)\n",
    "print(deck)\n",
    "hand = random.sample(deck, k=5)\n",
    "print(hand)"
   ]
  },
  {
   "cell_type": "code",
   "execution_count": 27,
   "metadata": {},
   "outputs": [
    {
     "output_type": "stream",
     "name": "stdout",
     "text": "Sam Jacobs\n616-555-9760\n817 Pearl St., Vice City AZ 35708\nsamjacobs@bogusemail.com\n\nJane Taylor\n661-555-8959\n543 Oak St., Bedrock NE 36773\njanetaylor@bogusemail.com\n\nJoe Stuart\n780-555-4421\n383 Park St., Gotham MI 32969\njoestuart@bogusemail.com\n\nTravis Harris\n867-555-9493\n650 Pine St., Vice City WV 52695\ntravisharris@bogusemail.com\n\nCharles Martin\n645-555-6247\n615 Cedar St., Smalltown SC 76404\ncharlesmartin@bogusemail.com\n\nCharles Arnold\n516-555-8969\n767 Hill St., Olympus NV 82992\ncharlesarnold@bogusemail.com\n\nNicole Stuart\n152-555-3528\n526 Pearl St., Sunnydale SD 40705\nnicolestuart@bogusemail.com\n\nCorey Patterson\n192-555-1359\n509 Pine St., Eerie AZ 60948\ncoreypatterson@bogusemail.com\n\nJohn Johnson\n576-555-5733\n633 Park St., Epicburg WY 54538\njohnjohnson@bogusemail.com\n\nPatricia Wilson\n900-555-1119\n458 Hill St., Metropolis WA 35581\npatriciawilson@bogusemail.com\n\nElizabeth Robinson\n980-555-6698\n979 Pine St., Mordor TN 57900\nelizabethrobinson@bogusemail.com\n\nCharles Moore\n111-555-6159\n936 Maple St., Lakeview CO 98372\ncharlesmoore@bogusemail.com\n\nPatricia White\n136-555-8353\n991 High St., Blackwater ID 96685\npatriciawhite@bogusemail.com\n\nDave Johnson\n285-555-4138\n336 Washington St., Bedrock UT 31158\ndavejohnson@bogusemail.com\n\nJohn Jackson\n366-555-9730\n250 Elm St., Gotham ME 66797\njohnjackson@bogusemail.com\n\nPatricia Williams\n304-555-8598\n428 Maple St., Braavos‎ OH 36642\npatriciawilliams@bogusemail.com\n\nJennifer Jacobs\n184-555-3181\n436 Pearl St., Winterfell AZ 61493\njenniferjacobs@bogusemail.com\n\nJane Taylor\n177-555-3835\n502 Park St., Springfield MA 65909\njanetaylor@bogusemail.com\n\nSam Johnson\n266-555-5651\n382 Hill St., Braavos‎ NJ 86093\nsamjohnson@bogusemail.com\n\nNicole Patterson\n824-555-4025\n262 Pearl St., Mordor MO 16248\nnicolepatterson@bogusemail.com\n\nBarbara Harris\n885-555-8617\n759 Park St., Atlantis IL 85899\nbarbaraharris@bogusemail.com\n\nElizabeth Robinson\n870-555-8488\n274 Lake St., Atlantis KS 13897\nelizabethrobinson@bogusemail.com\n\nDave Jenkins\n182-555-5608\n893 High St., Dawnstar MA 22455\ndavejenkins@bogusemail.com\n\nJane Stuart\n983-555-8391\n800 Lake St., South Park DE 22035\njanestuart@bogusemail.com\n\nCharles Williams\n939-555-7635\n762 Main St., Vice City KY 81608\ncharleswilliams@bogusemail.com\n\nMichael Wilson\n809-555-3578\n923 Cedar St., Winterfell MN 53896\nmichaelwilson@bogusemail.com\n\nCharles Brown\n193-555-2724\n862 High St., Balmora HI 15020\ncharlesbrown@bogusemail.com\n\nCorey White\n298-555-7143\n183 Lake St., Atlantis UT 91620\ncoreywhite@bogusemail.com\n\nPatricia Jones\n861-555-2670\n387 Park St., Bedrock WI 33794\npatriciajones@bogusemail.com\n\nNeil Davis\n203-555-7450\n478 Park St., Springfield GA 90348\nneildavis@bogusemail.com\n\nMaggie Miller\n734-555-9881\n961 Cedar St., Quahog MD 27834\nmaggiemiller@bogusemail.com\n\nKurt Wilks\n989-555-7528\n113 Cedar St., Quahog SD 17018\nkurtwilks@bogusemail.com\n\nMichael Taylor\n896-555-1652\n666 Lake St., Valyria MO 96467\nmichaeltaylor@bogusemail.com\n\nMary Patterson\n191-555-1316\n611 Hill St., Metropolis NM 54055\nmarypatterson@bogusemail.com\n\nMaria Arnold\n345-555-7593\n853 Hill St., Bedrock NH 57975\nmariaarnold@bogusemail.com\n\nJohn Wright\n721-555-9971\n843 Park St., Braavos‎ WY 36506\njohnwright@bogusemail.com\n\nJames Wilson\n195-555-8764\n377 Park St., Smalltown WA 92338\njameswilson@bogusemail.com\n\nJennifer Doe\n918-555-4575\n178 High St., Faketown OK 37638\njenniferdoe@bogusemail.com\n\nTom Moore\n163-555-4212\n214 Lake St., Westworld ME 95746\ntommoore@bogusemail.com\n\nJane Jones\n118-555-2700\n237 Park St., Vice City AZ 23921\njanejones@bogusemail.com\n\nJane Stuart\n718-555-4525\n534 Oak St., King's Landing WV 33427\njanestuart@bogusemail.com\n\nRobert Stuart\n486-555-7203\n929 Main St., Oldtown KY 49894\nrobertstuart@bogusemail.com\n\nNeil Stuart\n143-555-4923\n237 Main St., Dawnstar DE 17991\nneilstuart@bogusemail.com\n\nTravis Davis\n315-555-1128\n360 Hill St., Balmora SC 31624\ntravisdavis@bogusemail.com\n\nLinda Jefferson\n233-555-6582\n634 Hill St., Braavos‎ AL 73066\nlindajefferson@bogusemail.com\n\nJames Moore\n501-555-3549\n828 Maple St., Eerie MD 66827\njamesmoore@bogusemail.com\n\nJames Patterson\n747-555-4059\n646 Hill St., Bedrock OH 20089\njamespatterson@bogusemail.com\n\nPatricia Miller\n696-555-4190\n934 Cedar St., Atlantis DE 16070\npatriciamiller@bogusemail.com\n\nKurt Patterson\n863-555-8104\n826 Pine St., South Park NM 88762\nkurtpatterson@bogusemail.com\n\nSam Anderson\n336-555-6093\n780 Elm St., Lakeview MA 57036\nsamanderson@bogusemail.com\n\nTom Thomas\n330-555-9692\n165 Elm St., Westworld OK 83285\ntomthomas@bogusemail.com\n\nBarbara Wilks\n917-555-8774\n705 Cedar St., Metropolis TX 68106\nbarbarawilks@bogusemail.com\n\nDave Davis\n145-555-6054\n599 Oak St., Metropolis IN 63106\ndavedavis@bogusemail.com\n\nKurt Miller\n162-555-9507\n991 Pearl St., Springfield VT 38738\nkurtmiller@bogusemail.com\n\nBarbara Jenkins\n887-555-5588\n342 Hill St., Springfield WA 79181\nbarbarajenkins@bogusemail.com\n\nSteve Davis\n270-555-9720\n555 Maple St., Vice City FL 71621\nstevedavis@bogusemail.com\n\nRobert Johnson\n132-555-9815\n557 Elm St., Balmora NH 14386\nrobertjohnson@bogusemail.com\n\nNeil Patterson\n886-555-6785\n291 Maple St., Valyria WA 99578\nneilpatterson@bogusemail.com\n\nSam Arnold\n544-555-2234\n535 Maple St., Vice City NJ 14399\nsamarnold@bogusemail.com\n\nNeil Robinson\n946-555-3729\n901 Oak St., Atlantis UT 52937\nneilrobinson@bogusemail.com\n\nJoe Jefferson\n708-555-8821\n434 Elm St., Westworld VT 89905\njoejefferson@bogusemail.com\n\nRobert Wilks\n382-555-2953\n868 Pearl St., Lakeview IN 68301\nrobertwilks@bogusemail.com\n\nSteve Anderson\n660-555-4602\n136 High St., South Park SC 84499\nsteveanderson@bogusemail.com\n\nJennifer Miller\n669-555-8371\n553 Main St., Eerie WY 47476\njennifermiller@bogusemail.com\n\nNeil Thomas\n597-555-5454\n631 Hill St., Metropolis MN 41325\nneilthomas@bogusemail.com\n\nNicole Arnold\n439-555-1962\n260 Maple St., Braavos‎ KS 44417\nnicolearnold@bogusemail.com\n\nMary Wright\n587-555-8011\n777 Washington St., Smalltown KS 71103\nmarywright@bogusemail.com\n\nElizabeth Jones\n125-555-4721\n134 Park St., Metropolis SD 60184\nelizabethjones@bogusemail.com\n\nBarbara Jefferson\n209-555-7727\n936 Pearl St., Pythonville PA 19970\nbarbarajefferson@bogusemail.com\n\nRobert White\n358-555-9199\n402 Pine St., Bedrock NH 97333\nrobertwhite@bogusemail.com\n\nKurt Anderson\n965-555-6924\n137 Elm St., Gotham CT 70672\nkurtanderson@bogusemail.com\n\nRobert Smith\n402-555-3204\n246 Pearl St., Quahog WA 82592\nrobertsmith@bogusemail.com\n\nTravis Smith\n151-555-9966\n507 Hill St., Dawnstar VA 27391\ntravissmith@bogusemail.com\n\nKurt Jacobs\n643-555-1194\n649 Pine St., Atlantis PA 46125\nkurtjacobs@bogusemail.com\n\nMary Stuart\n346-555-6289\n621 Washington St., Eerie ID 64733\nmarystuart@bogusemail.com\n\nMary Wilks\n812-555-4376\n523 High St., Metropolis NY 78048\nmarywilks@bogusemail.com\n\nElizabeth Johnson\n855-555-1427\n921 Oak St., Oldtown NJ 77245\nelizabethjohnson@bogusemail.com\n\nMaggie Smith\n286-555-7540\n656 Maple St., Valyria AZ 46437\nmaggiesmith@bogusemail.com\n\nRobert Moore\n504-555-8639\n549 Park St., Winterfell MD 38235\nrobertmoore@bogusemail.com\n\nElizabeth Jefferson\n398-555-9725\n151 Elm St., Olympus RI 65396\nelizabethjefferson@bogusemail.com\n\nJennifer White\n520-555-8267\n865 Park St., Winterfell SC 32828\njenniferwhite@bogusemail.com\n\nRobert Davis\n247-555-3218\n101 Main St., Metropolis NM 40405\nrobertdavis@bogusemail.com\n\nTravis Williams\n562-555-2218\n982 Elm St., Oldtown MA 31268\ntraviswilliams@bogusemail.com\n\nRobert Stuart\n653-555-1773\n980 High St., South Park ND 50484\nrobertstuart@bogusemail.com\n\nMary Wright\n966-555-8560\n665 Elm St., Pythonville WY 15059\nmarywright@bogusemail.com\n\nTom Robinson\n296-555-5120\n809 Pearl St., Epicburg OH 20057\ntomrobinson@bogusemail.com\n\nPatricia Davis\n913-555-5544\n131 Pearl St., Dawnstar NC 62236\npatriciadavis@bogusemail.com\n\nKurt Smith\n757-555-5673\n321 Lake St., South Park KY 54435\nkurtsmith@bogusemail.com\n\nRobert Stuart\n502-555-3215\n671 Main St., Faketown DE 66069\nrobertstuart@bogusemail.com\n\nNeil Taylor\n733-555-6546\n709 High St., Blackwater ID 38500\nneiltaylor@bogusemail.com\n\nMary Williams\n323-555-5992\n577 Cedar St., Metropolis MT 47060\nmarywilliams@bogusemail.com\n\nCorey Robinson\n249-555-6398\n694 Oak St., Quahog KY 57649\ncoreyrobinson@bogusemail.com\n\nSam Jones\n462-555-1276\n721 Elm St., Gotham MA 97281\nsamjones@bogusemail.com\n\nLinda Smith\n182-555-2623\n268 Main St., Westworld MT 82856\nlindasmith@bogusemail.com\n\nLaura Jacobs\n156-555-5347\n742 High St., Springfield MN 15153\nlaurajacobs@bogusemail.com\n\nTom Wilks\n110-555-9865\n295 Oak St., Vice City NC 13210\ntomwilks@bogusemail.com\n\nLaura Smith\n877-555-8119\n911 Lake St., Smalltown VT 28308\nlaurasmith@bogusemail.com\n\nPatricia Robinson\n879-555-6327\n729 Main St., Olympus NC 25498\npatriciarobinson@bogusemail.com\n\nMaria Jacobs\n764-555-9548\n417 Pine St., Oldtown MO 20755\nmariajacobs@bogusemail.com\n\nTravis Doe\n204-555-7089\n836 Cedar St., Vice City UT 77185\ntravisdoe@bogusemail.com\n\n"
    }
   ],
   "source": [
    "#Super simple module to create basic random data for tutorials\n",
    "first_names = ['John', 'Jane', 'Corey', 'Travis', 'Dave', 'Kurt', 'Neil', 'Sam', 'Steve', 'Tom', 'James', 'Robert', 'Michael', 'Charles', 'Joe', 'Mary', 'Maggie', 'Nicole', 'Patricia', 'Linda', 'Barbara', 'Elizabeth', 'Laura', 'Jennifer', 'Maria']\n",
    "\n",
    "last_names = ['Smith', 'Doe', 'Jenkins', 'Robinson', 'Davis', 'Stuart', 'Jefferson', 'Jacobs', 'Wright', 'Patterson', 'Wilks', 'Arnold', 'Johnson', 'Williams', 'Jones', 'Brown', 'Davis', 'Miller', 'Wilson', 'Moore', 'Taylor', 'Anderson', 'Thomas', 'Jackson', 'White', 'Harris', 'Martin']\n",
    "\n",
    "street_names = ['Main', 'High', 'Pearl', 'Maple', 'Park', 'Oak', 'Pine', 'Cedar', 'Elm', 'Washington', 'Lake', 'Hill']\n",
    "\n",
    "fake_cities = ['Metropolis', 'Eerie', \"King's Landing\", 'Sunnydale', 'Bedrock', 'South Park', 'Atlantis', 'Mordor', 'Olympus', 'Dawnstar', 'Balmora', 'Gotham', 'Springfield', 'Quahog', 'Smalltown', 'Epicburg', 'Pythonville', 'Faketown', 'Westworld', 'Thundera', 'Vice City', 'Blackwater', 'Oldtown', 'Valyria', 'Winterfell', 'Braavos‎', 'Lakeview']\n",
    "\n",
    "states = ['AL', 'AK', 'AZ', 'AR', 'CA', 'CO', 'CT', 'DC', 'DE', 'FL', 'GA', 'HI', 'ID', 'IL', 'IN', 'IA', 'KS', 'KY', 'LA', 'ME', 'MD', 'MA', 'MI', 'MN', 'MS', 'MO', 'MT', 'NE', 'NV', 'NH', 'NJ', 'NM', 'NY', 'NC', 'ND', 'OH', 'OK', 'OR', 'PA', 'RI', 'SC', 'SD', 'TN', 'TX', 'UT', 'VT', 'VA', 'WA', 'WV', 'WI', 'WY']\n",
    "\n",
    "for num in range(100):\n",
    "    first = random.choice(first_names)\n",
    "    last = random.choice(last_names)\n",
    "\n",
    "    phone = f'{random.randint(100, 999)}-555-{random.randint(1000,9999)}'\n",
    "\n",
    "    street_num = random.randint(100, 999)\n",
    "    street = random.choice(street_names)\n",
    "    city = random.choice(fake_cities)\n",
    "    state = random.choice(states)\n",
    "    zip_code = random.randint(10000, 99999)\n",
    "    address = f'{street_num} {street} St., {city} {state} {zip_code}'\n",
    "\n",
    "    email = first.lower() + last.lower() + '@bogusemail.com'\n",
    "\n",
    "    print(f'{first} {last}\\n{phone}\\n{address}\\n{email}\\n')"
   ]
  },
  {
   "cell_type": "code",
   "execution_count": null,
   "metadata": {},
   "outputs": [],
   "source": []
  }
 ],
 "metadata": {
  "language_info": {
   "codemirror_mode": {
    "name": "ipython",
    "version": 3
   },
   "file_extension": ".py",
   "mimetype": "text/x-python",
   "name": "python",
   "nbconvert_exporter": "python",
   "pygments_lexer": "ipython3",
   "version": "3.7.6-final"
  },
  "orig_nbformat": 2,
  "kernelspec": {
   "name": "python3",
   "display_name": "Python 3"
  }
 },
 "nbformat": 4,
 "nbformat_minor": 2
}