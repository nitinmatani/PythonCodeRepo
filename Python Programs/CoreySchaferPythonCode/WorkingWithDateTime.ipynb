{
 "cells": [
  {
   "cell_type": "code",
   "execution_count": 4,
   "metadata": {},
   "outputs": [
    {
     "output_type": "stream",
     "name": "stdout",
     "text": "2001-09-11\n2020-06-01\n0\n1\n"
    }
   ],
   "source": [
    "import datetime\n",
    "import pytz\n",
    "\n",
    "# Naive\n",
    "d = datetime.date(2001, 9, 11)\n",
    "print(d)\n",
    "tday = datetime.date.today()\n",
    "print(tday)\n",
    "# weekday() - Monday is 0 and Sunday is 6\n",
    "print(tday.weekday())\n",
    "# isoweekday() - Monday is 1 and Sunday is 7\n",
    "print(tday.isoweekday())\n",
    "\n",
    "\n"
   ]
  },
  {
   "cell_type": "code",
   "execution_count": 7,
   "metadata": {},
   "outputs": [
    {
     "output_type": "stream",
     "name": "stdout",
     "text": "2020-06-08\n2020-05-25\n2020-06-01\n"
    }
   ],
   "source": [
    "# datetime.timedelta(days=0, seconds=0, microseconds=0, milliseconds=0, minutes=0, hours=0, weeks=0)\n",
    "tdelta = datetime.timedelta(days=7)\n",
    "print(tday + tdelta)\n",
    "print(tday - tdelta)\n",
    "tdelta = datetime.timedelta(hours=12)\n",
    "print(tday + tdelta)\n",
    "\n",
    "\n"
   ]
  },
  {
   "cell_type": "code",
   "execution_count": 8,
   "metadata": {},
   "outputs": [
    {
     "output_type": "stream",
     "name": "stdout",
     "text": "115\nJune 01, 2020\n2016-07-24 00:00:00\n"
    }
   ],
   "source": [
    "# date2 = date1 + timedelta\n",
    "# timedelta = date1 + date2\n",
    "bday = datetime.date(2020, 9, 24)\n",
    "till_bday = bday - tday\n",
    "print(till_bday.days)"
   ]
  },
  {
   "cell_type": "code",
   "execution_count": 9,
   "metadata": {},
   "outputs": [
    {
     "output_type": "stream",
     "name": "stdout",
     "text": "09:30:45.100000\nJune 01, 2020\n2016-07-24 00:00:00\n"
    }
   ],
   "source": [
    "t = datetime.time(9, 30, 45, 100000)\n",
    "print(t)\n"
   ]
  },
  {
   "cell_type": "code",
   "execution_count": 12,
   "metadata": {},
   "outputs": [
    {
     "output_type": "stream",
     "name": "stdout",
     "text": "2016-07-24 12:30:45.100000\n12:30:45.100000\n2016-07-24\n2016\n2016-07-25 00:30:45.100000\n"
    }
   ],
   "source": [
    "dt = datetime.datetime(2016, 7, 24, 12, 30, 45, 100000)\n",
    "print(dt)\n",
    "print(dt.time())\n",
    "print(dt.date())\n",
    "print(dt.year)\n",
    "\n",
    "tdelta = datetime.timedelta(hours=12)\n",
    "print(dt + tdelta)\n"
   ]
  },
  {
   "cell_type": "code",
   "execution_count": 20,
   "metadata": {},
   "outputs": [
    {
     "output_type": "stream",
     "name": "stdout",
     "text": "2020-06-01 12:32:20.822459\n2020-06-01 12:32:20.822459\n2020-06-01 07:02:20.822459\n"
    }
   ],
   "source": [
    "dt_today = datetime.datetime.today()\n",
    "dt_now = datetime.datetime.now()\n",
    "dt_utcnow=datetime.datetime.utcnow()\n",
    "#print(dir(datetime.datetime))\n",
    "print(dt_today)\n",
    "print(dt_now)\n",
    "print(dt_utcnow)\n",
    "\n"
   ]
  },
  {
   "cell_type": "code",
   "execution_count": 22,
   "metadata": {},
   "outputs": [
    {
     "output_type": "stream",
     "name": "stdout",
     "text": "2016-07-24 12:30:45+00:00\n2020-06-01 07:05:45.460487+00:00\n2020-06-01 07:05:45.460487+00:00\n"
    }
   ],
   "source": [
    "\n",
    "dt = datetime.datetime(2016, 7, 24, 12, 30, 45, tzinfo=pytz.UTC)\n",
    "print(dt)\n",
    "# print(dir(dt))\n",
    "\n",
    "#With Timezone\n",
    "dt_utcnow = datetime.datetime.now(tz=pytz.UTC)\n",
    "print(dt_utcnow)\n",
    "dt_utcnow2 = datetime.datetime.utcnow().replace(tzinfo=pytz.UTC)\n",
    "print(dt_utcnow2)"
   ]
  },
  {
   "cell_type": "code",
   "execution_count": 25,
   "metadata": {},
   "outputs": [
    {
     "output_type": "stream",
     "name": "stdout",
     "text": "2020-06-01 01:05:45.460487-06:00\n"
    }
   ],
   "source": [
    "dt_mtn = dt_utcnow.astimezone(pytz.timezone('US/Mountain'))\n",
    "print(dt_mtn)\n",
    "\n",
    "#To get list of all timezones\n",
    "# for tz in pytz.all_timezones:\n",
    "#     print(tz)"
   ]
  },
  {
   "cell_type": "code",
   "execution_count": 26,
   "metadata": {},
   "outputs": [
    {
     "output_type": "stream",
     "name": "stdout",
     "text": "2020-06-01 12:44:30.149634\n2020-06-01 12:44:30.149634-06:00\n2020-06-01 14:44:30.149634-04:00\n"
    }
   ],
   "source": [
    "dt_mtn = datetime.datetime.now()\n",
    "print(dt_mtn) #Local without timezone ie naive datetime\n",
    "mtn_tz = pytz.timezone('US/Mountain')\n",
    "dt_mtn = mtn_tz.localize(dt_mtn) #Now it becomes timezone aware and we can convert it to other timezones like below\n",
    "print(dt_mtn)\n",
    "dt_east = dt_mtn.astimezone(pytz.timezone('US/Eastern'))\n",
    "print(dt_east)\n",
    "\n"
   ]
  },
  {
   "cell_type": "code",
   "execution_count": 31,
   "metadata": {},
   "outputs": [
    {
     "output_type": "stream",
     "name": "stdout",
     "text": "2020-06-01 01:21:34.376373-06:00\n2020-06-01T01:21:34.376373-06:00\nJune 01, 2020\n2016-07-24 00:00:00\n"
    }
   ],
   "source": [
    "dt_mtn = datetime.datetime.now(tz=pytz.timezone('US/Mountain'))\n",
    "print(dt_mtn)\n",
    "print(dt_mtn.isoformat())\n",
    "\n",
    "print(dt_mtn.strftime('%B %d, %Y'))\n",
    "\n",
    "dt_str = 'July 24, 2016'\n",
    "dt = datetime.datetime.strptime(dt_str, '%B %d, %Y')\n",
    "print(dt)\n",
    "\n",
    "# strftime - Datetime to String\n",
    "# strptime - String to Datetime"
   ]
  },
  {
   "cell_type": "code",
   "execution_count": null,
   "metadata": {},
   "outputs": [],
   "source": []
  }
 ],
 "metadata": {
  "language_info": {
   "codemirror_mode": {
    "name": "ipython",
    "version": 3
   },
   "file_extension": ".py",
   "mimetype": "text/x-python",
   "name": "python",
   "nbconvert_exporter": "python",
   "pygments_lexer": "ipython3",
   "version": "3.7.6-final"
  },
  "orig_nbformat": 2,
  "kernelspec": {
   "name": "python3",
   "display_name": "Python 3"
  }
 },
 "nbformat": 4,
 "nbformat_minor": 2
}