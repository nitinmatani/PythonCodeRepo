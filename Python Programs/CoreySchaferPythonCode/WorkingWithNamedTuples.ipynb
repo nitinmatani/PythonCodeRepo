{
 "cells": [
  {
   "cell_type": "code",
   "execution_count": null,
   "metadata": {},
   "outputs": [],
   "source": [
    "from collections import namedtuple\n",
    "\n",
    "# list / tuple\n",
    "color = (55,155,255)\n",
    "\n",
    "# dictionary\n",
    "color = {'red': 55, 'green': 155, 'blue': 255}\n",
    "\n",
    "# namedtuple\n",
    "Color = namedtuple('Color', ['red', 'green', 'blue'])\n",
    "color = Color(blue=55,green=155,red=255)"
   ]
  },
  {
   "cell_type": "code",
   "execution_count": 1,
   "metadata": {},
   "outputs": [
    {
     "output_type": "stream",
     "name": "stdout",
     "text": "255\n"
    }
   ],
   "source": [
    "from collections import namedtuple\n",
    "\n",
    "Color = namedtuple('Color', ['red', 'green', 'blue'])\n",
    "\n",
    "color = Color(55,155,255)\n",
    "white = Color(255,255,255)\n",
    "\n",
    "print(color.blue)"
   ]
  },
  {
   "cell_type": "code",
   "execution_count": null,
   "metadata": {},
   "outputs": [],
   "source": []
  }
 ],
 "metadata": {
  "language_info": {
   "codemirror_mode": {
    "name": "ipython",
    "version": 3
   },
   "file_extension": ".py",
   "mimetype": "text/x-python",
   "name": "python",
   "nbconvert_exporter": "python",
   "pygments_lexer": "ipython3",
   "version": "3.7.6-final"
  },
  "orig_nbformat": 2,
  "kernelspec": {
   "name": "python3",
   "display_name": "Python 3"
  }
 },
 "nbformat": 4,
 "nbformat_minor": 2
}