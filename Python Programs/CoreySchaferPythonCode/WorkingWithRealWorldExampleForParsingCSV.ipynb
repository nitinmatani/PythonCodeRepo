{
 "cells": [
  {
   "cell_type": "code",
   "execution_count": 1,
   "metadata": {},
   "outputs": [
    {
     "output_type": "stream",
     "name": "stdout",
     "text": "<p>There are currently 43 public contributors. Thank You!</p>\n<ul>\n\t<li>Dave Smith</li>\n\t<li>Mary Jacobs</li>\n\t<li>Jane Stuart</li>\n\t<li>Tom Wright</li>\n\t<li>Steve Robinson</li>\n\t<li>Nicole Jacobs</li>\n\t<li>Jane Wright</li>\n\t<li>Jane Doe</li>\n\t<li>Kurt Wright</li>\n\t<li>Kurt Robinson</li>\n\t<li>Jane Jenkins</li>\n\t<li>Neil Robinson</li>\n\t<li>Tom Patterson</li>\n\t<li>Sam Jenkins</li>\n\t<li>Steve Stuart</li>\n\t<li>Maggie Patterson</li>\n\t<li>Maggie Stuart</li>\n\t<li>Jane Doe</li>\n\t<li>Steve Patterson</li>\n\t<li>Dave Smith</li>\n\t<li>Sam Wilks</li>\n\t<li>Kurt Jefferson</li>\n\t<li>Sam Stuart</li>\n\t<li>Jane Stuart</li>\n\t<li>Dave Davis</li>\n\t<li>Sam Patterson</li>\n\t<li>Tom Jefferson</li>\n\t<li>Jane Stuart</li>\n\t<li>Maggie Jefferson</li>\n\t<li>Mary Wilks</li>\n\t<li>Neil Patterson</li>\n\t<li>Corey Davis</li>\n\t<li>Steve Jacobs</li>\n\t<li>Jane Jenkins</li>\n\t<li>John Jacobs</li>\n\t<li>Neil Smith</li>\n\t<li>Corey Wilks</li>\n\t<li>Corey Smith</li>\n\t<li>Mary Patterson</li>\n\t<li>Jane Stuart</li>\n\t<li>Travis Arnold</li>\n\t<li>John Robinson</li>\n\t<li>Travis Arnold</li>\n</ul>\n"
    }
   ],
   "source": [
    "import csv\n",
    "\n",
    "html_output = ''\n",
    "names = []\n",
    "\n",
    "with open('patrons.csv', 'r') as data_file:\n",
    "    csv_data = csv.DictReader(data_file)\n",
    "\n",
    "    # We don't want first line of bad data\n",
    "    next(csv_data)\n",
    "\n",
    "    for line in csv_data:\n",
    "        if line['FirstName'] == 'No Reward':\n",
    "            break\n",
    "        names.append(f\"{line['FirstName']} {line['LastName']}\")\n",
    "\n",
    "html_output += f'<p>There are currently {len(names)} public contributors. Thank You!</p>'\n",
    "\n",
    "html_output += '\\n<ul>'\n",
    "\n",
    "for name in names:\n",
    "    html_output += f'\\n\\t<li>{name}</li>'\n",
    "\n",
    "html_output += '\\n</ul>'\n",
    "\n",
    "print(html_output)"
   ]
  },
  {
   "cell_type": "code",
   "execution_count": null,
   "metadata": {},
   "outputs": [],
   "source": []
  }
 ],
 "metadata": {
  "language_info": {
   "codemirror_mode": {
    "name": "ipython",
    "version": 3
   },
   "file_extension": ".py",
   "mimetype": "text/x-python",
   "name": "python",
   "nbconvert_exporter": "python",
   "pygments_lexer": "ipython3",
   "version": "3.7.6-final"
  },
  "orig_nbformat": 2,
  "kernelspec": {
   "name": "python3",
   "display_name": "Python 3"
  }
 },
 "nbformat": 4,
 "nbformat_minor": 2
}