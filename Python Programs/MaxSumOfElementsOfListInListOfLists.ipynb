{
 "cells": [
  {
   "cell_type": "markdown",
   "metadata": {},
   "source": [
    "Input :  [[1, 2, 3], [4, 5, 6], [10, 11, 12], [7, 8, 9]]\n",
    "Output : 33 \n",
    "Explanation: sum of all lists in the given list of lists are:\n",
    "             list1 = 6, list2 = 15, list3 = 33, list4 = 24 \n",
    "             so the maximum among these is of \n",
    "\n",
    "Input : [[3, 4, 5], [1, 2, 3], [0, 9, 0]]\n",
    "Output : 12"
   ]
  },
  {
   "cell_type": "markdown",
   "metadata": {},
   "source": [
    "Method 1 : Traversal of list in lists\n",
    "\n",
    "We can traverse in the lists inside the list and sum up all the elements in a given list and by max function get the maximum of sum of all elements in lists of list"
   ]
  },
  {
   "cell_type": "code",
   "execution_count": 1,
   "metadata": {},
   "outputs": [
    {
     "name": "stdout",
     "output_type": "stream",
     "text": [
      "33\n"
     ]
    }
   ],
   "source": [
    "def maximumSum(list1): \n",
    "    maxi = 0\n",
    "  \n",
    "    # traversal in the lists \n",
    "    for x in list1: \n",
    "        sum = 0 \n",
    "        # traversal in list of lists \n",
    "        for y in x: \n",
    "            sum+= y      \n",
    "        maxi = max(sum, maxi)  \n",
    "          \n",
    "    return maxi \n",
    "      \n",
    "# driver code   \n",
    "list1 = [[1, 2, 3], [4, 5, 6], [10, 11, 12], [7, 8, 9]] \n",
    "print(maximumSum(list1))"
   ]
  },
  {
   "cell_type": "markdown",
   "metadata": {},
   "source": [
    "Method 2 : Traversal of list\n",
    "\n",
    "Traverse in the outer list only, and sum all elements in the inner lists by using sum() function, find the sum of all the lists and get the maximum of all the sum calculated."
   ]
  },
  {
   "cell_type": "code",
   "execution_count": 2,
   "metadata": {},
   "outputs": [
    {
     "name": "stdout",
     "output_type": "stream",
     "text": [
      "33\n"
     ]
    }
   ],
   "source": [
    "def maximumSum(list1): \n",
    "    maxi = 0\n",
    "    # traversal \n",
    "    for x in list1: \n",
    "        maxi = max(sum(x), maxi) \n",
    "          \n",
    "    return maxi \n",
    "      \n",
    "  \n",
    "# driver code   \n",
    "list1 = [[1, 2, 3], [4, 5, 6], [10, 11, 12], [7, 8, 9]] \n",
    "print(maximumSum(list1))"
   ]
  },
  {
   "cell_type": "markdown",
   "metadata": {},
   "source": [
    "#Method 3 : Sum and Max function\n",
    "#sum(max(list1, key=sum))\n",
    "#The above syntax of max() function allows us to find the sum of list in list using the key=sum. max(list1, key=sum), this finds the list with maximum sum of elements and then sum(max(list1, key=sum)) returns us the sum of that list."
   ]
  },
  {
   "cell_type": "code",
   "execution_count": 3,
   "metadata": {},
   "outputs": [
    {
     "name": "stdout",
     "output_type": "stream",
     "text": [
      "33\n"
     ]
    }
   ],
   "source": [
    "def maximumSum(list1): \n",
    "    return(sum(max(list1, key = sum))) \n",
    "      \n",
    "  \n",
    "# driver code   \n",
    "list1 = [[1, 2, 3], [4, 5, 6], [10, 11, 12], [7, 8, 9]] \n",
    "print(maximumSum(list1))"
   ]
  },
  {
   "cell_type": "code",
   "execution_count": null,
   "metadata": {},
   "outputs": [],
   "source": []
  }
 ],
 "metadata": {
  "kernelspec": {
   "display_name": "Python 3",
   "language": "python",
   "name": "python3"
  },
  "language_info": {
   "codemirror_mode": {
    "name": "ipython",
    "version": 3
   },
   "file_extension": ".py",
   "mimetype": "text/x-python",
   "name": "python",
   "nbconvert_exporter": "python",
   "pygments_lexer": "ipython3",
   "version": "3.7.6"
  }
 },
 "nbformat": 4,
 "nbformat_minor": 4
}
