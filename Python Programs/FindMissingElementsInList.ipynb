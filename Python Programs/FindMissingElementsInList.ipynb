{
 "cells": [
  {
   "cell_type": "code",
   "execution_count": 1,
   "metadata": {},
   "outputs": [
    {
     "name": "stdout",
     "output_type": "stream",
     "text": [
      "The original list : [3, 5, 6, 8, 10]\n",
      "The list of missing elements : [0, 1, 2, 4, 7, 9]\n"
     ]
    }
   ],
   "source": [
    "test_list = [3, 5, 6, 8, 10] \n",
    "  \n",
    "# printing original list \n",
    "print(\"The original list : \" + str(test_list)) \n",
    "  \n",
    "# using list comprehension \n",
    "# Finding missing elements in List \n",
    "res = [ele for ele in range(max(test_list)+1) if ele not in test_list] \n",
    "  \n",
    "# print result \n",
    "print(\"The list of missing elements : \" + str(res))"
   ]
  },
  {
   "cell_type": "code",
   "execution_count": 2,
   "metadata": {},
   "outputs": [
    {
     "name": "stdout",
     "output_type": "stream",
     "text": [
      "The original list : [3, 5, 6, 8, 10]\n",
      "The list of missing elements : [0, 1, 2, 4, 7, 9]\n"
     ]
    }
   ],
   "source": [
    "#Method #2 : Using set()\n",
    "test_list = [3, 5, 6, 8, 10] \n",
    "  \n",
    "# printing original list \n",
    "print(\"The original list : \" + str(test_list)) \n",
    "  \n",
    "# Using set() \n",
    "# Finding missing elements in List \n",
    "res = list(set(range(max(test_list) + 1)) - set(test_list)) \n",
    "  \n",
    "# print result \n",
    "print(\"The list of missing elements : \" + str(res)) "
   ]
  }
 ],
 "metadata": {
  "kernelspec": {
   "display_name": "Python 3",
   "language": "python",
   "name": "python3"
  },
  "language_info": {
   "codemirror_mode": {
    "name": "ipython",
    "version": 3
   },
   "file_extension": ".py",
   "mimetype": "text/x-python",
   "name": "python",
   "nbconvert_exporter": "python",
   "pygments_lexer": "ipython3",
   "version": "3.7.6"
  }
 },
 "nbformat": 4,
 "nbformat_minor": 4
}
