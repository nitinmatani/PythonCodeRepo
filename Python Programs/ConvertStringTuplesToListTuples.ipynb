{
 "cells": [
  {
   "cell_type": "markdown",
   "metadata": {},
   "source": [
    "Method #1 : Using eval() + list comprehension\n",
    "This problem can be easily performed as one liner using the inbuilt function of eval(), which performs this task of string to tuple conversion and list comprehension."
   ]
  },
  {
   "cell_type": "code",
   "execution_count": 1,
   "metadata": {},
   "outputs": [
    {
     "name": "stdout",
     "output_type": "stream",
     "text": [
      "The original list is : [\"('gfg', 1)\", \"('is', 2)\", \"('best', 3)\"]\n",
      "The list tuple after conversion : [('gfg', 1), ('is', 2), ('best', 3)]\n"
     ]
    }
   ],
   "source": [
    "test_list = [\"('gfg', 1)\", \"('is', 2)\", \"('best', 3)\"] \n",
    "  \n",
    "# printing original list  \n",
    "print(\"The original list is : \" + str(test_list)) \n",
    "  \n",
    "# Converting string tuples to list tuples  \n",
    "# using list comprehension + eval() \n",
    "res = [eval(ele) for ele in test_list] \n",
    "  \n",
    "# printing result \n",
    "print(\"The list tuple after conversion : \" + str(res)) "
   ]
  },
  {
   "cell_type": "markdown",
   "metadata": {},
   "source": [
    "Method #2 : Using eval() + map()\n",
    "This task can also be performed using combination of above functions. The task performed by list comprehension above can be performed using map() in this method."
   ]
  },
  {
   "cell_type": "code",
   "execution_count": 2,
   "metadata": {},
   "outputs": [
    {
     "name": "stdout",
     "output_type": "stream",
     "text": [
      "The original list is : [\"('gfg', 1)\", \"('is', 2)\", \"('best', 3)\"]\n",
      "The list tuple after conversion : [('gfg', 1), ('is', 2), ('best', 3)]\n"
     ]
    }
   ],
   "source": [
    "# Initializing list  \n",
    "test_list = [\"('gfg', 1)\", \"('is', 2)\", \"('best', 3)\"] \n",
    "  \n",
    "# printing original list  \n",
    "print(\"The original list is : \" + str(test_list)) \n",
    "  \n",
    "# Converting string tuples to list tuples  \n",
    "# using map() + eval() \n",
    "res = list(map(eval, test_list)) \n",
    "  \n",
    "# printing result \n",
    "print(\"The list tuple after conversion : \" + str(res)) "
   ]
  }
 ],
 "metadata": {
  "kernelspec": {
   "display_name": "Python 3",
   "language": "python",
   "name": "python3"
  },
  "language_info": {
   "codemirror_mode": {
    "name": "ipython",
    "version": 3
   },
   "file_extension": ".py",
   "mimetype": "text/x-python",
   "name": "python",
   "nbconvert_exporter": "python",
   "pygments_lexer": "ipython3",
   "version": "3.7.6"
  }
 },
 "nbformat": 4,
 "nbformat_minor": 4
}
