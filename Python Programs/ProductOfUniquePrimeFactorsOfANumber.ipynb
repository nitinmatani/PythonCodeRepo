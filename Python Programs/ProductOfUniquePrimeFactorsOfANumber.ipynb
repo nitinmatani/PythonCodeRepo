{
 "cells": [
  {
   "cell_type": "markdown",
   "metadata": {},
   "source": [
    "Input: num = 10\n",
    "Output: Product is 10\n",
    "Explanation:\n",
    "Here, the input number is 10 having only 2 prime factors and they are 5 and 2.\n",
    "And hence their product is 10.\n",
    "\n",
    "Input : num = 25\n",
    "Output: Product is 5\n",
    "Explanation:\n",
    "Here, for the input to be 25  we have only one unique prime factor i.e 5.\n",
    "And hence the required product is 5"
   ]
  },
  {
   "cell_type": "code",
   "execution_count": 1,
   "metadata": {},
   "outputs": [
    {
     "name": "stdout",
     "output_type": "stream",
     "text": [
      "22\n"
     ]
    }
   ],
   "source": [
    "def productPrimeFactors(n): \n",
    "    product = 1\n",
    "      \n",
    "    for i in range(2, n+1): \n",
    "        if (n % i == 0): \n",
    "            isPrime = 1\n",
    "              \n",
    "            for j in range(2, int(i/2 + 1)): \n",
    "                if (i % j == 0): \n",
    "                    isPrime = 0\n",
    "                    break\n",
    "                  \n",
    "            # condition if \\'i\\' is Prime number \n",
    "            # as well as factor of num \n",
    "            if (isPrime): \n",
    "                product = product * i \n",
    "                  \n",
    "    return product   \n",
    "      \n",
    "      \n",
    "      \n",
    "# main() \n",
    "n = 44\n",
    "print (productPrimeFactors(n)) "
   ]
  },
  {
   "cell_type": "code",
   "execution_count": 2,
   "metadata": {},
   "outputs": [
    {
     "name": "stdout",
     "output_type": "stream",
     "text": [
      "22\n"
     ]
    }
   ],
   "source": [
    "import math \n",
    "  \n",
    "def productPrimeFactors(n): \n",
    "    product = 1\n",
    "      \n",
    "    # Handle prime factor 2 explicitly so that \n",
    "    # can optimally handle other prime factors. \n",
    "    if (n % 2 == 0): \n",
    "        product *= 2\n",
    "        while (n%2 == 0): \n",
    "            n = n/2\n",
    "              \n",
    "    # n must be odd at this point. So we can \n",
    "    # skip one element (Note i = i +2) \n",
    "    for i in range (3, int(math.sqrt(n)), 2): \n",
    "        # While i divides n, print i and \n",
    "        # divide n \n",
    "        if (n % i == 0): \n",
    "            product = product * i \n",
    "            while (n%i == 0): \n",
    "                n = n/i \n",
    "                  \n",
    "    # This condition is to handle the case when n \n",
    "    # is a prime number greater than 2 \n",
    "    if (n > 2): \n",
    "        product = product * n \n",
    "          \n",
    "    return product      \n",
    "      \n",
    "# main() \n",
    "n = 44\n",
    "print (int(productPrimeFactors(n))) "
   ]
  }
 ],
 "metadata": {
  "kernelspec": {
   "display_name": "Python 3",
   "language": "python",
   "name": "python3"
  },
  "language_info": {
   "codemirror_mode": {
    "name": "ipython",
    "version": 3
   },
   "file_extension": ".py",
   "mimetype": "text/x-python",
   "name": "python",
   "nbconvert_exporter": "python",
   "pygments_lexer": "ipython3",
   "version": "3.7.6"
  }
 },
 "nbformat": 4,
 "nbformat_minor": 4
}
