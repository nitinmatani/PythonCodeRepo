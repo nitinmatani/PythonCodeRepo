{
 "cells": [
  {
   "cell_type": "markdown",
   "metadata": {},
   "source": [
    "Given a list ‘L’, a sum ‘S’ and number of elements to take at a time ‘m’. The task is to find how many ways sum s can be found by adding any m contiguous elements.\n",
    "Input : \n",
    "1 2 1 3 2\n",
    "3 2\n",
    "\n",
    "Output :\n",
    "2\n",
    "Input :\n",
    "1 1 1 1 1 1\n",
    "3 2\n",
    "Output :\n",
    "0\n",
    "\n",
    "For example 1, we have to find a sum 3 with the help of any 2 contiguous elements of the list. This can be done in two ways 1+2 and 2+1 so answer is 2"
   ]
  },
  {
   "cell_type": "markdown",
   "metadata": {},
   "source": [
    "Starting from beginning we select first m elements and find their sum if sum = s then increment the count by one, and increment index position by one select next m elements and repeat the same until the whole list is covered."
   ]
  },
  {
   "cell_type": "code",
   "execution_count": 1,
   "metadata": {},
   "outputs": [
    {
     "name": "stdout",
     "output_type": "stream",
     "text": [
      "2\n"
     ]
    }
   ],
   "source": [
    "def SearchWay(l, s, m): \n",
    "      \n",
    "    # initialise sum and \n",
    "    # count to 0  \n",
    "    sum1 = 0\n",
    "    count = 0\n",
    "      \n",
    "    # iterate from start of \n",
    "    # list to end \n",
    "    for i in range (len(l)-m + 1): \n",
    "      \n",
    "        # get sum f m elements  \n",
    "        # starting from index i  \n",
    "        for j in range (i, i + m): \n",
    "            sum1 += l[j] \n",
    "      \n",
    "        # if the sum of elements equal \n",
    "        # s increment count  \n",
    "        if sum1 == s: \n",
    "            count += 1\n",
    "          \n",
    "        sum1 = 0\n",
    "  \n",
    "    return count \n",
    "  \n",
    "# Driver's code \n",
    "l = [1, 2, 1, 3, 2] \n",
    "s = 3 \n",
    "m = 2\n",
    "  \n",
    "ans = SearchWay(l, s, m) \n",
    "print(ans) \n",
    "# Time complexicity: O(n^2) in worst case."
   ]
  },
  {
   "cell_type": "markdown",
   "metadata": {},
   "source": [
    "Method 2: (Efficient)\n",
    "\n",
    "Initialize a variable index as 0 and curr_sum as the first element. index indicates the count of contiguous elements and curr_sum indicates the sum of the current index elements. Start from the second element and add all elements one by one to the curr_sum. If curr_sum becomes equal to the sum and index becomes equal to m, then increment the value of count by 1. If index exceeds the m, then remove trailing elements and initialize index as m-1."
   ]
  },
  {
   "cell_type": "code",
   "execution_count": 2,
   "metadata": {},
   "outputs": [
    {
     "name": "stdout",
     "output_type": "stream",
     "text": [
      "2\n"
     ]
    }
   ],
   "source": [
    "def SearchWay(l, s, m): \n",
    "      \n",
    "    n = len(l) \n",
    "          \n",
    "    # Initialize curr_sum as  \n",
    "    # value of first element  \n",
    "    # and starting point as 0  \n",
    "    count = start = 0\n",
    "    curr_sum = l[0] \n",
    "      \n",
    "    # Initialize the index as 1 \n",
    "    index = 1\n",
    "  \n",
    "    # Add elements one by   \n",
    "    # one to curr_sum and   \n",
    "    # if the index exceeds   \n",
    "    # the m, then remove   \n",
    "    # starting element \n",
    "    # and change the value  \n",
    "    # of index as m-1 \n",
    "    i = 1\n",
    "    while i <= n: \n",
    "          \n",
    "        # If curr_sum becomes  \n",
    "        # equal to sum, then  \n",
    "        # increment count by 1 \n",
    "        if curr_sum == s and index == m: \n",
    "            count += 1\n",
    "              \n",
    "        # If index exceeds  \n",
    "        # the m, then remove  \n",
    "        # the starting elements \n",
    "        while index >= m: \n",
    "            curr_sum -= l[start] \n",
    "            start += 1\n",
    "            index = m-1\n",
    "          \n",
    "        # Add this element   \n",
    "        # to curr_sum and  \n",
    "        # increment index \n",
    "        if i < n: \n",
    "            curr_sum += l[i] \n",
    "            index += 1\n",
    "        i += 1\n",
    "          \n",
    "    return count \n",
    "  \n",
    "# Driver's code \n",
    "l = [1, 2, 1, 3, 2] \n",
    "s = 3\n",
    "m = 2\n",
    "  \n",
    "ans = SearchWay(l, s, m) \n",
    "print(ans) "
   ]
  },
  {
   "cell_type": "markdown",
   "metadata": {},
   "source": [
    "The time complexity of method 2 looks more than O(n), but if we take a closer look at the program, then we can figure out the time complexity is O(n). We can prove it by counting the number of operations performed on every element of arr[] in the worst case. There are at most 2 operations performed on every element: (a) the element is added to the curr_sum (b) the element is subtracted from curr_sum. So the upper bound on the number of operations is 2n which is O(n)"
   ]
  }
 ],
 "metadata": {
  "kernelspec": {
   "display_name": "Python 3",
   "language": "python",
   "name": "python3"
  },
  "language_info": {
   "codemirror_mode": {
    "name": "ipython",
    "version": 3
   },
   "file_extension": ".py",
   "mimetype": "text/x-python",
   "name": "python",
   "nbconvert_exporter": "python",
   "pygments_lexer": "ipython3",
   "version": "3.7.6"
  }
 },
 "nbformat": 4,
 "nbformat_minor": 4
}
