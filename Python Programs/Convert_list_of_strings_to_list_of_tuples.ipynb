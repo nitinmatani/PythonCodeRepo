{
 "cells": [
  {
   "cell_type": "markdown",
   "metadata": {},
   "source": [
    "Method #1 : Using map() + split() + tuple()\n",
    "\n",
    "This task can be achieved using the combination of these functions. The map function can be used to link the logic to each string, split function is used to split the inner contents of list to different tuple attributes and tuple function performs the task of forming a tuple.\n",
    "\n"
   ]
  },
  {
   "cell_type": "code",
   "execution_count": 2,
   "metadata": {},
   "outputs": [
    {
     "name": "stdout",
     "output_type": "stream",
     "text": [
      "The original list : ['4, 1', '3, 2', '5, 3']\n",
      "The list after conversion to tuple list : [(4, 1), (3, 2), (5, 3)]\n"
     ]
    }
   ],
   "source": [
    "# initializing list \n",
    "test_list = ['4, 1', '3, 2', '5, 3'] \n",
    "  \n",
    "# printing original list \n",
    "print(\"The original list : \" + str(test_list)) \n",
    "  \n",
    "# using map() + split() + tuple() \n",
    "# convert list of strings to list of tuples \n",
    "res = [tuple(map(int, sub.split(', '))) for sub in test_list]  \n",
    "\n",
    "  \n",
    "# print result \n",
    "print(\"The list after conversion to tuple list : \" + str(res)) "
   ]
  },
  {
   "cell_type": "markdown",
   "metadata": {},
   "source": [
    "Method #2 : Using map() + eval\n",
    "This is the most elegant way to perform this particular task. Where map function is used to extend the function logic to the whole list eval function internally performs interconversions and splitting."
   ]
  },
  {
   "cell_type": "code",
   "execution_count": 6,
   "metadata": {},
   "outputs": [
    {
     "name": "stdout",
     "output_type": "stream",
     "text": [
      "The original list : ['4, 1', '3, 2', '5, 3']\n",
      "The list after conversion to tuple list : [(4, 1), (3, 2), (5, 3)]\n"
     ]
    }
   ],
   "source": [
    "# initializing list \n",
    "test_list = ['4, 1', '3, 2', '5, 3'] \n",
    "\n",
    "\n",
    "# printing original list \n",
    "print(\"The original list : \" + str(test_list)) \n",
    "  \n",
    "# using map() + eval \n",
    "# convert list of strings to list of tuples \n",
    "res = list(map(eval, test_list)) \n",
    "  \n",
    "# print result \n",
    "print(\"The list after conversion to tuple list : \" + str(res)) "
   ]
  },
  {
   "cell_type": "code",
   "execution_count": 7,
   "metadata": {},
   "outputs": [
    {
     "name": "stdout",
     "output_type": "stream",
     "text": [
      "(4, 1)\n"
     ]
    }
   ],
   "source": [
    "print(eval('4, 1'))"
   ]
  },
  {
   "cell_type": "code",
   "execution_count": null,
   "metadata": {},
   "outputs": [],
   "source": [
    "#Convert list of tuples into list\n"
   ]
  }
 ],
 "metadata": {
  "kernelspec": {
   "display_name": "Python 3",
   "language": "python",
   "name": "python3"
  },
  "language_info": {
   "codemirror_mode": {
    "name": "ipython",
    "version": 3
   },
   "file_extension": ".py",
   "mimetype": "text/x-python",
   "name": "python",
   "nbconvert_exporter": "python",
   "pygments_lexer": "ipython3",
   "version": "3.7.6"
  }
 },
 "nbformat": 4,
 "nbformat_minor": 4
}
