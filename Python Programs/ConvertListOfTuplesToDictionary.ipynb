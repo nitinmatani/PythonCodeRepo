{
 "cells": [
  {
   "cell_type": "code",
   "execution_count": 1,
   "metadata": {},
   "outputs": [
    {
     "name": "stdout",
     "output_type": "stream",
     "text": [
      "The original list : [('Nikhil', 21, 'JIIT'), ('Akash', 22, 'JIIT'), ('Akshat', 22, 'JIIT')]\n",
      "The dictionary after conversion : {'Nikhil': (21, 'JIIT'), 'Akash': (22, 'JIIT'), 'Akshat': (22, 'JIIT')}\n"
     ]
    }
   ],
   "source": [
    "#Method #1 : Using dictionary comprehension\n",
    "test_list = [('Nikhil', 21, 'JIIT'), ('Akash', 22, 'JIIT'), ('Akshat', 22, 'JIIT')] \n",
    "  \n",
    "# printing original list \n",
    "print(\"The original list : \" + str(test_list)) \n",
    "  \n",
    "# using list comprehension \n",
    "# List of tuple to dictionary conversion \n",
    "res = {sub[0]: sub[1:] for sub in test_list} \n",
    "  \n",
    "# print result \n",
    "print(\"The dictionary after conversion : \" + str(res)) "
   ]
  },
  {
   "cell_type": "code",
   "execution_count": 2,
   "metadata": {},
   "outputs": [
    {
     "name": "stdout",
     "output_type": "stream",
     "text": [
      "The original list : [('Nikhil', 21, 'JIIT'), ('Akash', 22, 'JIIT'), ('Akshat', 22, 'JIIT')]\n",
      "The dictionary after conversion : {'Nikhil': (21, 'JIIT'), 'Akash': (22, 'JIIT'), 'Akshat': (22, 'JIIT')}\n"
     ]
    }
   ],
   "source": [
    "#Method #2 : Using dict() + dictionary comprehensio\n",
    "test_list = [('Nikhil', 21, 'JIIT'), ('Akash', 22, 'JIIT'), ('Akshat', 22, 'JIIT')] \n",
    "  \n",
    "# printing original list \n",
    "print(\"The original list : \" + str(test_list)) \n",
    "  \n",
    "# using dict() + dictionary comprehension \n",
    "# List of tuple to dictionary conversion \n",
    "res = dict((idx[0], idx[1:]) for idx in test_list)  \n",
    "  \n",
    "# print result \n",
    "print(\"The dictionary after conversion : \" + str(res)) "
   ]
  }
 ],
 "metadata": {
  "kernelspec": {
   "display_name": "Python 3",
   "language": "python",
   "name": "python3"
  },
  "language_info": {
   "codemirror_mode": {
    "name": "ipython",
    "version": 3
   },
   "file_extension": ".py",
   "mimetype": "text/x-python",
   "name": "python",
   "nbconvert_exporter": "python",
   "pygments_lexer": "ipython3",
   "version": "3.7.6"
  }
 },
 "nbformat": 4,
 "nbformat_minor": 4
}
