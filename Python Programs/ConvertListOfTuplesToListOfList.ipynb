{
 "cells": [
  {
   "cell_type": "markdown",
   "metadata": {},
   "source": [
    "Method #1 : Using list comprehension"
   ]
  },
  {
   "cell_type": "code",
   "execution_count": 1,
   "metadata": {},
   "outputs": [
    {
     "name": "stdout",
     "output_type": "stream",
     "text": [
      "The original list of tuples : [(1, 2), (3, 4), (5, 6)]\n",
      "The converted list of list : [[1, 2], [3, 4], [5, 6]]\n"
     ]
    }
   ],
   "source": [
    "# initializing list  \n",
    "test_list = [(1, 2), (3, 4), (5, 6)] \n",
    "  \n",
    "# printing original list  \n",
    "print(\"The original list of tuples : \" + str(test_list)) \n",
    "  \n",
    "# using list comprehension \n",
    "# convert list of tuples to list of list \n",
    "res = [list(ele) for ele in test_list] \n",
    "  \n",
    "# print result \n",
    "print(\"The converted list of list : \" + str(res)) "
   ]
  },
  {
   "cell_type": "markdown",
   "metadata": {},
   "source": [
    "Method #2 : Using map() + list\n",
    "We can use the combination of map function and list operator to perform this particular task. The map function binds each tuple and converts it into list."
   ]
  },
  {
   "cell_type": "code",
   "execution_count": 4,
   "metadata": {},
   "outputs": [
    {
     "name": "stdout",
     "output_type": "stream",
     "text": [
      "The original list of tuples : [(1, 2), (3, 4), (5, 6)]\n",
      "The converted list of list : [[1, 2], [3, 4], [5, 6]]\n"
     ]
    }
   ],
   "source": [
    "# initializing list  \n",
    "test_list = [(1, 2), (3, 4), (5, 6)] \n",
    "  \n",
    "# printing original list  \n",
    "print(\"The original list of tuples : \" + str(test_list)) \n",
    "  \n",
    "# using map() + list \n",
    "# convert list of tuples to list of list \n",
    "res = list(map(list, test_list)) \n",
    "  \n",
    "# print result \n",
    "print(\"The converted list of list : \" + str(res)) "
   ]
  },
  {
   "cell_type": "markdown",
   "metadata": {},
   "source": [
    "#Convert list of tuples into list\n",
    "Input: [(11, 20), (13, 40), (55, 16)]\n",
    "Output:[11, 20, 13, 40, 55, 16]\n",
    "\n",
    "Input: [('Geeks', 2), ('For', 4), ('geek', '6')]\n",
    "Output: ['Geeks', 2, 'For', 4, 'geek', '6']"
   ]
  },
  {
   "cell_type": "code",
   "execution_count": 5,
   "metadata": {},
   "outputs": [
    {
     "name": "stdout",
     "output_type": "stream",
     "text": [
      "['Geeks', 2, 'For', 4, 'geek', '6']\n"
     ]
    }
   ],
   "source": [
    "#Method #1 : Using list comprehension\n",
    "lt = [('Geeks', 2), ('For', 4), ('geek', '6')] \n",
    "  \n",
    "# using list comprehension \n",
    "out = [item for t in lt for item in t] \n",
    "  \n",
    "# printing output \n",
    "print(out) "
   ]
  },
  {
   "cell_type": "code",
   "execution_count": 6,
   "metadata": {},
   "outputs": [
    {
     "name": "stdout",
     "output_type": "stream",
     "text": [
      "[1, 2, 3, 4, 5, 6]\n"
     ]
    }
   ],
   "source": [
    "#Method #2 : Using itertools\n",
    "import itertools \n",
    "  \n",
    "# List of tuple initialization \n",
    "tuple = [(1, 2), (3, 4), (5, 6)] \n",
    "  \n",
    "# Using itertools \n",
    "out = list(itertools.chain(*tuple)) \n",
    "  \n",
    "# printing output \n",
    "print(out) "
   ]
  },
  {
   "cell_type": "code",
   "execution_count": 7,
   "metadata": {},
   "outputs": [
    {
     "name": "stdout",
     "output_type": "stream",
     "text": [
      "[1, 2, 3, 4, 5, 6]\n"
     ]
    }
   ],
   "source": [
    "#Method #3 : Using iteration\n",
    "tup = [(1, 2), (3, 4), (5, 6)] \n",
    "  \n",
    "# result list initialization \n",
    "result = [] \n",
    "  \n",
    "for t in tup: \n",
    "    for x in t: \n",
    "        result.append(x) \n",
    "  \n",
    "# printing output \n",
    "print(result) "
   ]
  },
  {
   "cell_type": "code",
   "execution_count": 9,
   "metadata": {},
   "outputs": [
    {
     "name": "stdout",
     "output_type": "stream",
     "text": [
      "[1, 2, 3, 4, 5, 6]\n"
     ]
    }
   ],
   "source": [
    "#Method #4 : Using sum\n",
    "tup = [(1, 2), (3, 4), (5, 6)] \n",
    "  \n",
    "# using sum function() \n",
    "out = list(sum(tup, ())) \n",
    "#print(sum(tup,())) \n",
    "# printing output \n",
    "print(out) "
   ]
  },
  {
   "cell_type": "code",
   "execution_count": 11,
   "metadata": {},
   "outputs": [
    {
     "name": "stdout",
     "output_type": "stream",
     "text": [
      "[1, 2, 3, 4, 5, 6]\n"
     ]
    }
   ],
   "source": [
    "#Method #5 : Using operator and reduce\n",
    "import operator \n",
    "from functools import reduce\n",
    "  \n",
    "# List of tuple initialization \n",
    "tup = [(1, 2), (3, 4), (5, 6)] \n",
    "  \n",
    "# printing output \n",
    "print(list(reduce(operator.concat, tup)))"
   ]
  },
  {
   "cell_type": "code",
   "execution_count": 12,
   "metadata": {},
   "outputs": [
    {
     "name": "stdout",
     "output_type": "stream",
     "text": [
      "[1, 3, 5, 2, 4, 6]\n"
     ]
    }
   ],
   "source": [
    "#Method #6 : Using lambda\n",
    "# List of tuple initialization \n",
    "tup = [(1, 2), (3, 4), (5, 6)] \n",
    "  \n",
    "# Using map for 0 index \n",
    "b = map(lambda x: x[0], tup) \n",
    "  \n",
    "# Using map for 1 index \n",
    "c = map(lambda x: x[1], tup) \n",
    "  \n",
    "# converting to list \n",
    "b = list(b) \n",
    "c = list(c) \n",
    "  \n",
    "# Combining output \n",
    "out = b + c \n",
    "  \n",
    "# printing output \n",
    "print(out) "
   ]
  }
 ],
 "metadata": {
  "kernelspec": {
   "display_name": "Python 3",
   "language": "python",
   "name": "python3"
  },
  "language_info": {
   "codemirror_mode": {
    "name": "ipython",
    "version": 3
   },
   "file_extension": ".py",
   "mimetype": "text/x-python",
   "name": "python",
   "nbconvert_exporter": "python",
   "pygments_lexer": "ipython3",
   "version": "3.7.6"
  }
 },
 "nbformat": 4,
 "nbformat_minor": 4
}
