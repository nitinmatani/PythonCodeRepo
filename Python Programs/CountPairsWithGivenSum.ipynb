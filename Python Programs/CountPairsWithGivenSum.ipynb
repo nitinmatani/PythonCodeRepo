{
 "cells": [
  {
   "cell_type": "code",
   "execution_count": 3,
   "metadata": {},
   "outputs": [
    {
     "name": "stdout",
     "output_type": "stream",
     "text": [
      "List of pairs is [(1, 5), (7, -1)]\n"
     ]
    }
   ],
   "source": [
    "# Returns number of pairs in arr[0..n-1]  \n",
    "# with sum equal to 'sum' \n",
    "def getPairsCount(arr, n, sum): \n",
    "      \n",
    "    count = 0 # Initialize result \n",
    "    newList=[]\n",
    "  \n",
    "    # Consider all possible pairs \n",
    "    # and check their sums \n",
    "    for i in range(0, n): \n",
    "        for j in range(i + 1, n): \n",
    "            if arr[i] + arr[j] == sum: \n",
    "                #count += 1\n",
    "                # Removing the duplicates pairs\n",
    "                if (arr[i],arr[j]) not in newList:\n",
    "                    newList.append((arr[i],arr[j]))\n",
    "      \n",
    "    return newList \n",
    "\n",
    "# Driver function  \n",
    "arr = [1, 5, 7, -1, 5] \n",
    "n = len(arr) \n",
    "sum = 6\n",
    "\n",
    "print(\"List of pairs is\", \n",
    "      getPairsCount(arr, n, sum)) \n",
    "\n",
    "# Time Complexity : O(n2)\n",
    "# Auxiliary Space : O(1)"
   ]
  },
  {
   "cell_type": "code",
   "execution_count": null,
   "metadata": {},
   "outputs": [],
   "source": [
    "# A better solution is possible in O(n) time.\n",
    "\n",
    "# Below is the Algorithm.\n",
    "\n",
    "# Create a map to store frequency of each number in the array. (Single traversal is required)\n",
    "# In the next traversal, for every element check if it can be combined with any other element (other than itself!) to give the desired sum. Increment the counter accordingly.\n",
    "# After completion of second traversal, we’d have twice the required value stored in counter because every pair is counted two times. Hence divide count by 2 and return.\n",
    "\n",
    "\n"
   ]
  },
  {
   "cell_type": "code",
   "execution_count": 15,
   "metadata": {},
   "outputs": [
    {
     "data": {
      "text/plain": [
       "0"
      ]
     },
     "execution_count": 15,
     "metadata": {},
     "output_type": "execute_result"
    }
   ],
   "source": [
    "def getPairsCount(arr, n, sum): \n",
    "      \n",
    "    m = [0] * 1000\n",
    "    #print(m)\n",
    "    # Store counts of all elements in map m \n",
    "    for i in range(0, n): \n",
    "        m[arr[i]] \n",
    "        m[arr[i]] += 1\n",
    "    # print(m)\n",
    "    twice_count = 0\n",
    "  \n",
    "    # Iterate through each element and increment \n",
    "    # the count (Notice that every pair is  \n",
    "    # counted twice) \n",
    "    for i in range(0, n): \n",
    "        vL=sum - arr[i] #6-1=5\n",
    "        # print(\"v value \",vL)\n",
    "        # print(\"m value con\",m[5])\n",
    "        # print(\"m value \",m[sum - arr[i]])\n",
    "        # twice_count += m[sum - arr[i]]  \n",
    "        # print(twice_count)\n",
    "        # if (arr[i], arr[i]) pair satisfies the \n",
    "        # condition, then we need to ensure that \n",
    "        # the count is  decreased by one such  \n",
    "        # that the (arr[i], arr[i]) pair is not \n",
    "        # considered \n",
    "       \n",
    "        if (sum - arr[i] == arr[i]): \n",
    "            twice_count -= 1\n",
    "      \n",
    "    # return the half of twice_count \n",
    "    return int(twice_count / 2)  \n",
    "\n",
    "\n",
    "# Driver function  \n",
    "arr = [1, 5, 7, -1, 5]  \n",
    "n = len(arr) \n",
    "sum = 6\n",
    "# getPairsCount(arr, n, sum)\n",
    "print(\"Count of pairs is\", getPairsCount(arr, \n",
    "                                     n, sum)) "
   ]
  },
  {
   "cell_type": "code",
   "execution_count": 25,
   "metadata": {},
   "outputs": [
    {
     "name": "stdout",
     "output_type": "stream",
     "text": [
      "5\n",
      "-1\n",
      "7\n",
      "5\n",
      "1\n",
      "[(1, 5), (7, -1), (1, 5)]\n"
     ]
    }
   ],
   "source": [
    "def findPairs(lst, K):  \n",
    "    res = [] \n",
    "    while lst: \n",
    "        num = lst.pop() \n",
    "        print(num)\n",
    "        diff = K - num \n",
    "        if diff in lst: \n",
    "            res.append((diff, num)) \n",
    "          \n",
    "    #res.reverse() \n",
    "    return res \n",
    "      \n",
    "# Driver code \n",
    "lst = [1, 5, 7, -1, 5]  \n",
    "K = 6\n",
    "print(findPairs(lst, K)) \n",
    "\n"
   ]
  },
  {
   "cell_type": "code",
   "execution_count": 19,
   "metadata": {},
   "outputs": [
    {
     "name": "stdout",
     "output_type": "stream",
     "text": [
      "[(1, 5), (7, -1)]\n"
     ]
    }
   ],
   "source": [
    "from collections import Counter \n",
    "  \n",
    "def findPairs(lst, K):  \n",
    "    res = [] \n",
    "    count = Counter(lst) \n",
    "  \n",
    "    for x in lst: \n",
    "        y = K - x \n",
    "        if (x != y and count[y]) or (x == y and count[y] > 1): \n",
    "            res.append((x, y))  \n",
    "            count.subtract((x, y)) \n",
    "              \n",
    "    return res \n",
    "\n",
    "# Driver code \n",
    "lst = [1, 5, 7, -1, 5]  \n",
    "K = 6\n",
    "print(findPairs(lst, K)) "
   ]
  },
  {
   "cell_type": "code",
   "execution_count": 20,
   "metadata": {},
   "outputs": [
    {
     "name": "stdout",
     "output_type": "stream",
     "text": [
      "[(1, 5), (1, 5), (7, -1)]\n"
     ]
    }
   ],
   "source": [
    "# This is a naive approach to use itertools.combinations. We use a for loop to traverse through each combination and find out the desired one.\n",
    "\n",
    "from itertools import combinations \n",
    "  \n",
    "def findPairs(lst, K):    \n",
    "    res = [] \n",
    "    for var in combinations(lst, 2): \n",
    "        if var[0] + var[1] == K: \n",
    "            res.append((var[0], var[1])) \n",
    "          \n",
    "    return res \n",
    "      \n",
    "# Driver code \n",
    "lst = [1, 5, 7, -1, 5]  \n",
    "K = 6\n",
    "print(findPairs(lst, K)) "
   ]
  },
  {
   "cell_type": "code",
   "execution_count": 38,
   "metadata": {},
   "outputs": [
    {
     "name": "stdout",
     "output_type": "stream",
     "text": [
      "[(1, 5), (1, 5), (7, -1)]\n"
     ]
    }
   ],
   "source": [
    "from itertools import combinations \n",
    "def findPairs(lst, K): \n",
    "      return [pair for pair in combinations(lst, 2)  if pair[0] + pair[1] == K] \n",
    "      \n",
    "# Driver code \n",
    "lst = [1, 5, 7, -1, 5]  \n",
    "K = 6\n",
    "print(findPairs(lst, K)) "
   ]
  },
  {
   "cell_type": "code",
   "execution_count": null,
   "metadata": {},
   "outputs": [],
   "source": []
  }
 ],
 "metadata": {
  "kernelspec": {
   "display_name": "Python 3",
   "language": "python",
   "name": "python3"
  },
  "language_info": {
   "codemirror_mode": {
    "name": "ipython",
    "version": 3
   },
   "file_extension": ".py",
   "mimetype": "text/x-python",
   "name": "python",
   "nbconvert_exporter": "python",
   "pygments_lexer": "ipython3",
   "version": "3.7.6"
  }
 },
 "nbformat": 4,
 "nbformat_minor": 2
}
