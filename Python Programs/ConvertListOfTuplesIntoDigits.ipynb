{
 "cells": [
  {
   "cell_type": "code",
   "execution_count": 3,
   "metadata": {},
   "outputs": [
    {
     "name": "stdout",
     "output_type": "stream",
     "text": [
      "[(11, 100), (22, 200), (33, 300), (44, 400), (88, 800)]\n",
      "1110022200333004440088800\n",
      "Initial List is : [(11, 100), (22, 200), (33, 300), (44, 400), (88, 800)]\n",
      "Output list is : [2, 0, 3, 1, 4, 8]\n"
     ]
    }
   ],
   "source": [
    "#Method #1: Using re\n",
    "#The most concise and readable way to convert list of tuple into list of all digits which exists in elements of list is by using re.\n",
    "\n",
    "import re \n",
    "  \n",
    "# Input list initialization \n",
    "lst = [(11, 100), (22, 200), (33, 300), (44, 400), (88, 800)] \n",
    "print(str(lst))\n",
    "  \n",
    "# Using re \n",
    "temp = re.sub(r'[\\[\\]\\(\\), ]', '', str(lst)) \n",
    "print(temp)\n",
    "# Using set \n",
    "Output = [int(i) for i in set(temp)] \n",
    "  \n",
    "# Printing output \n",
    "print(\"Initial List is :\", lst) \n",
    "print(\"Output list is :\", Output) "
   ]
  },
  {
   "cell_type": "code",
   "execution_count": 6,
   "metadata": {},
   "outputs": [
    {
     "name": "stdout",
     "output_type": "stream",
     "text": [
      "['11', '100', '22', '200', '33', '300', '44', '400', '88', '800']\n",
      "Initial List is : [(11, 100), (22, 200), (33, 300), (44, 400), (88, 800)]\n",
      "Output list is : set()\n"
     ]
    }
   ],
   "source": [
    "#Method #2: Using itertools.chain() and lambda()\n",
    "from itertools import chain \n",
    "  \n",
    "# Input list initialization \n",
    "lst = [(11, 100), (22, 200), (33, 300), (44, 400), (88, 800)] \n",
    "  \n",
    "# using lambda \n",
    "temp = map(lambda x: str(x), chain.from_iterable(lst)) \n",
    "print(list(temp))\n",
    "# Output list initialization \n",
    "Output = set() \n",
    "  \n",
    "# Adding element in Output \n",
    "for x in temp: \n",
    "    for elem in x: \n",
    "        Output.add(elem) \n",
    "  \n",
    "# Printing output \n",
    "print(\"Initial List is :\", lst) \n",
    "print(\"Output list is :\", Output) \n"
   ]
  }
 ],
 "metadata": {
  "kernelspec": {
   "display_name": "Python 3",
   "language": "python",
   "name": "python3"
  },
  "language_info": {
   "codemirror_mode": {
    "name": "ipython",
    "version": 3
   },
   "file_extension": ".py",
   "mimetype": "text/x-python",
   "name": "python",
   "nbconvert_exporter": "python",
   "pygments_lexer": "ipython3",
   "version": "3.7.6"
  }
 },
 "nbformat": 4,
 "nbformat_minor": 4
}
