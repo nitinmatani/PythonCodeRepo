{
 "cells": [
  {
   "cell_type": "markdown",
   "metadata": {},
   "source": [
    "Input : test_list = [[‘Best’], [‘Gfg’], [‘Gfg’]]\n",
    "Output : ((‘Best’, ), (‘Gfg’, ), (‘Gfg’, ))\n",
    "\n",
    "Input : test_list = [[‘Gfg’, ‘is’, ‘Best’]]\n",
    "Output : ((‘Gfg’, ‘is’, ‘Best’), )"
   ]
  },
  {
   "cell_type": "code",
   "execution_count": 1,
   "metadata": {},
   "outputs": [
    {
     "name": "stdout",
     "output_type": "stream",
     "text": [
      "The original list is : [['Gfg', 'is', 'Best'], ['Gfg', 'is', 'love'], ['Gfg', 'is', 'for', 'Geeks']]\n",
      "The converted data : (('Gfg', 'is', 'Best'), ('Gfg', 'is', 'love'), ('Gfg', 'is', 'for', 'Geeks'))\n"
     ]
    }
   ],
   "source": [
    "#Method #1 : Using tuple() + list comprehension\n",
    "test_list = [['Gfg', 'is', 'Best'], ['Gfg', 'is', 'love'], \n",
    "                            ['Gfg', 'is', 'for', 'Geeks']] \n",
    "  \n",
    "# printing original list \n",
    "print(\"The original list is : \" + str(test_list)) \n",
    "  \n",
    "# Convert List of Lists to Tuple of Tuples \n",
    "# Using tuple + list comprehension \n",
    "res = tuple(tuple(sub) for sub in test_list) \n",
    "  \n",
    "# printing result  \n",
    "print(\"The converted data : \" + str(res)) "
   ]
  },
  {
   "cell_type": "code",
   "execution_count": 2,
   "metadata": {},
   "outputs": [
    {
     "name": "stdout",
     "output_type": "stream",
     "text": [
      "The original list is : [['Gfg', 'is', 'Best'], ['Gfg', 'is', 'love'], ['Gfg', 'is', 'for', 'Geeks']]\n",
      "The converted data : (('Gfg', 'is', 'Best'), ('Gfg', 'is', 'love'), ('Gfg', 'is', 'for', 'Geeks'))\n"
     ]
    }
   ],
   "source": [
    "#Method #2 : Using map() + tuple()\n",
    "test_list = [['Gfg', 'is', 'Best'], ['Gfg', 'is', 'love'], \n",
    "                             ['Gfg', 'is', 'for', 'Geeks']] \n",
    "  \n",
    "# printing original list \n",
    "print(\"The original list is : \" + str(test_list)) \n",
    "  \n",
    "# Convert List of Lists to Tuple of Tuples \n",
    "# Using map() + tuple() \n",
    "res = tuple(map(tuple, test_list)) \n",
    "  \n",
    "# printing result  \n",
    "print(\"The converted data : \" + str(res))"
   ]
  }
 ],
 "metadata": {
  "kernelspec": {
   "display_name": "Python 3",
   "language": "python",
   "name": "python3"
  },
  "language_info": {
   "codemirror_mode": {
    "name": "ipython",
    "version": 3
   },
   "file_extension": ".py",
   "mimetype": "text/x-python",
   "name": "python",
   "nbconvert_exporter": "python",
   "pygments_lexer": "ipython3",
   "version": "3.7.6"
  }
 },
 "nbformat": 4,
 "nbformat_minor": 4
}
