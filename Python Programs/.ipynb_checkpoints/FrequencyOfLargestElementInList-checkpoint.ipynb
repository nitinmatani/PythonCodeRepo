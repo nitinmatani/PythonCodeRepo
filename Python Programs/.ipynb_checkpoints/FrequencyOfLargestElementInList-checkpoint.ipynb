{
 "cells": [
  {
   "cell_type": "markdown",
   "metadata": {},
   "source": [
    "Input : [1, 2, 8, 5, 8, 7, 8]\n",
    "Output :3\n",
    "\n",
    "\n",
    "Input : [2, 9, 1, 3, 4, 5]\n",
    "Output :1"
   ]
  },
  {
   "cell_type": "code",
   "execution_count": 1,
   "metadata": {},
   "outputs": [
    {
     "name": "stdout",
     "output_type": "stream",
     "text": [
      "3\n"
     ]
    }
   ],
   "source": [
    "L = [1, 2, 8, 5, 8, 7, 8] \n",
    "  \n",
    "# find the largest element \n",
    "largest = max(L) \n",
    "  \n",
    "# Counter variabLle to store the \n",
    "# number of occurrences of largest \n",
    "count = 0\n",
    "  \n",
    "  \n",
    "for i in L: \n",
    "      \n",
    "    # If the value of i is  \n",
    "    # equal to the largest element \n",
    "    if(i == largest): \n",
    "        count+= 1\n",
    "          \n",
    "print(count) "
   ]
  },
  {
   "cell_type": "markdown",
   "metadata": {},
   "source": [
    "#Method 2: Using collections.Counter()\n",
    "Once initialized, counters are accessed just like dictionaries. Also, it does not raise the KeyValue error (if key is not present) instead the value’s count is shown as 0.\n",
    "\n",
    "\n"
   ]
  },
  {
   "cell_type": "code",
   "execution_count": 2,
   "metadata": {},
   "outputs": [
    {
     "name": "stdout",
     "output_type": "stream",
     "text": [
      "3\n"
     ]
    }
   ],
   "source": [
    "import collections \n",
    "  \n",
    "L = [1, 2, 8, 5, 8, 7, 8] \n",
    "  \n",
    "# find the largest element \n",
    "largest = max(L) \n",
    "  \n",
    "# Storing the occurrences of each \n",
    "# element of list in res \n",
    "res = collections.Counter(L) \n",
    "  \n",
    "print(res[largest]) "
   ]
  },
  {
   "cell_type": "markdown",
   "metadata": {},
   "source": [
    "#Method 3: Using the dictionary\n",
    "In this approach, the number of occurrences of each element is stored in a dictionary as a key-value pair, where key is the element and value is the frequency."
   ]
  },
  {
   "cell_type": "code",
   "execution_count": 3,
   "metadata": {},
   "outputs": [
    {
     "name": "stdout",
     "output_type": "stream",
     "text": [
      "3\n"
     ]
    }
   ],
   "source": [
    "L = [1, 2, 8, 5, 8, 7, 8] \n",
    "d= {} \n",
    "  \n",
    "# find the largest element \n",
    "largest = max(L) \n",
    "  \n",
    "for i in L: \n",
    "    if i in d: \n",
    "        d[i] += 1\n",
    "    else: \n",
    "        d[i] = 1\n",
    "          \n",
    "print(d[largest]) "
   ]
  }
 ],
 "metadata": {
  "kernelspec": {
   "display_name": "Python 3",
   "language": "python",
   "name": "python3"
  },
  "language_info": {
   "codemirror_mode": {
    "name": "ipython",
    "version": 3
   },
   "file_extension": ".py",
   "mimetype": "text/x-python",
   "name": "python",
   "nbconvert_exporter": "python",
   "pygments_lexer": "ipython3",
   "version": "3.7.6"
  }
 },
 "nbformat": 4,
 "nbformat_minor": 4
}
