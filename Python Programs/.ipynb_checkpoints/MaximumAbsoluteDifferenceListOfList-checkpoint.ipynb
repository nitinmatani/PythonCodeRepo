{
 "cells": [
  {
   "cell_type": "code",
   "execution_count": 2,
   "metadata": {},
   "outputs": [
    {
     "name": "stdout",
     "output_type": "stream",
     "text": [
      "The original list : [[3, 4, 5], [4, 6, 8], [1, 9, 2], [3, 7, 10]]\n",
      "The maximum difference sublist : [3, 6, 8]\n"
     ]
    }
   ],
   "source": [
    "# initializing list  \n",
    "test_list = [[3, 4, 5], [4, 6, 8], [1, 9, 2], [3, 7, 10]] \n",
    "  \n",
    "# printing original list  \n",
    "print(\"The original list : \" + str(test_list)) \n",
    "res=[]\n",
    "\n",
    "# using max() + abs() + zip() + list comprehension \n",
    "# Maximum absolute difference list of list \n",
    "#res = [max(abs(i - j) for i, j in zip(*ele)) for ele in zip(test_list, test_list[1:])] \n",
    "for ele in zip(test_list, test_list[1:]):\n",
    "    res1=[]\n",
    "    for i, j in zip(*ele):\n",
    "         res1.append(abs(i - j))\n",
    "    res.append(max(res1))\n",
    "    \n",
    "  \n",
    "# print result \n",
    "print(\"The maximum difference sublist : \" + str(res)) "
   ]
  },
  {
   "cell_type": "code",
   "execution_count": 7,
   "metadata": {},
   "outputs": [
    {
     "name": "stdout",
     "output_type": "stream",
     "text": [
      "([3, 4, 5], [4, 6, 8])\n",
      "([4, 6, 8], [1, 9, 2])\n",
      "([1, 9, 2], [3, 7, 10])\n"
     ]
    },
    {
     "ename": "StopIteration",
     "evalue": "",
     "output_type": "error",
     "traceback": [
      "\u001b[1;31m---------------------------------------------------------------------------\u001b[0m",
      "\u001b[1;31mStopIteration\u001b[0m                             Traceback (most recent call last)",
      "\u001b[1;32m<ipython-input-7-47e510f578d3>\u001b[0m in \u001b[0;36m<module>\u001b[1;34m\u001b[0m\n\u001b[0;32m      3\u001b[0m \u001b[0mprint\u001b[0m\u001b[1;33m(\u001b[0m\u001b[0mnext\u001b[0m\u001b[1;33m(\u001b[0m\u001b[0mabc\u001b[0m\u001b[1;33m)\u001b[0m\u001b[1;33m)\u001b[0m\u001b[1;33m\u001b[0m\u001b[1;33m\u001b[0m\u001b[0m\n\u001b[0;32m      4\u001b[0m \u001b[0mprint\u001b[0m\u001b[1;33m(\u001b[0m\u001b[0mnext\u001b[0m\u001b[1;33m(\u001b[0m\u001b[0mabc\u001b[0m\u001b[1;33m)\u001b[0m\u001b[1;33m)\u001b[0m\u001b[1;33m\u001b[0m\u001b[1;33m\u001b[0m\u001b[0m\n\u001b[1;32m----> 5\u001b[1;33m \u001b[0mprint\u001b[0m\u001b[1;33m(\u001b[0m\u001b[0mnext\u001b[0m\u001b[1;33m(\u001b[0m\u001b[0mabc\u001b[0m\u001b[1;33m)\u001b[0m\u001b[1;33m)\u001b[0m\u001b[1;33m\u001b[0m\u001b[1;33m\u001b[0m\u001b[0m\n\u001b[0m",
      "\u001b[1;31mStopIteration\u001b[0m: "
     ]
    }
   ],
   "source": [
    "abc=zip(test_list, test_list[1:])\n",
    "print(next(abc))\n",
    "print(next(abc))\n",
    "print(next(abc))\n",
    "print(next(abc))"
   ]
  },
  {
   "cell_type": "markdown",
   "metadata": {},
   "source": [
    "Method #1 : Using max() + abs() + zip() + list comprehension\n",
    "This particular problem can also be solved using the combination of the above 4 operations. Here zip function does the dual task of pairing the list and also pairing the like indices for difference, to be computed by abs function and then maximum is found using max function, all bounded by list comprehension."
   ]
  },
  {
   "cell_type": "code",
   "execution_count": 8,
   "metadata": {},
   "outputs": [
    {
     "name": "stdout",
     "output_type": "stream",
     "text": [
      "The original list : [[3, 4, 5], [4, 6, 8], [1, 9, 2], [3, 7, 10]]\n",
      "The maximum difference sublist : [3, 6, 8]\n"
     ]
    }
   ],
   "source": [
    "#the above code in List comprehension\n",
    "test_list = [[3, 4, 5], [4, 6, 8], [1, 9, 2], [3, 7, 10]] \n",
    "  \n",
    "# printing original list  \n",
    "print(\"The original list : \" + str(test_list)) \n",
    "  \n",
    "# using max() + abs() + zip() + list comprehension \n",
    "# Maximum absolute difference list of list \n",
    "res = [max(abs(i - j) for i, j in zip(*ele)) \n",
    "       for ele in zip(test_list, test_list[1:])] \n",
    "  \n",
    "# print result \n",
    "print(\"The maximum difference sublist : \" + str(res)) \n"
   ]
  },
  {
   "cell_type": "markdown",
   "metadata": {},
   "source": [
    "Method #2 : Using max() + map() + abs + zip()\n",
    "This task can also be achieved using the combination of above functions, the addition is map function that performs the task of binding of abs operation to the whole list."
   ]
  },
  {
   "cell_type": "code",
   "execution_count": 9,
   "metadata": {},
   "outputs": [
    {
     "name": "stdout",
     "output_type": "stream",
     "text": [
      "The original list : [[3, 4, 5], [4, 6, 8], [1, 9, 2], [3, 7, 10]]\n",
      "The maximum difference sublist : [3, 6, 8]\n"
     ]
    }
   ],
   "source": [
    "# initializing list  \n",
    "test_list = [[3, 4, 5], [4, 6, 8], [1, 9, 2], [3, 7, 10]] \n",
    "  \n",
    "# printing original list  \n",
    "print(\"The original list : \" + str(test_list)) \n",
    "  \n",
    "# using max() + map() + abs + zip() \n",
    "# Maximum absolute difference list of list \n",
    "res = [max(map(abs, (i - j for i, j in zip(x, y)))) \n",
    "         for x, y in zip(test_list, test_list[1:])] \n",
    "  \n",
    "# print result \n",
    "print(\"The maximum difference sublist : \" + str(res)) "
   ]
  }
 ],
 "metadata": {
  "kernelspec": {
   "display_name": "Python 3",
   "language": "python",
   "name": "python3"
  },
  "language_info": {
   "codemirror_mode": {
    "name": "ipython",
    "version": 3
   },
   "file_extension": ".py",
   "mimetype": "text/x-python",
   "name": "python",
   "nbconvert_exporter": "python",
   "pygments_lexer": "ipython3",
   "version": "3.7.6"
  }
 },
 "nbformat": 4,
 "nbformat_minor": 4
}
