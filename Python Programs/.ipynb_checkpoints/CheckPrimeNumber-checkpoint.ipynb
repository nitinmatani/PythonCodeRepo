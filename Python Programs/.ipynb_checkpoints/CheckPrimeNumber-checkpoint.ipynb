{
 "cells": [
  {
   "cell_type": "code",
   "execution_count": null,
   "metadata": {},
   "outputs": [],
   "source": [
    "#Given a positive integer, check if the number is prime or not. A prime is a natural number greater than 1 that has no positive divisors other than 1 and itself. Examples of first few prime numbers are {2, 3, 5,\n",
    "def isPrime(n): \n",
    "  \n",
    "    # Corner case \n",
    "    if n <= 1: \n",
    "        return False\n",
    "  \n",
    "    # Check from 2 to n-1 \n",
    "    for i in range(2, n): \n",
    "        if n % i == 0: \n",
    "            return False; \n",
    "  \n",
    "    return True\n",
    "  \n",
    "# Driver Program to test above function \n",
    "print(\"true\") if isPrime(11) else print(\"false\") \n",
    "print(\"true\") if isPrime(14) else print(\"false\") "
   ]
  },
  {
   "cell_type": "code",
   "execution_count": 1,
   "metadata": {},
   "outputs": [
    {
     "name": "stdout",
     "output_type": "stream",
     "text": [
      " true\n",
      " false\n"
     ]
    }
   ],
   "source": [
    "def isPrime(n) :  \n",
    "    # Corner cases  \n",
    "    if (n <= 1) :  \n",
    "        return False\n",
    "    if (n <= 3) :  \n",
    "        return True\n",
    "    \n",
    "    # This is checked so that we can skip   \n",
    "    # middle five numbers in below loop  \n",
    "    if (n % 2 == 0 or n % 3 == 0) :  \n",
    "        return False\n",
    "    \n",
    "    i = 5\n",
    "    while(i * i <= n) :  \n",
    "        if (n % i == 0 or n % (i + 2) == 0) :  \n",
    "            return False\n",
    "        i = i + 6\n",
    "    \n",
    "    return True\n",
    "    \n",
    "    \n",
    "# Driver Program   \n",
    "    \n",
    "if(isPrime(11)) :  \n",
    "    print(\" true\")  \n",
    "else :  \n",
    "    print(\" false\")  \n",
    "        \n",
    "if(isPrime(15)) :  \n",
    "    print(\" true\")  \n",
    "else :   \n",
    "    print(\" false\")  \n",
    "        "
   ]
  },
  {
   "cell_type": "code",
   "execution_count": 3,
   "metadata": {},
   "outputs": [
    {
     "name": "stdout",
     "output_type": "stream",
     "text": [
      "11 is a prime number\n"
     ]
    }
   ],
   "source": [
    "num = 11\n",
    "  \n",
    "# If given number is greater than 1 \n",
    "if num > 1: \n",
    "      \n",
    "   # Iterate from 2 to n / 2  \n",
    "   for i in range(2, num): \n",
    "         \n",
    "       # If num is divisible by any number between  \n",
    "       # 2 and n / 2, it is not prime  \n",
    "       if (num % i) == 0: \n",
    "           print(num, \"is not a prime number\") \n",
    "           break\n",
    "   else: \n",
    "       print(num, \"is a prime number\") \n",
    "  \n",
    "else: \n",
    "   print(num, \"is not a prime number\") "
   ]
  }
 ],
 "metadata": {
  "kernelspec": {
   "display_name": "Python 3",
   "language": "python",
   "name": "python3"
  },
  "language_info": {
   "codemirror_mode": {
    "name": "ipython",
    "version": 3
   },
   "file_extension": ".py",
   "mimetype": "text/x-python",
   "name": "python",
   "nbconvert_exporter": "python",
   "pygments_lexer": "ipython3",
   "version": "3.7.6"
  }
 },
 "nbformat": 4,
 "nbformat_minor": 4
}
