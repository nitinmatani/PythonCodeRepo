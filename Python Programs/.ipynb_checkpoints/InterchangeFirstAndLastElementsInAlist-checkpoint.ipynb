{
 "cells": [
  {
   "cell_type": "markdown",
   "metadata": {},
   "source": [
    "Input : [12, 35, 9, 56, 24]\n",
    "Output : [24, 35, 9, 56, 12]\n",
    "\n",
    "Input : [1, 2, 3]\n",
    "Output : [3, 2, 1]"
   ]
  },
  {
   "cell_type": "code",
   "execution_count": 1,
   "metadata": {},
   "outputs": [
    {
     "name": "stdout",
     "output_type": "stream",
     "text": [
      "[24, 35, 9, 56, 12]\n"
     ]
    }
   ],
   "source": [
    "def swapList(newList): \n",
    "    size = len(newList) \n",
    "      \n",
    "    # Swapping  \n",
    "    temp = newList[0] \n",
    "    newList[0] = newList[size - 1] \n",
    "    newList[size - 1] = temp \n",
    "      \n",
    "    return newList \n",
    "      \n",
    "# Driver code \n",
    "newList = [12, 35, 9, 56, 24] \n",
    "  \n",
    "print(swapList(newList)) "
   ]
  },
  {
   "cell_type": "code",
   "execution_count": 2,
   "metadata": {},
   "outputs": [
    {
     "name": "stdout",
     "output_type": "stream",
     "text": [
      "[24, 35, 9, 56, 12]\n"
     ]
    }
   ],
   "source": [
    "def swapList(newList): \n",
    "      \n",
    "    newList[0], newList[-1] = newList[-1], newList[0] \n",
    "  \n",
    "    return newList \n",
    "      \n",
    "# Driver code \n",
    "newList = [12, 35, 9, 56, 24] \n",
    "print(swapList(newList)) "
   ]
  },
  {
   "cell_type": "code",
   "execution_count": 3,
   "metadata": {},
   "outputs": [
    {
     "name": "stdout",
     "output_type": "stream",
     "text": [
      "[24, 35, 9, 56, 12]\n"
     ]
    }
   ],
   "source": [
    "def swapList(list): \n",
    "      \n",
    "    # Storing the first and last element  \n",
    "    # as a pair in a tuple variable get \n",
    "    get = list[-1], list[0] \n",
    "      \n",
    "    # unpacking those elements \n",
    "    list[0], list[-1] = get \n",
    "      \n",
    "    return list\n",
    "      \n",
    "# Driver code \n",
    "newList = [12, 35, 9, 56, 24] \n",
    "print(swapList(newList)) "
   ]
  },
  {
   "cell_type": "code",
   "execution_count": 4,
   "metadata": {},
   "outputs": [
    {
     "name": "stdout",
     "output_type": "stream",
     "text": [
      "1\n",
      "[2, 3]\n",
      "4\n"
     ]
    }
   ],
   "source": [
    "list = [1, 2, 3, 4] \n",
    "  \n",
    "a, *b, c = list\n",
    "  \n",
    "print(a) \n",
    "print(b) \n",
    "print(c) "
   ]
  },
  {
   "cell_type": "code",
   "execution_count": 5,
   "metadata": {},
   "outputs": [
    {
     "name": "stdout",
     "output_type": "stream",
     "text": [
      "[24, 35, 9, 56, 12]\n"
     ]
    }
   ],
   "source": [
    "# Swap function \n",
    "def swapList(list): \n",
    "      \n",
    "    start, *middle, end = list\n",
    "    list = [end, *middle, start] \n",
    "      \n",
    "    return list\n",
    "      \n",
    "# Driver code \n",
    "newList = [12, 35, 9, 56, 24] \n",
    "  \n",
    "print(swapList(newList)) "
   ]
  },
  {
   "cell_type": "code",
   "execution_count": 6,
   "metadata": {},
   "outputs": [
    {
     "name": "stdout",
     "output_type": "stream",
     "text": [
      "[24, 35, 9, 56, 12]\n"
     ]
    }
   ],
   "source": [
    "def swapList(list): \n",
    "      \n",
    "    first = list.pop(0)    \n",
    "    last = list.pop(-1) \n",
    "      \n",
    "    list.insert(0, last)   \n",
    "    list.append(first)    \n",
    "      \n",
    "    return list\n",
    "      \n",
    "# Driver code \n",
    "newList = [12, 35, 9, 56, 24] \n",
    "  \n",
    "print(swapList(newList)) "
   ]
  },
  {
   "cell_type": "markdown",
   "metadata": {},
   "source": [
    "#Swap any two elements in the list\n",
    "Input : List = [23, 65, 19, 90], pos1 = 1, pos2 = 3\n",
    "Output : [19, 65, 23, 90]\n",
    "\n",
    "Input : List = [1, 2, 3, 4, 5], pos1 = 2, pos2 = 5\n",
    "Output : [1, 5, 3, 4, 2]"
   ]
  },
  {
   "cell_type": "code",
   "execution_count": 7,
   "metadata": {},
   "outputs": [
    {
     "name": "stdout",
     "output_type": "stream",
     "text": [
      "[19, 65, 23, 90]\n"
     ]
    }
   ],
   "source": [
    "# Swap function \n",
    "def swapPositions(list, pos1, pos2): \n",
    "      \n",
    "    list[pos1], list[pos2] = list[pos2], list[pos1] \n",
    "    return list\n",
    "  \n",
    "# Driver function \n",
    "List = [23, 65, 19, 90] \n",
    "pos1, pos2  = 1, 3\n",
    "print(swapPositions(List, pos1-1, pos2-1))"
   ]
  },
  {
   "cell_type": "code",
   "execution_count": 8,
   "metadata": {},
   "outputs": [
    {
     "name": "stdout",
     "output_type": "stream",
     "text": [
      "[19, 65, 23, 90]\n"
     ]
    }
   ],
   "source": [
    "def swapPositions(list, pos1, pos2): \n",
    "      \n",
    "    # popping both the elements from list \n",
    "    first_ele = list.pop(pos1)    \n",
    "    second_ele = list.pop(pos2-1) \n",
    "     \n",
    "    # inserting in each others positions \n",
    "    list.insert(pos1, second_ele)   \n",
    "    list.insert(pos2, first_ele)   \n",
    "      \n",
    "    return list\n",
    "  \n",
    "# Driver function \n",
    "List = [23, 65, 19, 90] \n",
    "pos1, pos2  = 1, 3\n",
    "  \n",
    "print(swapPositions(List, pos1-1, pos2-1)) "
   ]
  },
  {
   "cell_type": "code",
   "execution_count": 9,
   "metadata": {},
   "outputs": [
    {
     "name": "stdout",
     "output_type": "stream",
     "text": [
      "[19, 65, 23, 90]\n"
     ]
    }
   ],
   "source": [
    "def swapPositions(list, pos1, pos2): \n",
    "  \n",
    "    # Storing the two elements \n",
    "    # as a pair in a tuple variable get \n",
    "    get = list[pos1], list[pos2] \n",
    "       \n",
    "    # unpacking those elements \n",
    "    list[pos2], list[pos1] = get \n",
    "       \n",
    "    return list\n",
    "  \n",
    "# Driver Code \n",
    "List = [23, 65, 19, 90] \n",
    "  \n",
    "pos1, pos2  = 1, 3\n",
    "print(swapPositions(List, pos1-1, pos2-1)) "
   ]
  },
  {
   "cell_type": "code",
   "execution_count": 10,
   "metadata": {},
   "outputs": [
    {
     "name": "stdout",
     "output_type": "stream",
     "text": [
      "[19, 65, 23, 90]\n"
     ]
    }
   ],
   "source": [
    "def swapPositions(list, pos1, pos2): \n",
    "    list[pos1],list[pos2] = list[pos2],list[pos1] \n",
    "    return list\n",
    "  \n",
    "# Driver Code \n",
    "List = [23, 65, 19, 90] \n",
    "pos1, pos2  = 1, 3\n",
    "print(swapPositions(List, pos1-1, pos2-1)) "
   ]
  },
  {
   "cell_type": "code",
   "execution_count": null,
   "metadata": {},
   "outputs": [],
   "source": []
  }
 ],
 "metadata": {
  "kernelspec": {
   "display_name": "Python 3",
   "language": "python",
   "name": "python3"
  },
  "language_info": {
   "codemirror_mode": {
    "name": "ipython",
    "version": 3
   },
   "file_extension": ".py",
   "mimetype": "text/x-python",
   "name": "python",
   "nbconvert_exporter": "python",
   "pygments_lexer": "ipython3",
   "version": "3.7.6"
  }
 },
 "nbformat": 4,
 "nbformat_minor": 4
}
