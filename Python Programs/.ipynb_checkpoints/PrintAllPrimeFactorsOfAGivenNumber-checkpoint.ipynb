{
 "cells": [
  {
   "cell_type": "markdown",
   "metadata": {},
   "source": [
    "Given a number n, write an efficient function to print all prime factors of n. For example, if the input number is 12, then output should be “2 2 3”. And if the input number is 315, then output should be “3 3 5 7”.\n",
    "Following are the steps to find all prime factors.\n",
    "1) While n is divisible by 2, print 2 and divide n by 2.\n",
    "2) After step 1, n must be odd. Now start a loop from i = 3 to square root of n. While i divides n, print i and divide n by i, increment i by 2 and continue.\n",
    "3) If n is a prime number and is greater than 2, then n will not become 1 by above two steps. So print n if it is greater than 2."
   ]
  },
  {
   "cell_type": "code",
   "execution_count": 6,
   "metadata": {},
   "outputs": [
    {
     "name": "stdout",
     "output_type": "stream",
     "text": [
      "3\n",
      "3\n",
      "5\n",
      "7\n"
     ]
    }
   ],
   "source": [
    "import math \n",
    "  \n",
    "# A function to print all prime factors of  \n",
    "# a given number n \n",
    "def primeFactors(n): \n",
    "      \n",
    "    # Print the number of two\\'s that divide n \n",
    "    while n % 2 == 0: \n",
    "        print(2,) \n",
    "        n = n / 2  \n",
    "    # n must be odd at this point \n",
    "    # so a skip of 2 ( i = i + 2) can be used \n",
    "    for i in range(3,int(math.sqrt(n))+1,2): \n",
    "          \n",
    "        # while i divides n , print i ad divide n \n",
    "        while n % i== 0: \n",
    "            print(i,) \n",
    "            n = n / i  \n",
    "    # Condition if n is a prime \n",
    "    # number greater than 2 \n",
    "    if n > 2: \n",
    "        print(n) \n",
    "          \n",
    "# Driver Program to test above function \n",
    "  \n",
    "n = 315\n",
    "primeFactors(n) "
   ]
  }
 ],
 "metadata": {
  "kernelspec": {
   "display_name": "Python 3",
   "language": "python",
   "name": "python3"
  },
  "language_info": {
   "codemirror_mode": {
    "name": "ipython",
    "version": 3
   },
   "file_extension": ".py",
   "mimetype": "text/x-python",
   "name": "python",
   "nbconvert_exporter": "python",
   "pygments_lexer": "ipython3",
   "version": "3.7.6"
  }
 },
 "nbformat": 4,
 "nbformat_minor": 4
}
