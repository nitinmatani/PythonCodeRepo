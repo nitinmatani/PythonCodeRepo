{
 "cells": [
  {
   "cell_type": "code",
   "execution_count": 1,
   "metadata": {},
   "outputs": [
    {
     "name": "stdout",
     "output_type": "stream",
     "text": [
      "[(5, 2), (4, 1)]\n"
     ]
    }
   ],
   "source": [
    "def findPairs(lst, k): \n",
    "      \n",
    "    return [(e1, e2) for e1 in lst  \n",
    "            for e2 in lst if (e1-e2 == k)] \n",
    "          \n",
    "# Driver code \n",
    "lst = [1, 5, 3, 4, 2] \n",
    "k = 3\n",
    "print(findPairs(lst, k)) "
   ]
  },
  {
   "cell_type": "markdown",
   "metadata": {},
   "source": [
    "This is an efficient approach with respect to the above approach as it uses only O(n) space. We take an empty list to store the output. Then, we use a loop with iterator ‘e’ to traverse through given list. In every iteration, we check is e+k i.e the required pair integer for e is available or not. If yes, we append the tuple to ‘res’"
   ]
  },
  {
   "cell_type": "code",
   "execution_count": 2,
   "metadata": {},
   "outputs": [
    {
     "name": "stdout",
     "output_type": "stream",
     "text": [
      "[(1, 4), (2, 5)]\n"
     ]
    }
   ],
   "source": [
    "def findPairs(lst, k): \n",
    "    res = [] \n",
    "    for e in lst: \n",
    "        if e + k in lst: \n",
    "            res.append(tuple((e, e + k))) \n",
    "              \n",
    "    return res \n",
    "      \n",
    "# Driver code \n",
    "lst = [1, 5, 3, 4, 2] \n",
    "k = 3\n",
    "print(findPairs(lst, k))"
   ]
  },
  {
   "cell_type": "markdown",
   "metadata": {},
   "source": [
    "The best approach is to use the inbuilt function from itertools module. combinations() produces an iterator over tuples of all combinations of n elements in inputs. We make the use of these combinations and output those having ‘k’ difference."
   ]
  },
  {
   "cell_type": "code",
   "execution_count": 3,
   "metadata": {},
   "outputs": [
    {
     "name": "stdout",
     "output_type": "stream",
     "text": [
      "[(1, 4), (5, 2)]\n"
     ]
    }
   ],
   "source": [
    "from itertools import combinations \n",
    "  \n",
    "def findPairs(lst, k): \n",
    "    return [(x, y) for x, y in combinations(lst, r = 2) \n",
    "                   if abs(x - y) == k] \n",
    "              \n",
    "# Driver code \n",
    "lst = [1, 5, 3, 4, 2] \n",
    "k = 3\n",
    "print(findPairs(lst, k)) "
   ]
  }
 ],
 "metadata": {
  "kernelspec": {
   "display_name": "Python 3",
   "language": "python",
   "name": "python3"
  },
  "language_info": {
   "codemirror_mode": {
    "name": "ipython",
    "version": 3
   },
   "file_extension": ".py",
   "mimetype": "text/x-python",
   "name": "python",
   "nbconvert_exporter": "python",
   "pygments_lexer": "ipython3",
   "version": "3.7.6"
  }
 },
 "nbformat": 4,
 "nbformat_minor": 4
}
