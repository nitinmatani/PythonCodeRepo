{
 "cells": [
  {
   "cell_type": "code",
   "execution_count": 1,
   "metadata": {},
   "outputs": [
    {
     "name": "stdout",
     "output_type": "stream",
     "text": [
      "Second highest number is :  45\n"
     ]
    }
   ],
   "source": [
    "# list of numbers - length of list should be at least 2 \n",
    "list1 = [10, 20, 4, 45, 99] \n",
    "  \n",
    "mx=max(list1[0],list1[1])  \n",
    "secondmax=min(list1[0],list1[1])  \n",
    "n =len(list1) \n",
    "for i in range(2,n):  \n",
    "    if list1[i]>mx:  \n",
    "        secondmax=mx \n",
    "        mx=list1[i]  \n",
    "    elif list1[i]>secondmax and mx != list1[i]:  \n",
    "        secondmax=list1[i] \n",
    "    else: \n",
    "        if secondmax == mx: \n",
    "            secondmax = list1[i] \n",
    "  \n",
    "print(\"Second highest number is : \",str(secondmax)) "
   ]
  },
  {
   "cell_type": "code",
   "execution_count": 2,
   "metadata": {},
   "outputs": [
    {
     "name": "stdout",
     "output_type": "stream",
     "text": [
      "Second largest element is: 45\n"
     ]
    }
   ],
   "source": [
    "#Method 2 : Sort the list in ascending order and print the second last element in the list.\n",
    "# list of numbers \n",
    "list1 = [10, 20, 4, 45, 99] \n",
    "  \n",
    "# sorting the list \n",
    "list1.sort() \n",
    "  \n",
    "# printing the second last element \n",
    "print(\"Second largest element is:\", list1[-2]) "
   ]
  },
  {
   "cell_type": "code",
   "execution_count": 4,
   "metadata": {},
   "outputs": [
    {
     "name": "stdout",
     "output_type": "stream",
     "text": [
      "45\n"
     ]
    }
   ],
   "source": [
    "# Method 3 : By removing the max element from list\n",
    "list1 = [10, 20, 4, 45, 99] \n",
    "  \n",
    "# new_list is a set of list1 \n",
    "new_list = set(list1) \n",
    "  \n",
    "# removing the largest element from temp list \n",
    "new_list.remove(max(new_list)) \n",
    "  \n",
    "# elements in original list are not changed \n",
    "# print(list1) \n",
    "  \n",
    "print(max(new_list)) "
   ]
  },
  {
   "cell_type": "code",
   "execution_count": 5,
   "metadata": {},
   "outputs": [
    {
     "name": "stdout",
     "output_type": "stream",
     "text": [
      "Enter number of elements in list: 4\n",
      "Enter elements: 12\n",
      "Enter elements: 19\n",
      "Enter elements: 1\n",
      "Enter elements: 99\n",
      "Second largest element is: 19\n"
     ]
    }
   ],
   "source": [
    "# Method 3 : Find max list element on inputs provided by user\n",
    "# creating empty list \n",
    "list1 = [] \n",
    "  \n",
    "# asking number of elements to put in list \n",
    "num = int(input(\"Enter number of elements in list: \")) \n",
    "  \n",
    "# iterating till num to append elements in list \n",
    "for i in range(1, num + 1): \n",
    "    ele = int(input(\"Enter elements: \")) \n",
    "    list1.append(ele) \n",
    "  \n",
    "''' \n",
    "# sort the list     \n",
    "list1.sort() \n",
    "      \n",
    "# print second maximum element \n",
    "print(\"Second largest element is:\", list1[-2]) \n",
    "  \n",
    "'''\n",
    "  \n",
    "# print second maximum element using sorted() method \n",
    "print(\"Second largest element is:\", sorted(list1)[-2]) "
   ]
  }
 ],
 "metadata": {
  "kernelspec": {
   "display_name": "Python 3",
   "language": "python",
   "name": "python3"
  },
  "language_info": {
   "codemirror_mode": {
    "name": "ipython",
    "version": 3
   },
   "file_extension": ".py",
   "mimetype": "text/x-python",
   "name": "python",
   "nbconvert_exporter": "python",
   "pygments_lexer": "ipython3",
   "version": "3.7.6"
  }
 },
 "nbformat": 4,
 "nbformat_minor": 4
}
