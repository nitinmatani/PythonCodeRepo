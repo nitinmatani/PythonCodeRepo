{
 "cells": [
  {
   "cell_type": "code",
   "execution_count": 1,
   "metadata": {},
   "outputs": [
    {
     "name": "stdout",
     "output_type": "stream",
     "text": [
      "The original dictionary is : {'gfg': [1, 3, 4], 'is': [7, 6], 'best': [4, 5]}\n",
      "The converted list is : [['gfg', 1, 3, 4], ['is', 7, 6], ['best', 4, 5]]\n"
     ]
    }
   ],
   "source": [
    "#Method #1 : Using loop + items()\n",
    "test_dict = {'gfg' : [1, 3, 4], 'is' : [7, 6], 'best' : [4, 5]} \n",
    "  \n",
    "# printing original dictionary \n",
    "print(\"The original dictionary is : \" + str(test_dict)) \n",
    "  \n",
    "# Convert Key-Value list Dictionary to Lists of List \n",
    "# Using loop + items() \n",
    "res = [] \n",
    "for key, val in test_dict.items(): \n",
    "    res.append([key] + val) \n",
    "  \n",
    "# printing result  \n",
    "print(\"The converted list is : \" + str(res))  "
   ]
  },
  {
   "cell_type": "code",
   "execution_count": 2,
   "metadata": {},
   "outputs": [
    {
     "name": "stdout",
     "output_type": "stream",
     "text": [
      "The original dictionary is : {'gfg': [1, 3, 4], 'is': [7, 6], 'best': [4, 5]}\n",
      "The converted list is : [['gfg', 1, 3, 4], ['is', 7, 6], ['best', 4, 5]]\n"
     ]
    }
   ],
   "source": [
    "#Method #2 : Using list comprehension\n",
    "test_dict = {'gfg' : [1, 3, 4], 'is' : [7, 6], 'best' : [4, 5]} \n",
    "  \n",
    "# printing original dictionary \n",
    "print(\"The original dictionary is : \" + str(test_dict)) \n",
    "  \n",
    "# Convert Key-Value list Dictionary to Lists of List \n",
    "# Using list comprehension \n",
    "res = [[key] + val for key, val in test_dict.items()] \n",
    "  \n",
    "# printing result  \n",
    "print(\"The converted list is : \" + str(res)) "
   ]
  }
 ],
 "metadata": {
  "kernelspec": {
   "display_name": "Python 3",
   "language": "python",
   "name": "python3"
  },
  "language_info": {
   "codemirror_mode": {
    "name": "ipython",
    "version": 3
   },
   "file_extension": ".py",
   "mimetype": "text/x-python",
   "name": "python",
   "nbconvert_exporter": "python",
   "pygments_lexer": "ipython3",
   "version": "3.7.6"
  }
 },
 "nbformat": 4,
 "nbformat_minor": 4
}
