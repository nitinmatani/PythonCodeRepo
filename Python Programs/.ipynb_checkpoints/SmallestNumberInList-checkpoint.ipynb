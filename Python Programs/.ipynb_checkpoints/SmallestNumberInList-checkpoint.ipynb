{
 "cells": [
  {
   "cell_type": "code",
   "execution_count": 4,
   "metadata": {},
   "outputs": [
    {
     "name": "stdout",
     "output_type": "stream",
     "text": [
      "Smallest element is: 4\n"
     ]
    }
   ],
   "source": [
    "# list of numbers \n",
    "list1 = [10, 20, 4, 45, 99] \n",
    "  \n",
    "# sorting the list \n",
    "list1.sort() \n",
    "  \n",
    "# printing the first element \n",
    "print(\"Smallest element is:\", *list1[:1]) "
   ]
  },
  {
   "cell_type": "code",
   "execution_count": 5,
   "metadata": {},
   "outputs": [
    {
     "name": "stdout",
     "output_type": "stream",
     "text": [
      "Smallest element is: 1\n"
     ]
    }
   ],
   "source": [
    "list1 = [10, 20, 1, 45, 99] \n",
    "  \n",
    "  \n",
    "# printing the maximum element \n",
    "print(\"Smallest element is:\", min(list1)) "
   ]
  },
  {
   "cell_type": "code",
   "execution_count": 6,
   "metadata": {},
   "outputs": [
    {
     "name": "stdout",
     "output_type": "stream",
     "text": [
      "Enter number of elements in list: 4\n",
      "Enter elements: 12\n",
      "Enter elements: 4\n",
      "Enter elements: 5\n",
      "Enter elements: 8\n",
      "Smallest element is: 4\n"
     ]
    }
   ],
   "source": [
    "# creating empty list \n",
    "list1 = [] \n",
    "  \n",
    "# asking number of elements to put in list \n",
    "num = int(input(\"Enter number of elements in list: \")) \n",
    "  \n",
    "# iterating till num to append elements in list \n",
    "for i in range(1, num + 1): \n",
    "    ele= int(input(\"Enter elements: \")) \n",
    "    list1.append(ele) \n",
    "      \n",
    "# print maximum element \n",
    "print(\"Smallest element is:\", min(list1)) "
   ]
  },
  {
   "cell_type": "code",
   "execution_count": 7,
   "metadata": {},
   "outputs": [
    {
     "name": "stdout",
     "output_type": "stream",
     "text": [
      "List:23,-1,45,22.6,78,100\n",
      "The list is  ['23', '-1', '45', '22.6', '78', '100']\n",
      "The smallest element in the list is  -1\n"
     ]
    }
   ],
   "source": [
    "l=[l for l in input(\"List:\").split(\",\")] \n",
    "print(\"The list is \",l) \n",
    "  \n",
    "# Assign first element as a minimum. \n",
    "min1 = l[0] \n",
    "  \n",
    "for i in range(len(l)): \n",
    "  \n",
    "    # If the other element is min than first element \n",
    "    if l[i] < min1:  \n",
    "        min1 = l[i] #It will change \n",
    "  \n",
    "print(\"The smallest element in the list is \",min1) "
   ]
  }
 ],
 "metadata": {
  "kernelspec": {
   "display_name": "Python 3",
   "language": "python",
   "name": "python3"
  },
  "language_info": {
   "codemirror_mode": {
    "name": "ipython",
    "version": 3
   },
   "file_extension": ".py",
   "mimetype": "text/x-python",
   "name": "python",
   "nbconvert_exporter": "python",
   "pygments_lexer": "ipython3",
   "version": "3.7.6"
  }
 },
 "nbformat": 4,
 "nbformat_minor": 4
}
