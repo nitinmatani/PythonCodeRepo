{
 "cells": [
  {
   "cell_type": "markdown",
   "metadata": {},
   "source": [
    "Input : arr = {1, 2, 3, 2, 3, 1, 3}\n",
    "Output : 3\n",
    "\n",
    "Input : arr = {5, 7, 2, 7, 5, 2, 5}\n",
    "Output : 5"
   ]
  },
  {
   "cell_type": "code",
   "execution_count": 3,
   "metadata": {},
   "outputs": [
    {
     "name": "stdout",
     "output_type": "stream",
     "text": [
      "2\n"
     ]
    }
   ],
   "source": [
    "def getOddOccurrence(arr, arr_size): \n",
    "      \n",
    "    for i in range(0, arr_size): \n",
    "        count = 0\n",
    "        for j in range(0, arr_size): \n",
    "            if arr[i] == arr[j]: \n",
    "                count+= 1\n",
    "              \n",
    "        if (count % 2 != 0): \n",
    "            return arr[i] \n",
    "          \n",
    "    return -1\n",
    "      \n",
    "      \n",
    "# driver code  \n",
    "arr = [2, 3, 5, 4, 5, 2, 4, 3, 5, 2, 4, 4, 2] \n",
    "n = len(arr) \n",
    "print(getOddOccurrence(arr, n)) "
   ]
  },
  {
   "cell_type": "code",
   "execution_count": 6,
   "metadata": {},
   "outputs": [
    {
     "name": "stdout",
     "output_type": "stream",
     "text": [
      " 5\n"
     ]
    }
   ],
   "source": [
    "def getOddOccurrence(arr): \n",
    "  \n",
    "    # Initialize result \n",
    "    res = 0\n",
    "      \n",
    "    # Traverse the array \n",
    "    for element in arr: \n",
    "        # XOR with the result \n",
    "        res = res ^ element \n",
    "  \n",
    "    return res \n",
    "  \n",
    "# Test array \n",
    "arr = [ 2, 3, 5, 4, 5, 2, 4, 3, 5, 2, 4, 4, 2] \n",
    "  \n",
    "print(\"% d\" % getOddOccurrence(arr))"
   ]
  }
 ],
 "metadata": {
  "kernelspec": {
   "display_name": "Python 3",
   "language": "python",
   "name": "python3"
  },
  "language_info": {
   "codemirror_mode": {
    "name": "ipython",
    "version": 3
   },
   "file_extension": ".py",
   "mimetype": "text/x-python",
   "name": "python",
   "nbconvert_exporter": "python",
   "pygments_lexer": "ipython3",
   "version": "3.7.6"
  }
 },
 "nbformat": 4,
 "nbformat_minor": 4
}
