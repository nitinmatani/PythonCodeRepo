{
 "cells": [
  {
   "cell_type": "markdown",
   "metadata": {},
   "source": [
    "Input: \n",
    "[{'a':[1, 2, 3], 'b':[4, 5, 6]}, \n",
    " {'c':[7, 8, 9], 'd':[10, 11, 12]}]\n",
    "\n",
    "Output: \n",
    "[('b', 4, 5, 6), ('a', 1, 2, 3), ('d', 10, 11, 12), ('c', 7, 8, 9)]\n",
    "\n",
    "Input: \n",
    "[{'a':['America', 'Australia'], 'b':['Bhutan', 'Bhopal']},\n",
    " {'c':['Canada', 'California'], 'd':['Denmark', 'Delhi']}]\n",
    "\n",
    "Output: \n",
    "[('a', 'America', 'Australia'), ('b', 'Bhutan', 'Bhopal'),\n",
    " ('c', 'Canada', 'California'), ('d', 'Denmark', 'Delhi')]"
   ]
  },
  {
   "cell_type": "code",
   "execution_count": 1,
   "metadata": {},
   "outputs": [
    {
     "name": "stdout",
     "output_type": "stream",
     "text": [
      "Resultant list of tuples: [('a', 1, 2, 3), ('b', 4, 5, 6), ('c', 7, 8, 9), ('d', 10, 11, 12)]\n"
     ]
    }
   ],
   "source": [
    "ini_list = [{'a':[1, 2, 3], 'b':[4, 5, 6]}, \n",
    "            {'c':[7, 8, 9], 'd':[10, 11, 12]}] \n",
    "  \n",
    "# converting to list of tuples \n",
    "temp_dict = {} \n",
    "result = [] \n",
    "for ini_dict in ini_list: \n",
    "    for key in ini_dict.keys(): \n",
    "         if key in temp_dict: \n",
    "             temp_dict[key] += ini_dict[key] \n",
    "         else: \n",
    "             temp_dict[key] = ini_dict[key] \n",
    "  \n",
    "for key in temp_dict.keys(): \n",
    "     result.append(tuple([key] + temp_dict[key])) \n",
    "  \n",
    "# printing result \n",
    "print (\"Resultant list of tuples: {}\".format(result)) "
   ]
  },
  {
   "cell_type": "code",
   "execution_count": 2,
   "metadata": {},
   "outputs": [
    {
     "name": "stdout",
     "output_type": "stream",
     "text": [
      "Resultant list of tuples: [('a', 1, 2, 3), ('b', 4, 5, 6), ('c', 7, 8, 9), ('d', 10, 11, 12)]\n"
     ]
    }
   ],
   "source": [
    "#Method #2: Using list comprehension\n",
    "# initialising list of dictionary \n",
    "ini_list = [{'a':[1, 2, 3], 'b':[4, 5, 6]}, \n",
    "            {'c':[7, 8, 9], 'd':[10, 11, 12]}] \n",
    "  \n",
    "# converting to list of tuples \n",
    "dict_list = [(key, )+tuple(val) for dic in ini_list  \n",
    "                       for key, val in dic.items()] \n",
    "  \n",
    "# printing result \n",
    "print (\"Resultant list of tuples: {}\".format(dict_list)) \n"
   ]
  },
  {
   "cell_type": "code",
   "execution_count": null,
   "metadata": {},
   "outputs": [],
   "source": []
  }
 ],
 "metadata": {
  "kernelspec": {
   "display_name": "Python 3",
   "language": "python",
   "name": "python3"
  },
  "language_info": {
   "codemirror_mode": {
    "name": "ipython",
    "version": 3
   },
   "file_extension": ".py",
   "mimetype": "text/x-python",
   "name": "python",
   "nbconvert_exporter": "python",
   "pygments_lexer": "ipython3",
   "version": "3.7.6"
  }
 },
 "nbformat": 4,
 "nbformat_minor": 4
}
