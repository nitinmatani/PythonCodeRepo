{
 "cells": [
  {
   "cell_type": "code",
   "execution_count": 1,
   "metadata": {},
   "outputs": [
    {
     "name": "stdout",
     "output_type": "stream",
     "text": [
      "[(5, 3), (4, 4)]\n"
     ]
    }
   ],
   "source": [
    "# Function to find all pairs whose sum is x in  \n",
    "# two arrays \n",
    "  \n",
    "def allPairs(arr1,arr2,x): \n",
    "       \n",
    "     # finds all pairs in two arrays \n",
    "     # whose sum is x \n",
    "     print ([(x-k,k) for k in arr2 if (x-k) in arr1]) \n",
    "  \n",
    "# Driver program \n",
    "if __name__ == \"__main__\": \n",
    "    arr1 = [-1, -2, 4, -6, 5, 7] \n",
    "    arr2 = [6, 3, 4, 0]   \n",
    "    x = 8\n",
    "    allPairs(arr1,arr2,x) \n",
    "# Complexity : O(n*n)\n",
    "# Output:"
   ]
  },
  {
   "cell_type": "code",
   "execution_count": null,
   "metadata": {},
   "outputs": [],
   "source": []
  }
 ],
 "metadata": {
  "kernelspec": {
   "display_name": "Python 3",
   "language": "python",
   "name": "python3"
  },
  "language_info": {
   "codemirror_mode": {
    "name": "ipython",
    "version": 3
   },
   "file_extension": ".py",
   "mimetype": "text/x-python",
   "name": "python",
   "nbconvert_exporter": "python",
   "pygments_lexer": "ipython3",
   "version": "3.7.6"
  }
 },
 "nbformat": 4,
 "nbformat_minor": 4
}
