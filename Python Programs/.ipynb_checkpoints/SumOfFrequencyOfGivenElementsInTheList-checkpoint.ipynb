{
 "cells": [
  {
   "cell_type": "markdown",
   "metadata": {},
   "source": [
    "Input: list1 = [1, 2, 3]\n",
    "       list2 = [2, 1, 2, 1, 3, 5, 2, 3]\n",
    "\n",
    "Output: 7\n",
    "\n",
    "Explanation:\n",
    "No of time 1 occurring in list2 is :2\n",
    "No of time 2 occurring in list2 is :3\n",
    "No of time 3 occurring in list2 is :2\n",
    "Sum = 2+3+2 = 7"
   ]
  },
  {
   "cell_type": "code",
   "execution_count": 1,
   "metadata": {},
   "outputs": [
    {
     "name": "stdout",
     "output_type": "stream",
     "text": [
      "Initial list are: [1, 2, 3] [2, 1, 2, 1, 3, 5, 2, 3]\n",
      "Frequency is: 7\n"
     ]
    }
   ],
   "source": [
    "#Method #1: Using sum()\n",
    "# List initialization \n",
    "Input1 = [1, 2, 3] \n",
    "Input2 = [2, 1, 2, 1, 3, 5, 2, 3] \n",
    "  \n",
    "# Using sum \n",
    "Output = sum(Input2.count(elem) for elem in Input1) \n",
    "  \n",
    "# Printing output \n",
    "print(\"Initial list are:\", Input1, Input2) \n",
    "print(\"Frequency is:\", Output) "
   ]
  },
  {
   "cell_type": "code",
   "execution_count": 5,
   "metadata": {},
   "outputs": [
    {
     "name": "stdout",
     "output_type": "stream",
     "text": [
      "Initial list are: [1, 2, 3] [2, 1, 2, 1, 3, 5, 2, 3]\n",
      "Frequency is: 7\n"
     ]
    }
   ],
   "source": [
    "#Method #2: Using sum() from collections import Counter \n",
    "from collections import Counter  \n",
    "# List initialization \n",
    "Input1 = [1, 2, 3] \n",
    "Input2 = [2, 1, 2, 1, 3, 5, 2, 3] \n",
    "  \n",
    "  \n",
    "temp = Counter(Input2) \n",
    "Output = sum(temp[x] for x in Input1) \n",
    "  \n",
    "# Printing output \n",
    "print(\"Initial list are:\", Input1, Input2) \n",
    "print(\"Frequency is:\", Output)\n"
   ]
  }
 ],
 "metadata": {
  "kernelspec": {
   "display_name": "Python 3",
   "language": "python",
   "name": "python3"
  },
  "language_info": {
   "codemirror_mode": {
    "name": "ipython",
    "version": 3
   },
   "file_extension": ".py",
   "mimetype": "text/x-python",
   "name": "python",
   "nbconvert_exporter": "python",
   "pygments_lexer": "ipython3",
   "version": "3.7.6"
  }
 },
 "nbformat": 4,
 "nbformat_minor": 4
}
