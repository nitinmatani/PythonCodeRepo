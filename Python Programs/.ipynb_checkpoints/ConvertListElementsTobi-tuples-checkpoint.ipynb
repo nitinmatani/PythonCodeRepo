{
 "cells": [
  {
   "cell_type": "markdown",
   "metadata": {},
   "source": [
    "Method : Using zip() + repeat()\n",
    "    This problem can be solved using zip() which can be used to attach to each list element with a decided number using repeat()."
   ]
  },
  {
   "cell_type": "code",
   "execution_count": 1,
   "metadata": {},
   "outputs": [
    {
     "name": "stdout",
     "output_type": "stream",
     "text": [
      "The original list is : [5, 6, 7, 8, 4, 3]\n",
      "Tuple list after attaching element : [(5, 'gfg'), (6, 'gfg'), (7, 'gfg'), (8, 'gfg'), (4, 'gfg'), (3, 'gfg')]\n"
     ]
    }
   ],
   "source": [
    "from itertools import repeat \n",
    "  \n",
    "# initialize list \n",
    "test_list = [5, 6, 7, 8, 4, 3] \n",
    "  \n",
    "# printing original list \n",
    "print(\"The original list is : \" + str(test_list)) \n",
    "  \n",
    "# initialize attach element \n",
    "ele = 'gfg'\n",
    "  \n",
    "# Convert list elements to bi-tuples \n",
    "# using zip() + repeat() \n",
    "res = list(zip(test_list, repeat(ele))) \n",
    "  \n",
    "# printing result \n",
    "print(\"Tuple list after attaching element : \" + str(res)) "
   ]
  },
  {
   "cell_type": "markdown",
   "metadata": {},
   "source": [
    "Method #2 : Using map() + lambda\n",
    "This is yet another way in which this task can be performed. In this, we just extend the logic of adding element to list element to all elements using map(), by feeding it with lambda function to perform computation tasks."
   ]
  },
  {
   "cell_type": "code",
   "execution_count": 2,
   "metadata": {},
   "outputs": [
    {
     "name": "stdout",
     "output_type": "stream",
     "text": [
      "The original list is : [5, 6, 7, 8, 4, 3]\n",
      "Tuple list after attaching element : [(5, 'gfg'), (6, 'gfg'), (7, 'gfg'), (8, 'gfg'), (4, 'gfg'), (3, 'gfg')]\n"
     ]
    }
   ],
   "source": [
    "from itertools import repeat \n",
    "  \n",
    "# initialize list \n",
    "test_list = [5, 6, 7, 8, 4, 3] \n",
    "  \n",
    "# printing original list \n",
    "print(\"The original list is : \" + str(test_list)) \n",
    "  \n",
    "# initialize attach element \n",
    "ele = 'gfg'\n",
    "  \n",
    "# Convert list elements to bi-tuples \n",
    "# using map() + lambda \n",
    "res = list(map(lambda key : (key, ele), test_list)) \n",
    "  \n",
    "# printing result \n",
    "print(\"Tuple list after attaching element : \" + str(res)) "
   ]
  }
 ],
 "metadata": {
  "kernelspec": {
   "display_name": "Python 3",
   "language": "python",
   "name": "python3"
  },
  "language_info": {
   "codemirror_mode": {
    "name": "ipython",
    "version": 3
   },
   "file_extension": ".py",
   "mimetype": "text/x-python",
   "name": "python",
   "nbconvert_exporter": "python",
   "pygments_lexer": "ipython3",
   "version": "3.7.6"
  }
 },
 "nbformat": 4,
 "nbformat_minor": 4
}
