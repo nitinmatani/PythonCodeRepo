{
 "cells": [
  {
   "cell_type": "markdown",
   "metadata": {},
   "source": [
    "Examples:\n",
    "\n",
    "Input : [9, 2, 14] \n",
    "Output : 24 \n",
    "Explanation: (abs(9-2) + abs(9-14) + abs(2-14))\n",
    "\n",
    "Input : [1, 2, 3, 4]\n",
    "Output : 10 \n",
    "Explanation: (abs(1-2) + abs(1-3) + abs(1-4)\n",
    "             + abs(2-3) + abs(2-4) + abs(3-4))"
   ]
  },
  {
   "cell_type": "markdown",
   "metadata": {},
   "source": [
    "Approach #1 : Using enumerate()\n",
    "Enumerate() method adds a counter to an iterable and returns it in a form of enumerate object. In this method, we have a list ‘diffs’ which contains the absolute difference. We use two loops having two variables each. One to iterate through the counter and one for the list element. In every iteration, we check if the elements are similar or not. If not, find absolute difference and append it to diffs. Finally, find the sum of list. Since e"
   ]
  },
  {
   "cell_type": "code",
   "execution_count": 1,
   "metadata": {},
   "outputs": [
    {
     "name": "stdout",
     "output_type": "stream",
     "text": [
      "10\n"
     ]
    }
   ],
   "source": [
    "def sumPairs(lst):  \n",
    "      \n",
    "    diffs = [] \n",
    "    for i, x in enumerate(lst): \n",
    "        for j, y in enumerate(lst): \n",
    "            if i != j:  \n",
    "                diffs.append(abs(x-y)) \n",
    "              \n",
    "    return int(sum(diffs)/2) \n",
    "    \n",
    "# Driver program  \n",
    "lst = [1, 2, 3, 4]  \n",
    "print(sumPairs(lst))"
   ]
  },
  {
   "cell_type": "markdown",
   "metadata": {},
   "source": [
    "Approach #2 : Using itertools\n",
    "Python itertools consist of permutation() method. This method takes a list as an input and return an object list of tuples that contain all permutation in a list form. Here, to find absolute difference we essentially need a permutation of two elements. Since each pair will be counted twice, we divide the final sum by 2."
   ]
  },
  {
   "cell_type": "code",
   "execution_count": 2,
   "metadata": {},
   "outputs": [
    {
     "name": "stdout",
     "output_type": "stream",
     "text": [
      "74\n"
     ]
    }
   ],
   "source": [
    "import itertools \n",
    "  \n",
    "def sumPairs(lst):  \n",
    "      \n",
    "    diffs = [abs(e[1] - e[0]) for e in itertools.permutations(lst, 2)] \n",
    "    return int(sum(diffs)/2) \n",
    "    \n",
    "# Driver program  \n",
    "lst = [9, 8, 1, 16, 15]  \n",
    "print(sumPairs(lst))"
   ]
  }
 ],
 "metadata": {
  "kernelspec": {
   "display_name": "Python 3",
   "language": "python",
   "name": "python3"
  },
  "language_info": {
   "codemirror_mode": {
    "name": "ipython",
    "version": 3
   },
   "file_extension": ".py",
   "mimetype": "text/x-python",
   "name": "python",
   "nbconvert_exporter": "python",
   "pygments_lexer": "ipython3",
   "version": "3.7.6"
  }
 },
 "nbformat": 4,
 "nbformat_minor": 4
}
