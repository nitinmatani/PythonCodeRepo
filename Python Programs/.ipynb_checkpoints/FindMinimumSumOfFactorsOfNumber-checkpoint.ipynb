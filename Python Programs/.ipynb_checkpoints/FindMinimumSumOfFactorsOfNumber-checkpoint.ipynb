{
 "cells": [
  {
   "cell_type": "markdown",
   "metadata": {},
   "source": [
    "Input : 12\n",
    "Output : 7\n",
    "Explanation: \n",
    "Following are different ways to factorize 12 and\n",
    "sum of factors in different ways.\n",
    "12 = 12 * 1 = 12 + 1 = 13\n",
    "12 = 2 * 6 = 2 + 6 = 8\n",
    "12 = 3 * 4 = 3 + 4 = 7\n",
    "12 = 2 * 2 * 3 = 2 + 2 + 3 = 7\n",
    "Therefore minimum sum is 7\n",
    "\n",
    "Input : 105\n",
    "Output : 15"
   ]
  },
  {
   "cell_type": "code",
   "execution_count": 2,
   "metadata": {},
   "outputs": [
    {
     "name": "stdout",
     "output_type": "stream",
     "text": [
      "7.0\n"
     ]
    }
   ],
   "source": [
    "# To find minimum sum of \n",
    "# product of number \n",
    "def findMinSum(num): \n",
    "    sum = 0\n",
    "      \n",
    "    # Find factors of number \n",
    "    # and add to the sum \n",
    "    i = 2\n",
    "    while(i * i <= num): \n",
    "        while(num % i == 0): \n",
    "            sum += i \n",
    "            num /= i \n",
    "        i += 1\n",
    "    sum += num \n",
    "      \n",
    "    # Return sum of numbers \n",
    "    # having minimum product \n",
    "    return sum\n",
    "  \n",
    "# Driver Code \n",
    "num = 12\n",
    "print(findMinSum(num)) "
   ]
  }
 ],
 "metadata": {
  "kernelspec": {
   "display_name": "Python 3",
   "language": "python",
   "name": "python3"
  },
  "language_info": {
   "codemirror_mode": {
    "name": "ipython",
    "version": 3
   },
   "file_extension": ".py",
   "mimetype": "text/x-python",
   "name": "python",
   "nbconvert_exporter": "python",
   "pygments_lexer": "ipython3",
   "version": "3.7.6"
  }
 },
 "nbformat": 4,
 "nbformat_minor": 4
}
