{
 "cells": [
  {
   "cell_type": "code",
   "execution_count": 1,
   "metadata": {},
   "outputs": [
    {
     "name": "stdout",
     "output_type": "stream",
     "text": [
      "The original list is : [5, -6, 7, -8, -10]\n",
      "Absolute value list : [5, 6, 7, 8, 10]\n"
     ]
    }
   ],
   "source": [
    "# using abs() + list comprehension \n",
    "  \n",
    "# initialize list \n",
    "test_list = [5, -6, 7, -8, -10] \n",
    "  \n",
    "# printing original list \n",
    "print(\"The original list is : \" + str(test_list)) \n",
    "  \n",
    "# Absolute value of list elements \n",
    "# using abs() + list comprehension \n",
    "res =  [abs(ele) for ele in test_list] \n",
    "  \n",
    "# printing result \n",
    "print(\"Absolute value list : \" + str(res)) "
   ]
  },
  {
   "cell_type": "code",
   "execution_count": 2,
   "metadata": {},
   "outputs": [
    {
     "name": "stdout",
     "output_type": "stream",
     "text": [
      "The original list is : [5, -6, 7, -8, -10]\n",
      "Absolute value list : [5, 6, 7, 8, 10]\n"
     ]
    }
   ],
   "source": [
    "# using map() + abs() \n",
    "  \n",
    "# initialize list \n",
    "test_list = [5, -6, 7, -8, -10] \n",
    "  \n",
    "# printing original list \n",
    "print(\"The original list is : \" + str(test_list)) \n",
    "  \n",
    "# Absolute value of list elements \n",
    "# using map() + abs() \n",
    "res = list(map(abs, test_list)) \n",
    "  \n",
    "# printing result \n",
    "print(\"Absolute value list : \" + str(res)) \n"
   ]
  },
  {
   "cell_type": "code",
   "execution_count": null,
   "metadata": {},
   "outputs": [],
   "source": []
  }
 ],
 "metadata": {
  "kernelspec": {
   "display_name": "Python 3",
   "language": "python",
   "name": "python3"
  },
  "language_info": {
   "codemirror_mode": {
    "name": "ipython",
    "version": 3
   },
   "file_extension": ".py",
   "mimetype": "text/x-python",
   "name": "python",
   "nbconvert_exporter": "python",
   "pygments_lexer": "ipython3",
   "version": "3.7.6"
  }
 },
 "nbformat": 4,
 "nbformat_minor": 4
}
