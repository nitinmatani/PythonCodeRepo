{
 "cells": [
  {
   "cell_type": "markdown",
   "metadata": {},
   "source": [
    "Method : Using sorted() + lambda + list slicing\n",
    "This task can be performed using the combination of above functions. In this the sorted(), can be used to get the container in way which requires to get N largest elements at rear end and then the indices can be computed using list slicing."
   ]
  },
  {
   "cell_type": "code",
   "execution_count": 5,
   "metadata": {},
   "outputs": [
    {
     "name": "stdout",
     "output_type": "stream",
     "text": [
      "The original list is : [5, 6, 10, 4, 7, 1, 19]\n",
      "Indices list  is : [5, 3, 0, 1, 4, 2, 6]\n",
      "Indices list of max N elements is : [1, 4, 2, 6]\n"
     ]
    }
   ],
   "source": [
    "# initialize list \n",
    "test_list = [5, 6, 10, 4, 7, 1, 19] \n",
    "  \n",
    "# printing original list \n",
    "print(\"The original list is : \" + str(test_list)) \n",
    "  \n",
    "# initialize N  \n",
    "N = 4\n",
    "  \n",
    "# Indices of N largest elements in list \n",
    "# using sorted() + lambda + list slicing \n",
    "#res = sorted(range(len(test_list)), key = lambda sub: test_list[sub])[-N:] \n",
    "#res = sorted(range(len(test_list)))\n",
    "res = sorted(range(len(test_list)), key = lambda sub: test_list[sub])\n",
    "print(\"Indices list  is : \" + str(res))\n",
    "res = sorted(range(len(test_list)), key = lambda sub: test_list[sub])[-N:] \n",
    "# printing result \n",
    "print(\"Indices list of max N elements is : \" + str(res)) "
   ]
  }
 ],
 "metadata": {
  "kernelspec": {
   "display_name": "Python 3",
   "language": "python",
   "name": "python3"
  },
  "language_info": {
   "codemirror_mode": {
    "name": "ipython",
    "version": 3
   },
   "file_extension": ".py",
   "mimetype": "text/x-python",
   "name": "python",
   "nbconvert_exporter": "python",
   "pygments_lexer": "ipython3",
   "version": "3.7.6"
  }
 },
 "nbformat": 4,
 "nbformat_minor": 4
}
