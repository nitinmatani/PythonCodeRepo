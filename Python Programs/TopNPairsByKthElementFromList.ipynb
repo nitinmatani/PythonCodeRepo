{
 "cells": [
  {
   "cell_type": "markdown",
   "metadata": {},
   "source": [
    "Sometimes, while working with data, we can have a problem in which we need to get the maximum of elements filtered by the Kth element of record. This has a very important utility in web development domain. Let’s discuss certain ways in which this task can be performed."
   ]
  },
  {
   "cell_type": "markdown",
   "metadata": {},
   "source": [
    "Method #1 : Using filter() + lambda + set() + list comprehension\n",
    "\n",
    "The combination of above functions can be used to perform this particular function. In this, we first filter the top N elements from Kth index and then apply these values to the list and return the result."
   ]
  },
  {
   "cell_type": "code",
   "execution_count": 17,
   "metadata": {},
   "outputs": [
    {
     "name": "stdout",
     "output_type": "stream",
     "text": [
      "The original list is : [('gfg', 4, 'good'), ('gfg', 2, 'better'), ('gfg', 1, 'best'), ('gfg', 3, 'geeks')]\n",
      "{2, 3, 4}\n",
      "Top N elements of Kth index are : [('gfg', 4, 'good'), ('gfg', 2, 'better'), ('gfg', 3, 'geeks')]\n"
     ]
    }
   ],
   "source": [
    "# Using filter() + lambda + set() + list comprehension \n",
    "  \n",
    "# initialize list  \n",
    "test_list = [('gfg', 4, 'good'), ('gfg', 2, 'better'),  \n",
    "             ('gfg', 1, 'best'), ('gfg', 3, 'geeks')] \n",
    "  \n",
    "# printing original list \n",
    "print(\"The original list is : \" + str(test_list)) \n",
    "  \n",
    "# initialize N  \n",
    "N = 3 \n",
    "  \n",
    "# initialize K  \n",
    "K = 1\n",
    "  \n",
    "# Top N pairs by Kth element from list \n",
    "# Using filter() + lambda + set() + list comprehension \n",
    "temp = set(list({sub[K] for sub in test_list})[-N:]) \n",
    "print(temp)\n",
    "# sub2=[]\n",
    "# for sub in test_list:\n",
    "#     sub2.append(sub[K])\n",
    "# print(set(sub2))\n",
    "\n",
    "# sub3=[6,3,1,4]\n",
    "# print(set(sub3))\n",
    "\n",
    "res = list(filter(lambda sub: sub[K] in temp, test_list)) \n",
    "  \n",
    "# printing result \n",
    "print(\"Top N elements of Kth index are : \" + str(res)) "
   ]
  },
  {
   "cell_type": "markdown",
   "metadata": {},
   "source": [
    "Using groupby() + sorted() + loop\n",
    "\n",
    "This task can also be performed using above functionalities. In this, we first group the top N elements together and then limit by N while constructing the result list."
   ]
  },
  {
   "cell_type": "code",
   "execution_count": 19,
   "metadata": {},
   "outputs": [
    {
     "name": "stdout",
     "output_type": "stream",
     "text": [
      "The original list is : [('gfg', 4, 'good'), ('gfg', 2, 'better'), ('gfg', 1, 'best'), ('gfg', 3, 'geeks')]\n",
      "<itertools.groupby object at 0x0000023197ACAA68>\n",
      "Top N elements of Kth index are : [('gfg', 4, 'good'), ('gfg', 3, 'geeks'), ('gfg', 2, 'better')]\n"
     ]
    }
   ],
   "source": [
    "import itertools \n",
    "  \n",
    "# initialize list  \n",
    "test_list = [('gfg', 4, 'good'), ('gfg', 2, 'better'), \n",
    "             ('gfg', 1, 'best'), ('gfg', 3, 'geeks')] \n",
    "  \n",
    "# printing original list \n",
    "print(\"The original list is : \" + str(test_list)) \n",
    "  \n",
    "# initialize N  \n",
    "N = 3 \n",
    "  \n",
    "# initialize K  \n",
    "K = 1\n",
    "  \n",
    "# Top N pairs by Kth element from list \n",
    "# Using groupby() + sorted() + loop \n",
    "res = [] \n",
    "temp = itertools.groupby(sorted(test_list, key = lambda sub : sub[K],  \n",
    "                          reverse = True), key = lambda sub : sub[K]) \n",
    "\n",
    "for i in range(N): \n",
    "    res.extend(list(next(temp)[K])) \n",
    "  \n",
    "# printing result \n",
    "print(\"Top N elements of Kth index are : \" + str(res)) "
   ]
  }
 ],
 "metadata": {
  "kernelspec": {
   "display_name": "Python 3",
   "language": "python",
   "name": "python3"
  },
  "language_info": {
   "codemirror_mode": {
    "name": "ipython",
    "version": 3
   },
   "file_extension": ".py",
   "mimetype": "text/x-python",
   "name": "python",
   "nbconvert_exporter": "python",
   "pygments_lexer": "ipython3",
   "version": "3.7.6"
  }
 },
 "nbformat": 4,
 "nbformat_minor": 4
}
