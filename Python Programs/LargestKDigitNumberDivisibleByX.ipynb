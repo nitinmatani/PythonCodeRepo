{
 "cells": [
  {
   "cell_type": "markdown",
   "metadata": {},
   "source": [
    "Input : X = 30, K = 3\n",
    "Output : 990\n",
    "990 is the largest three digit \n",
    "number divisible by 30.\n",
    "\n",
    "Input : X = 7, K = 2\n",
    "Output : 98\n"
   ]
  },
  {
   "cell_type": "markdown",
   "metadata": {},
   "source": [
    "An efficient solution is to use below formula.\n",
    "\n",
    "ans = MAX - (MAX % X)\n",
    "where MAX is the largest K digit \n",
    "number which is  999...K-times"
   ]
  },
  {
   "cell_type": "code",
   "execution_count": 1,
   "metadata": {},
   "outputs": [
    {
     "name": "stdout",
     "output_type": "stream",
     "text": [
      "990\n"
     ]
    }
   ],
   "source": [
    "def answer(X, K): \n",
    "      \n",
    "    # Computing MAX \n",
    "    MAX = pow(10, K) - 1  #999\n",
    "      \n",
    "    #returning ans \n",
    "    return (MAX - (MAX % X)) \n",
    "  \n",
    "X = 30;  \n",
    "K = 3;  \n",
    "  \n",
    "print(answer(X, K));  "
   ]
  }
 ],
 "metadata": {
  "kernelspec": {
   "display_name": "Python 3",
   "language": "python",
   "name": "python3"
  },
  "language_info": {
   "codemirror_mode": {
    "name": "ipython",
    "version": 3
   },
   "file_extension": ".py",
   "mimetype": "text/x-python",
   "name": "python",
   "nbconvert_exporter": "python",
   "pygments_lexer": "ipython3",
   "version": "3.7.6"
  }
 },
 "nbformat": 4,
 "nbformat_minor": 4
}
