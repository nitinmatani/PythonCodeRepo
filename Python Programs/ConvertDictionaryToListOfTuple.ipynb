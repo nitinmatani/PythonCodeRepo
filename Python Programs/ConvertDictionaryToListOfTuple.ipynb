{
 "cells": [
  {
   "cell_type": "code",
   "execution_count": 1,
   "metadata": {},
   "outputs": [
    {
     "name": "stdout",
     "output_type": "stream",
     "text": [
      "The original dictionary : {'Nikhil': (22, 'JIIT'), 'Akshat': (21, 'JIIT')}\n",
      "The list after conversion : [('Nikhil', 22, 'JIIT'), ('Akshat', 21, 'JIIT')]\n"
     ]
    }
   ],
   "source": [
    "#Method #1 : Using list comprehension + tuple + items()\n",
    "test_dict = {\"Nikhil\" : (22, \"JIIT\"), \"Akshat\" : (21, \"JIIT\")}  \n",
    "  \n",
    "# printing original dictionary \n",
    "print(\"The original dictionary : \" + str(test_dict)) \n",
    "  \n",
    "# using list comprehension + tuple + items() \n",
    "# Dictionary to list of tuple conversion \n",
    "res = [(key, i, j) for key, (i, j) in test_dict.items()] \n",
    "  \n",
    "# print result \n",
    "print(\"The list after conversion : \" + str(res))"
   ]
  },
  {
   "cell_type": "code",
   "execution_count": 2,
   "metadata": {},
   "outputs": [
    {
     "name": "stdout",
     "output_type": "stream",
     "text": [
      "The original dictionary : {'Nikhil': (22, 'JIIT'), 'Akshat': (21, 'JIIT')}\n",
      "The list after conversion : [('Nikhil', 22, 'JIIT'), ('Akshat', 21, 'JIIT')]\n"
     ]
    }
   ],
   "source": [
    "#Method #2 : Using list comprehension + items() + “+” operator\n",
    "test_dict = {\"Nikhil\" : (22, \"JIIT\"), \"Akshat\" : (21, \"JIIT\")}  \n",
    "  \n",
    "# printing original dictionary \n",
    "print(\"The original dictionary : \" + str(test_dict)) \n",
    "  \n",
    "# using list comprehension + items() + \"+\" operator \n",
    "# Dictionary to list of tuple conversion \n",
    "res = [(key, ) + val for key, val in test_dict.items()] \n",
    "  \n",
    "# print result \n",
    "print(\"The list after conversion : \" + str(res)) \n"
   ]
  }
 ],
 "metadata": {
  "kernelspec": {
   "display_name": "Python 3",
   "language": "python",
   "name": "python3"
  },
  "language_info": {
   "codemirror_mode": {
    "name": "ipython",
    "version": 3
   },
   "file_extension": ".py",
   "mimetype": "text/x-python",
   "name": "python",
   "nbconvert_exporter": "python",
   "pygments_lexer": "ipython3",
   "version": "3.7.6"
  }
 },
 "nbformat": 4,
 "nbformat_minor": 4
}
